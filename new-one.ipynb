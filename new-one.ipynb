{
 "cells": [
  {
   "cell_type": "code",
   "execution_count": 35,
   "id": "8c1b3b86",
   "metadata": {},
   "outputs": [
    {
     "name": "stdout",
     "output_type": "stream",
     "text": [
      "Dataset Shape: (80, 10)\n",
      "\n",
      "First Few Rows:\n",
      "  person lang  z1000t    z0t  z1000mem  stmtL  z1000rel  m1000rel  whours caps\n",
      "0   s018    c   0.017  0.017     22432   16.1     98.10      96.8    16.1   ??\n",
      "1   s030    C     NaN  0.033     16968    4.0     76.47      92.1     4.0   ??\n",
      "2   s036    c  20.900  0.000     11440    8.2      0.00      89.5     8.2   ??\n",
      "3   s066    C   0.750  0.467      2952    7.3     98.48     100.0     7.3   ??\n",
      "4   s078    c   0.050  0.050     22496   10.9     99.24      98.4    10.9   ??\n",
      "5   s015  c++   0.050  0.050     24616   11.2     99.24     100.0    11.2   ??\n",
      "6   s020  C++   1.983  0.550      6384    3.0     98.48      98.4     3.0   ??\n",
      "7   s021  c++   4.867  0.017      5312    NaN    100.00      98.4     NaN   ??\n",
      "8   s025  c++   0.083  0.083     28568    3.5     99.24      98.4     3.5   ??\n",
      "9   s027  c++   1.533  0.000      3472   25.3     98.09     100.0    25.3   ??\n",
      "\n",
      "Data Types:\n",
      "person       object\n",
      "lang         object\n",
      "z1000t      float64\n",
      "z0t         float64\n",
      "z1000mem      int64\n",
      "stmtL       float64\n",
      "z1000rel    float64\n",
      "m1000rel    float64\n",
      "whours      float64\n",
      "caps         object\n",
      "dtype: object\n",
      "\n",
      "Cleaned Dataset Summary:\n",
      "           z1000t        z0t      z1000mem          stmtL    z1000rel  \\\n",
      "count   75.000000  80.000000     80.000000      77.000000   80.000000   \n",
      "mean     8.664013   0.309600  29879.600000    2730.601818   92.577125   \n",
      "std     26.574540   0.361484  20653.096577   16132.743573   24.579252   \n",
      "min      0.017000   0.000000   2952.000000       0.000000    0.000000   \n",
      "25%      0.200000   0.067000  17230.000000       3.000000   99.240000   \n",
      "50%      0.617000   0.167000  22552.000000       6.170000  100.000000   \n",
      "75%      2.091500   0.454250  40434.000000      10.900000  100.000000   \n",
      "max    202.800000   2.017000  91120.000000  131342.000000  100.000000   \n",
      "\n",
      "         m1000rel         whours  \n",
      "count   80.000000      77.000000  \n",
      "mean    74.467500    2730.601818  \n",
      "std     40.341441   16132.743573  \n",
      "min      0.000000       0.000000  \n",
      "25%     10.200000       3.000000  \n",
      "50%     98.400000       6.170000  \n",
      "75%    100.000000      10.900000  \n",
      "max    100.000000  131342.000000  \n",
      "\n",
      "================================================================================\n",
      "PERFORMANCE vs RELIABILITY ANALYSIS\n",
      "================================================================================\n",
      "Records: 75\n",
      "Overall Correlation: -0.0632\n"
     ]
    },
    {
     "data": {
      "application/vnd.plotly.v1+json": {
       "config": {
        "plotlyServerURL": "https://plot.ly"
       },
       "data": [
        {
         "customdata": [
          [
           "s018"
          ],
          [
           "s036"
          ],
          [
           "s066"
          ],
          [
           "s078"
          ]
         ],
         "hovertemplate": "lang=c<br>z1000t (Execution Time)=%{x}<br>z1000rel (%)=%{y}<br>person=%{customdata[0]}<extra></extra>",
         "legendgroup": "c",
         "marker": {
          "color": "#636efa",
          "symbol": "circle"
         },
         "mode": "markers",
         "name": "c",
         "orientation": "v",
         "showlegend": true,
         "type": "scatter",
         "x": {
          "bdata": "nMQgsHJokT9mZmZmZuY0QAAAAAAAAOg/mpmZmZmZqT8=",
          "dtype": "f8"
         },
         "xaxis": "x",
         "y": {
          "bdata": "ZmZmZmaGWEAAAAAAAAAAAB+F61G4nlhAj8L1KFzPWEA=",
          "dtype": "f8"
         },
         "yaxis": "y"
        },
        {
         "hovertemplate": "<b>OLS trendline</b><br>z1000rel = -4.77541 * z1000t + 99.8819<br>R<sup>2</sup>=0.998929<br><br>lang=c<br>z1000t (Execution Time)=%{x}<br>z1000rel (%)=%{y} <b>(trend)</b><extra></extra>",
         "legendgroup": "c",
         "line": {
          "color": "red"
         },
         "marker": {
          "color": "#636efa",
          "symbol": "circle"
         },
         "mode": "lines",
         "name": "c",
         "showlegend": false,
         "type": "scatter",
         "x": {
          "bdata": "nMQgsHJokT+amZmZmZmpPwAAAAAAAOg/ZmZmZmbmNEA=",
          "dtype": "f8"
         },
         "xaxis": "x",
         "y": {
          "bdata": "7kRcnz7zWEAPv46xKOlYQAJSIoE4E1hAAExg6Txssz8=",
          "dtype": "f8"
         },
         "yaxis": "y"
        },
        {
         "customdata": [
          [
           "s015"
          ],
          [
           "s020"
          ],
          [
           "s021"
          ],
          [
           "s025"
          ],
          [
           "s027"
          ],
          [
           "s033"
          ],
          [
           "s034"
          ],
          [
           "s042"
          ],
          [
           "s051"
          ],
          [
           "s090"
          ],
          [
           "s096"
          ]
         ],
         "hovertemplate": "lang=c++<br>z1000t (Execution Time)=%{x}<br>z1000rel (%)=%{y}<br>person=%{customdata[0]}<extra></extra>",
         "legendgroup": "c++",
         "marker": {
          "color": "#EF553B",
          "symbol": "circle"
         },
         "mode": "markers",
         "name": "c++",
         "orientation": "v",
         "showlegend": true,
         "type": "scatter",
         "x": {
          "bdata": "mpmZmZmZqT/ufD81Xrr/PyuHFtnOdxNAc2iR7Xw/tT+6SQwCK4f4P0w3iUFg5aA/ZmZmZmZmNUBMN4lBYOWgPzMzMzMzM8M/eekmMQis+j/y0k1iEFjtPw==",
          "dtype": "f8"
         },
         "xaxis": "x",
         "y": {
          "bdata": "j8L1KFzPWEAfhetRuJ5YQAAAAAAAAFlAj8L1KFzPWED2KFyPwoVYQI/C9Shcz1hAAAAAAAAAAAAAAAAAAABZQAAAAAAAAFlAH4XrUbieWEAAAAAAAABZQA==",
          "dtype": "f8"
         },
         "yaxis": "y"
        },
        {
         "hovertemplate": "<b>OLS trendline</b><br>z1000rel = -4.64055 * z1000t + 104.054<br>R<sup>2</sup>=0.947129<br><br>lang=c++<br>z1000t (Execution Time)=%{x}<br>z1000rel (%)=%{y} <b>(trend)</b><extra></extra>",
         "legendgroup": "c++",
         "line": {
          "color": "red"
         },
         "marker": {
          "color": "#EF553B",
          "symbol": "circle"
         },
         "mode": "lines",
         "name": "c++",
         "showlegend": false,
         "type": "scatter",
         "x": {
          "bdata": "TDeJQWDloD9MN4lBYOWgP5qZmZmZmak/c2iR7Xw/tT8zMzMzMzPDP/LSTWIQWO0/ukkMAiuH+D956SYxCKz6P+58PzVeuv8/K4cW2c53E0BmZmZmZmY1QA==",
          "dtype": "f8"
         },
         "xaxis": "x",
         "y": {
          "bdata": "gHnJWKL5WUCAeclYovlZQLeRhdKV9FlAm6LjzcjqWUDu47m84tZZQLxk/hIX81hAr0raESQ8WEBUzYbvVxRYQKS8xS9+tldAIBQRNvVdVEDQIIJSsvsSQA==",
          "dtype": "f8"
         },
         "yaxis": "y"
        },
        {
         "customdata": [
          [
           "s017"
          ],
          [
           "s023"
          ],
          [
           "s037"
          ],
          [
           "s040"
          ],
          [
           "s043"
          ],
          [
           "s047"
          ],
          [
           "s050"
          ],
          [
           "s053"
          ],
          [
           "s054"
          ],
          [
           "s056"
          ],
          [
           "s057"
          ],
          [
           "s059"
          ],
          [
           "s060"
          ],
          [
           "s062"
          ],
          [
           "s063"
          ],
          [
           "s065"
          ],
          [
           "s068"
          ],
          [
           "s072"
          ],
          [
           "s081"
          ],
          [
           "s084"
          ],
          [
           "s087"
          ],
          [
           "s093"
          ],
          [
           "s099"
          ],
          [
           "s102"
          ]
         ],
         "hovertemplate": "lang=java<br>z1000t (Execution Time)=%{x}<br>z1000rel (%)=%{y}<br>person=%{customdata[0]}<extra></extra>",
         "legendgroup": "java",
         "marker": {
          "color": "#00cc96",
          "symbol": "circle"
         },
         "mode": "markers",
         "name": "java",
         "orientation": "v",
         "showlegend": true,
         "type": "scatter",
         "x": {
          "bdata": "qMZLN4lB5D+q8dJNYhAFQOkmMQisHNI/fT81XrpJ1D+amZmZmZkBQJHtfD813hlAmpmZmZmZyT9KDAIrhxbRPzMzMzMzM/s/ZmZmZmZm1j8X2c73U+PdP5qZmZmZmRBA3SQGgZVDDkDNzMzMzMwwQIcW2c73U/U/Rrbz/dR49z8zMzMzMzM/QJqZmZmZGT5AmpmZmZmZyT8zMzMzMzPDP0oMAiuHFtE/zczMzMyMQkBKDAIrhxbRP8dLN4lBYMU/",
          "dtype": "f8"
         },
         "xaxis": "x",
         "y": {
          "bdata": "AAAAAAAAWUBmZmZmZmYeQAAAAAAAAFlAAAAAAAAAWUBmZmZmZrZYQAAAAAAAAFlAAAAAAAAAWUBI4XoUrudYQAAAAAAAAFlAAAAAAAAAWUAAAAAAAABZQAAAAAAAAFlAZmZmZma2WEAAAAAAAABZQAAAAAAAAFlAAAAAAAAAWUAAAAAAAABZQAAAAAAAAFlAAAAAAAAAWUAAAAAAAABZQAAAAAAAAFlAAAAAAAAAWUAAAAAAAABZQArXo3A9Csc/",
          "dtype": "f8"
         },
         "yaxis": "y"
        },
        {
         "hovertemplate": "<b>OLS trendline</b><br>z1000rel = 0.319648 * z1000t + 89.9812<br>R<sup>2</sup>=0.016817<br><br>lang=java<br>z1000t (Execution Time)=%{x}<br>z1000rel (%)=%{y} <b>(trend)</b><extra></extra>",
         "legendgroup": "java",
         "line": {
          "color": "red"
         },
         "marker": {
          "color": "#00cc96",
          "symbol": "circle"
         },
         "mode": "lines",
         "name": "java",
         "showlegend": false,
         "type": "scatter",
         "x": {
          "bdata": "MzMzMzMzwz/HSzeJQWDFP5qZmZmZmck/mpmZmZmZyT9KDAIrhxbRP0oMAiuHFtE/SgwCK4cW0T/pJjEIrBzSP30/NV66SdQ/ZmZmZmZm1j8X2c73U+PdP6jGSzeJQeQ/hxbZzvdT9T9GtvP91Hj3PzMzMzMzM/s/mpmZmZmZAUCq8dJNYhAFQN0kBoGVQw5AmpmZmZmZEECR7Xw/Nd4ZQM3MzMzMzDBAmpmZmZkZPkAzMzMzMzM/QM3MzMzMjEJA",
          "dtype": "f8"
         },
         "xaxis": "x",
         "y": {
          "bdata": "uUmURN6BVkDMn3xMN4JWQJj7mR/kglZAmPuZH+SCVkCKA4gCQ4RWQIoDiAJDhFZAigOIAkOEVkBCCb3NloRWQGm1jd1IhVZANBGrsPWFVkAGy55uWohWQFrm5Mq/i1ZAi6A0xRGaVkBwsBCLz5xWQLfTRMqToVZAbMZ9WM6rVkAuscgDqrRWQDWsS7EwzFZAYd9btrLTVkCCK0oZGQNXQKuo/Cp81ldARnrnvpHmWEBuw2SREv1YQC3ABIbFdVlA",
          "dtype": "f8"
         },
         "yaxis": "y"
        },
        {
         "customdata": [
          [
           "s149101"
          ],
          [
           "s149102"
          ],
          [
           "s149103"
          ],
          [
           "s149105"
          ],
          [
           "s149107"
          ],
          [
           "s149108"
          ],
          [
           "s149109"
          ],
          [
           "s149110"
          ],
          [
           "s149111"
          ],
          [
           "s149112"
          ],
          [
           "s149113"
          ],
          [
           "s149114"
          ]
         ],
         "hovertemplate": "lang=perl<br>z1000t (Execution Time)=%{x}<br>z1000rel (%)=%{y}<br>person=%{customdata[0]}<extra></extra>",
         "legendgroup": "perl",
         "marker": {
          "color": "#ab63fa",
          "symbol": "circle"
         },
         "mode": "markers",
         "name": "perl",
         "orientation": "v",
         "showlegend": true,
         "type": "scatter",
         "x": {
          "bdata": "SgwCK4cW0T9mZmZmZmY1QHNoke18P7U/mpmZmZmZyT9mZmZmZmbWP7bz/dR46d4/x0s3iUFgxT+amZmZmZnJP0oMAiuHFtE/AAAAAAAA0D8AAAAAAOBQQB1aZDvfT9U/",
          "dtype": "f8"
         },
         "xaxis": "x",
         "y": {
          "bdata": "j8L1KFzPWEAAAAAAAAAAAAAAAAAAAFlAAAAAAAAAWUAAAAAAAABZQAAAAAAAAFlAAAAAAAAAWUCPwvUoXM9YQAAAAAAAAFlAAAAAAAAAWUAAAAAAAABZQI/C9Shcz1hA",
          "dtype": "f8"
         },
         "yaxis": "y"
        },
        {
         "hovertemplate": "<b>OLS trendline</b><br>z1000rel = -0.315179 * z1000t + 93.8799<br>R<sup>2</sup>=0.046974<br><br>lang=perl<br>z1000t (Execution Time)=%{x}<br>z1000rel (%)=%{y} <b>(trend)</b><extra></extra>",
         "legendgroup": "perl",
         "line": {
          "color": "red"
         },
         "marker": {
          "color": "#ab63fa",
          "symbol": "circle"
         },
         "mode": "lines",
         "name": "perl",
         "showlegend": false,
         "type": "scatter",
         "x": {
          "bdata": "c2iR7Xw/tT/HSzeJQWDFP5qZmZmZmck/mpmZmZmZyT8AAAAAAADQP0oMAiuHFtE/SgwCK4cW0T8dWmQ730/VP2ZmZmZmZtY/tvP91Hjp3j9mZmZmZmY1QAAAAAAA4FBA",
          "dtype": "f8"
         },
         "xaxis": "x",
         "y": {
          "bdata": "6chsuaN2V0CbIUD18XRXQOHfwIxHdFdA4d/AjEd0V0Cg0QdbRXNXQBkFzpHtcldAGQXOke1yV0Clgc/AmHFXQB+1lfdAcVdA41akK5JuV0CZREEypchVQFDvwx2+JlJA",
          "dtype": "f8"
         },
         "yaxis": "y"
        },
        {
         "customdata": [
          [
           "s149201"
          ],
          [
           "s149202"
          ],
          [
           "s149203"
          ],
          [
           "s149204"
          ],
          [
           "s149205"
          ],
          [
           "s149206"
          ],
          [
           "s149207"
          ],
          [
           "s149208"
          ],
          [
           "s149209"
          ],
          [
           "s149210"
          ],
          [
           "s149212"
          ],
          [
           "s149213"
          ]
         ],
         "hovertemplate": "lang=python<br>z1000t (Execution Time)=%{x}<br>z1000rel (%)=%{y}<br>person=%{customdata[0]}<extra></extra>",
         "legendgroup": "python",
         "marker": {
          "color": "#FFA15A",
          "symbol": "circle"
         },
         "mode": "markers",
         "name": "python",
         "orientation": "v",
         "showlegend": true,
         "type": "scatter",
         "x": {
          "bdata": "zczMzMzM5D+HFtnO91P5PwaBlUOLbMc/wcqhRbbzvT9zaJHtfD+1P8HKoUW2870/oBov3SQGwT/NzMzMzMzcPzMzMzMzE1JAAAAAAAAA0D9YObTIdr7jP9v5fmq8dOc/",
          "dtype": "f8"
         },
         "xaxis": "x",
         "y": {
          "bdata": "j8L1KFzPWECPwvUoXM9YQAAAAAAAAFlAAAAAAAAAWUAAAAAAAABZQAAAAAAAAFlAAAAAAAAAWUCPwvUoXM9YQAAAAAAAAFlAAAAAAAAAWUCPwvUoXM9YQI/C9Shcz1hA",
          "dtype": "f8"
         },
         "yaxis": "y"
        },
        {
         "hovertemplate": "<b>OLS trendline</b><br>z1000rel = 0.00451707 * z1000t + 99.6543<br>R<sup>2</sup>=0.057344<br><br>lang=python<br>z1000t (Execution Time)=%{x}<br>z1000rel (%)=%{y} <b>(trend)</b><extra></extra>",
         "legendgroup": "python",
         "line": {
          "color": "red"
         },
         "marker": {
          "color": "#FFA15A",
          "symbol": "circle"
         },
         "mode": "lines",
         "name": "python",
         "showlegend": false,
         "type": "scatter",
         "x": {
          "bdata": "c2iR7Xw/tT/ByqFFtvO9P8HKoUW2870/oBov3SQGwT8GgZVDi2zHPwAAAAAAANA/zczMzMzM3D9YObTIdr7jP83MzMzMzOQ/2/l+arx05z+HFtnO91P5PzMzMzMzE1JA",
          "dtype": "f8"
         },
         "xaxis": "x",
         "y": {
          "bdata": "wbU6qeXpWEAVdWQt6OlYQBV1ZC3o6VhAeSmHXOnpWEAyndMP7elYQJTwNAXy6VhAdr9m0gDqWEBK+mAuDepYQFiOmJ8P6lhAH5YcxBXqWEBfRTCsVOpYQA5SjEbG/lhA",
          "dtype": "f8"
         },
         "yaxis": "y"
        },
        {
         "customdata": [
          [
           "s149301"
          ],
          [
           "s149302"
          ],
          [
           "s149303"
          ]
         ],
         "hovertemplate": "lang=rexx<br>z1000t (Execution Time)=%{x}<br>z1000rel (%)=%{y}<br>person=%{customdata[0]}<extra></extra>",
         "legendgroup": "rexx",
         "marker": {
          "color": "#19d3f3",
          "symbol": "circle"
         },
         "mode": "markers",
         "name": "rexx",
         "orientation": "v",
         "showlegend": true,
         "type": "scatter",
         "x": {
          "bdata": "vp8aL90k6j9mZmZmZmY5QAAAAAAAADVA",
          "dtype": "f8"
         },
         "xaxis": "x",
         "y": {
          "bdata": "AAAAAAAAWUAAAAAAAGBGQEjhehSu51hA",
          "dtype": "f8"
         },
         "yaxis": "y"
        },
        {
         "hovertemplate": "<b>OLS trendline</b><br>z1000rel = -1.55892 * z1000t + 105.993<br>R<sup>2</sup>=0.413244<br><br>lang=rexx<br>z1000t (Execution Time)=%{x}<br>z1000rel (%)=%{y} <b>(trend)</b><extra></extra>",
         "legendgroup": "rexx",
         "line": {
          "color": "red"
         },
         "marker": {
          "color": "#19d3f3",
          "symbol": "circle"
         },
         "mode": "lines",
         "name": "rexx",
         "showlegend": false,
         "type": "scatter",
         "x": {
          "bdata": "vp8aL90k6j8AAAAAAAA1QGZmZmZmZjlA",
          "dtype": "f8"
         },
         "xaxis": "x",
         "y": {
          "bdata": "82yfzwIuWkC2n2u3VFBSQKLUb41WmVBA",
          "dtype": "f8"
         },
         "yaxis": "y"
        },
        {
         "customdata": [
          [
           "s149402"
          ],
          [
           "s149403"
          ],
          [
           "s149405"
          ],
          [
           "s149406"
          ],
          [
           "s149407"
          ],
          [
           "s149408"
          ],
          [
           "s149409"
          ],
          [
           "s149410"
          ],
          [
           "s149411"
          ]
         ],
         "hovertemplate": "lang=tcl<br>z1000t (Execution Time)=%{x}<br>z1000rel (%)=%{y}<br>person=%{customdata[0]}<extra></extra>",
         "legendgroup": "tcl",
         "marker": {
          "color": "#FF6692",
          "symbol": "circle"
         },
         "mode": "markers",
         "name": "tcl",
         "orientation": "v",
         "showlegend": true,
         "type": "scatter",
         "x": {
          "bdata": "vp8aL90k4j9YObTIdr7jP4ts5/up8e4/zczMzMzM5D91kxgEVg7pP5qZmZmZWWlAQmDl0CLb5T9mZmZmZmY9QBfZzvdT490/",
          "dtype": "f8"
         },
         "xaxis": "x",
         "y": {
          "bdata": "AAAAAAAAWUAAAAAAAABZQAAAAAAAAFlAAAAAAAAAWUAAAAAAAABZQAAAAAAAAFlAAAAAAAAAWUAAAAAAAABZQAAAAAAAAFlA",
          "dtype": "f8"
         },
         "yaxis": "y"
        },
        {
         "hovertemplate": "<b>OLS trendline</b><br>z1000rel = -4.16334e-17 * z1000t + 100<br>R<sup>2</sup>=-inf<br><br>lang=tcl<br>z1000t (Execution Time)=%{x}<br>z1000rel (%)=%{y} <b>(trend)</b><extra></extra>",
         "legendgroup": "tcl",
         "line": {
          "color": "red"
         },
         "marker": {
          "color": "#FF6692",
          "symbol": "circle"
         },
         "mode": "lines",
         "name": "tcl",
         "showlegend": false,
         "type": "scatter",
         "x": {
          "bdata": "F9nO91Pj3T++nxov3STiP1g5tMh2vuM/zczMzMzM5D9CYOXQItvlP3WTGARWDuk/i2zn+6nx7j9mZmZmZmY9QJqZmZmZWWlA",
          "dtype": "f8"
         },
         "xaxis": "x",
         "y": {
          "bdata": "////////WED///////9YQP///////1hA////////WED///////9YQP///////1hA////////WED///////9YQP7//////1hA",
          "dtype": "f8"
         },
         "yaxis": "y"
        }
       ],
       "layout": {
        "height": 600,
        "legend": {
         "title": {
          "text": "lang"
         },
         "tracegroupgap": 0
        },
        "template": {
         "data": {
          "bar": [
           {
            "error_x": {
             "color": "#2a3f5f"
            },
            "error_y": {
             "color": "#2a3f5f"
            },
            "marker": {
             "line": {
              "color": "white",
              "width": 0.5
             },
             "pattern": {
              "fillmode": "overlay",
              "size": 10,
              "solidity": 0.2
             }
            },
            "type": "bar"
           }
          ],
          "barpolar": [
           {
            "marker": {
             "line": {
              "color": "white",
              "width": 0.5
             },
             "pattern": {
              "fillmode": "overlay",
              "size": 10,
              "solidity": 0.2
             }
            },
            "type": "barpolar"
           }
          ],
          "carpet": [
           {
            "aaxis": {
             "endlinecolor": "#2a3f5f",
             "gridcolor": "#C8D4E3",
             "linecolor": "#C8D4E3",
             "minorgridcolor": "#C8D4E3",
             "startlinecolor": "#2a3f5f"
            },
            "baxis": {
             "endlinecolor": "#2a3f5f",
             "gridcolor": "#C8D4E3",
             "linecolor": "#C8D4E3",
             "minorgridcolor": "#C8D4E3",
             "startlinecolor": "#2a3f5f"
            },
            "type": "carpet"
           }
          ],
          "choropleth": [
           {
            "colorbar": {
             "outlinewidth": 0,
             "ticks": ""
            },
            "type": "choropleth"
           }
          ],
          "contour": [
           {
            "colorbar": {
             "outlinewidth": 0,
             "ticks": ""
            },
            "colorscale": [
             [
              0,
              "#0d0887"
             ],
             [
              0.1111111111111111,
              "#46039f"
             ],
             [
              0.2222222222222222,
              "#7201a8"
             ],
             [
              0.3333333333333333,
              "#9c179e"
             ],
             [
              0.4444444444444444,
              "#bd3786"
             ],
             [
              0.5555555555555556,
              "#d8576b"
             ],
             [
              0.6666666666666666,
              "#ed7953"
             ],
             [
              0.7777777777777778,
              "#fb9f3a"
             ],
             [
              0.8888888888888888,
              "#fdca26"
             ],
             [
              1,
              "#f0f921"
             ]
            ],
            "type": "contour"
           }
          ],
          "contourcarpet": [
           {
            "colorbar": {
             "outlinewidth": 0,
             "ticks": ""
            },
            "type": "contourcarpet"
           }
          ],
          "heatmap": [
           {
            "colorbar": {
             "outlinewidth": 0,
             "ticks": ""
            },
            "colorscale": [
             [
              0,
              "#0d0887"
             ],
             [
              0.1111111111111111,
              "#46039f"
             ],
             [
              0.2222222222222222,
              "#7201a8"
             ],
             [
              0.3333333333333333,
              "#9c179e"
             ],
             [
              0.4444444444444444,
              "#bd3786"
             ],
             [
              0.5555555555555556,
              "#d8576b"
             ],
             [
              0.6666666666666666,
              "#ed7953"
             ],
             [
              0.7777777777777778,
              "#fb9f3a"
             ],
             [
              0.8888888888888888,
              "#fdca26"
             ],
             [
              1,
              "#f0f921"
             ]
            ],
            "type": "heatmap"
           }
          ],
          "histogram": [
           {
            "marker": {
             "pattern": {
              "fillmode": "overlay",
              "size": 10,
              "solidity": 0.2
             }
            },
            "type": "histogram"
           }
          ],
          "histogram2d": [
           {
            "colorbar": {
             "outlinewidth": 0,
             "ticks": ""
            },
            "colorscale": [
             [
              0,
              "#0d0887"
             ],
             [
              0.1111111111111111,
              "#46039f"
             ],
             [
              0.2222222222222222,
              "#7201a8"
             ],
             [
              0.3333333333333333,
              "#9c179e"
             ],
             [
              0.4444444444444444,
              "#bd3786"
             ],
             [
              0.5555555555555556,
              "#d8576b"
             ],
             [
              0.6666666666666666,
              "#ed7953"
             ],
             [
              0.7777777777777778,
              "#fb9f3a"
             ],
             [
              0.8888888888888888,
              "#fdca26"
             ],
             [
              1,
              "#f0f921"
             ]
            ],
            "type": "histogram2d"
           }
          ],
          "histogram2dcontour": [
           {
            "colorbar": {
             "outlinewidth": 0,
             "ticks": ""
            },
            "colorscale": [
             [
              0,
              "#0d0887"
             ],
             [
              0.1111111111111111,
              "#46039f"
             ],
             [
              0.2222222222222222,
              "#7201a8"
             ],
             [
              0.3333333333333333,
              "#9c179e"
             ],
             [
              0.4444444444444444,
              "#bd3786"
             ],
             [
              0.5555555555555556,
              "#d8576b"
             ],
             [
              0.6666666666666666,
              "#ed7953"
             ],
             [
              0.7777777777777778,
              "#fb9f3a"
             ],
             [
              0.8888888888888888,
              "#fdca26"
             ],
             [
              1,
              "#f0f921"
             ]
            ],
            "type": "histogram2dcontour"
           }
          ],
          "mesh3d": [
           {
            "colorbar": {
             "outlinewidth": 0,
             "ticks": ""
            },
            "type": "mesh3d"
           }
          ],
          "parcoords": [
           {
            "line": {
             "colorbar": {
              "outlinewidth": 0,
              "ticks": ""
             }
            },
            "type": "parcoords"
           }
          ],
          "pie": [
           {
            "automargin": true,
            "type": "pie"
           }
          ],
          "scatter": [
           {
            "fillpattern": {
             "fillmode": "overlay",
             "size": 10,
             "solidity": 0.2
            },
            "type": "scatter"
           }
          ],
          "scatter3d": [
           {
            "line": {
             "colorbar": {
              "outlinewidth": 0,
              "ticks": ""
             }
            },
            "marker": {
             "colorbar": {
              "outlinewidth": 0,
              "ticks": ""
             }
            },
            "type": "scatter3d"
           }
          ],
          "scattercarpet": [
           {
            "marker": {
             "colorbar": {
              "outlinewidth": 0,
              "ticks": ""
             }
            },
            "type": "scattercarpet"
           }
          ],
          "scattergeo": [
           {
            "marker": {
             "colorbar": {
              "outlinewidth": 0,
              "ticks": ""
             }
            },
            "type": "scattergeo"
           }
          ],
          "scattergl": [
           {
            "marker": {
             "colorbar": {
              "outlinewidth": 0,
              "ticks": ""
             }
            },
            "type": "scattergl"
           }
          ],
          "scattermap": [
           {
            "marker": {
             "colorbar": {
              "outlinewidth": 0,
              "ticks": ""
             }
            },
            "type": "scattermap"
           }
          ],
          "scattermapbox": [
           {
            "marker": {
             "colorbar": {
              "outlinewidth": 0,
              "ticks": ""
             }
            },
            "type": "scattermapbox"
           }
          ],
          "scatterpolar": [
           {
            "marker": {
             "colorbar": {
              "outlinewidth": 0,
              "ticks": ""
             }
            },
            "type": "scatterpolar"
           }
          ],
          "scatterpolargl": [
           {
            "marker": {
             "colorbar": {
              "outlinewidth": 0,
              "ticks": ""
             }
            },
            "type": "scatterpolargl"
           }
          ],
          "scatterternary": [
           {
            "marker": {
             "colorbar": {
              "outlinewidth": 0,
              "ticks": ""
             }
            },
            "type": "scatterternary"
           }
          ],
          "surface": [
           {
            "colorbar": {
             "outlinewidth": 0,
             "ticks": ""
            },
            "colorscale": [
             [
              0,
              "#0d0887"
             ],
             [
              0.1111111111111111,
              "#46039f"
             ],
             [
              0.2222222222222222,
              "#7201a8"
             ],
             [
              0.3333333333333333,
              "#9c179e"
             ],
             [
              0.4444444444444444,
              "#bd3786"
             ],
             [
              0.5555555555555556,
              "#d8576b"
             ],
             [
              0.6666666666666666,
              "#ed7953"
             ],
             [
              0.7777777777777778,
              "#fb9f3a"
             ],
             [
              0.8888888888888888,
              "#fdca26"
             ],
             [
              1,
              "#f0f921"
             ]
            ],
            "type": "surface"
           }
          ],
          "table": [
           {
            "cells": {
             "fill": {
              "color": "#EBF0F8"
             },
             "line": {
              "color": "white"
             }
            },
            "header": {
             "fill": {
              "color": "#C8D4E3"
             },
             "line": {
              "color": "white"
             }
            },
            "type": "table"
           }
          ]
         },
         "layout": {
          "annotationdefaults": {
           "arrowcolor": "#2a3f5f",
           "arrowhead": 0,
           "arrowwidth": 1
          },
          "autotypenumbers": "strict",
          "coloraxis": {
           "colorbar": {
            "outlinewidth": 0,
            "ticks": ""
           }
          },
          "colorscale": {
           "diverging": [
            [
             0,
             "#8e0152"
            ],
            [
             0.1,
             "#c51b7d"
            ],
            [
             0.2,
             "#de77ae"
            ],
            [
             0.3,
             "#f1b6da"
            ],
            [
             0.4,
             "#fde0ef"
            ],
            [
             0.5,
             "#f7f7f7"
            ],
            [
             0.6,
             "#e6f5d0"
            ],
            [
             0.7,
             "#b8e186"
            ],
            [
             0.8,
             "#7fbc41"
            ],
            [
             0.9,
             "#4d9221"
            ],
            [
             1,
             "#276419"
            ]
           ],
           "sequential": [
            [
             0,
             "#0d0887"
            ],
            [
             0.1111111111111111,
             "#46039f"
            ],
            [
             0.2222222222222222,
             "#7201a8"
            ],
            [
             0.3333333333333333,
             "#9c179e"
            ],
            [
             0.4444444444444444,
             "#bd3786"
            ],
            [
             0.5555555555555556,
             "#d8576b"
            ],
            [
             0.6666666666666666,
             "#ed7953"
            ],
            [
             0.7777777777777778,
             "#fb9f3a"
            ],
            [
             0.8888888888888888,
             "#fdca26"
            ],
            [
             1,
             "#f0f921"
            ]
           ],
           "sequentialminus": [
            [
             0,
             "#0d0887"
            ],
            [
             0.1111111111111111,
             "#46039f"
            ],
            [
             0.2222222222222222,
             "#7201a8"
            ],
            [
             0.3333333333333333,
             "#9c179e"
            ],
            [
             0.4444444444444444,
             "#bd3786"
            ],
            [
             0.5555555555555556,
             "#d8576b"
            ],
            [
             0.6666666666666666,
             "#ed7953"
            ],
            [
             0.7777777777777778,
             "#fb9f3a"
            ],
            [
             0.8888888888888888,
             "#fdca26"
            ],
            [
             1,
             "#f0f921"
            ]
           ]
          },
          "colorway": [
           "#636efa",
           "#EF553B",
           "#00cc96",
           "#ab63fa",
           "#FFA15A",
           "#19d3f3",
           "#FF6692",
           "#B6E880",
           "#FF97FF",
           "#FECB52"
          ],
          "font": {
           "color": "#2a3f5f"
          },
          "geo": {
           "bgcolor": "white",
           "lakecolor": "white",
           "landcolor": "white",
           "showlakes": true,
           "showland": true,
           "subunitcolor": "#C8D4E3"
          },
          "hoverlabel": {
           "align": "left"
          },
          "hovermode": "closest",
          "mapbox": {
           "style": "light"
          },
          "paper_bgcolor": "white",
          "plot_bgcolor": "white",
          "polar": {
           "angularaxis": {
            "gridcolor": "#EBF0F8",
            "linecolor": "#EBF0F8",
            "ticks": ""
           },
           "bgcolor": "white",
           "radialaxis": {
            "gridcolor": "#EBF0F8",
            "linecolor": "#EBF0F8",
            "ticks": ""
           }
          },
          "scene": {
           "xaxis": {
            "backgroundcolor": "white",
            "gridcolor": "#DFE8F3",
            "gridwidth": 2,
            "linecolor": "#EBF0F8",
            "showbackground": true,
            "ticks": "",
            "zerolinecolor": "#EBF0F8"
           },
           "yaxis": {
            "backgroundcolor": "white",
            "gridcolor": "#DFE8F3",
            "gridwidth": 2,
            "linecolor": "#EBF0F8",
            "showbackground": true,
            "ticks": "",
            "zerolinecolor": "#EBF0F8"
           },
           "zaxis": {
            "backgroundcolor": "white",
            "gridcolor": "#DFE8F3",
            "gridwidth": 2,
            "linecolor": "#EBF0F8",
            "showbackground": true,
            "ticks": "",
            "zerolinecolor": "#EBF0F8"
           }
          },
          "shapedefaults": {
           "line": {
            "color": "#2a3f5f"
           }
          },
          "ternary": {
           "aaxis": {
            "gridcolor": "#DFE8F3",
            "linecolor": "#A2B1C6",
            "ticks": ""
           },
           "baxis": {
            "gridcolor": "#DFE8F3",
            "linecolor": "#A2B1C6",
            "ticks": ""
           },
           "bgcolor": "white",
           "caxis": {
            "gridcolor": "#DFE8F3",
            "linecolor": "#A2B1C6",
            "ticks": ""
           }
          },
          "title": {
           "x": 0.05
          },
          "xaxis": {
           "automargin": true,
           "gridcolor": "#EBF0F8",
           "linecolor": "#EBF0F8",
           "ticks": "",
           "title": {
            "standoff": 15
           },
           "zerolinecolor": "#EBF0F8",
           "zerolinewidth": 2
          },
          "yaxis": {
           "automargin": true,
           "gridcolor": "#EBF0F8",
           "linecolor": "#EBF0F8",
           "ticks": "",
           "title": {
            "standoff": 15
           },
           "zerolinecolor": "#EBF0F8",
           "zerolinewidth": 2
          }
         }
        },
        "title": {
         "text": "Performance vs Reliability: z1000t vs z1000rel"
        },
        "width": 1000,
        "xaxis": {
         "anchor": "y",
         "domain": [
          0,
          1
         ],
         "title": {
          "text": "z1000t (Execution Time)"
         }
        },
        "yaxis": {
         "anchor": "x",
         "domain": [
          0,
          1
         ],
         "title": {
          "text": "z1000rel (%)"
         }
        }
       }
      }
     },
     "metadata": {},
     "output_type": "display_data"
    },
    {
     "data": {
      "application/vnd.plotly.v1+json": {
       "config": {
        "plotlyServerURL": "https://plot.ly"
       },
       "data": [
        {
         "hovertemplate": "<b>%{text}</b><br>z1000t: %{x:.2f}<br>z1000rel: %{y:.2f}<extra></extra>",
         "marker": {
          "color": "#636EFA",
          "size": 8
         },
         "mode": "markers",
         "name": "C",
         "showlegend": false,
         "text": [
          "s018",
          "s036",
          "s066",
          "s078"
         ],
         "type": "scatter",
         "x": {
          "bdata": "nMQgsHJokT9mZmZmZuY0QAAAAAAAAOg/mpmZmZmZqT8=",
          "dtype": "f8"
         },
         "xaxis": "x",
         "y": {
          "bdata": "ZmZmZmaGWEAAAAAAAAAAAB+F61G4nlhAj8L1KFzPWEA=",
          "dtype": "f8"
         },
         "yaxis": "y"
        },
        {
         "hoverinfo": "skip",
         "line": {
          "color": "red",
          "dash": "dash",
          "width": 2
         },
         "mode": "lines",
         "showlegend": false,
         "type": "scatter",
         "x": {
          "bdata": "nMQgsHJokT/6STg5Hi3NP7A9Ng6XFtw/MSvof0/L5D+LN7V4U4vrP/IhwbirJfE/Hqgnta2F9D9LLo6xr+X3P3i09K2xRfs/pTpbqrOl/j9p4GDT2gIBQH8jlNHbsgJAlWbHz9xiBECsqfrN3RIGQMLsLczewgdA2S9hyt9yCUDvcpTI4CILQAW2x8bh0gxAHPn6xOKCDkAaHpfhcRkQQKW/sGBy8RBAMGHK33LJEUC7AuRec6ESQEak/d1zeRNA0UUXXXRRFEBd5zDcdCkVQOiISlt1ARZAcypk2nXZFkD+y31ZdrEXQIltl9h2iRhAFQ+xV3dhGUCgsMrWdzkaQCtS5FV4ERtAtvP91HjpG0BBlRdUecEcQM02MdN5mR1AWNhKUnpxHkDjeWTRekkfQLcNP6i9ECBAfN7L5718IEBCr1gnvuggQAeA5Wa+VCFAzVBypr7AIUCTIf/lviwiQFjyiyW/mCJAHsMYZb8EI0Djk6Wkv3AjQKlkMuS/3CNAbjW/I8BIJEA0BkxjwLQkQPrW2KLAICVAv6dl4sCMJUCFePIhwfglQEpJf2HBZCZAEBoMocHQJkDW6pjgwTwnQJu7JSDCqCdAYYyyX8IUKEAmXT+fwoAoQOwtzN7C7ChAsv5YHsNYKUB3z+Vdw8QpQD2gcp3DMCpAAnH/3MOcKkDIQYwcxAgrQI4SGVzEdCtAU+Olm8TgK0AZtDLbxEwsQN6EvxrFuCxApFVMWsUkLUBqJtmZxZAtQC/3ZdnF/C1A9cfyGMZoLkC6mH9YxtQuQIBpDJjGQC9ARjqZ18asL0CGBZOLYwwwQOhtWatjQjBAS9Yfy2N4MECuPubqY64wQBGnrApk5DBAdA9zKmQaMUDWdzlKZFAxQDng/2lkhjFAnEjGiWS8MUD/sIypZPIxQGIZU8lkKDJAxIEZ6WReMkAn6t8IZZQyQIpSpihlyjJA7bpsSGUAM0BQIzNoZTYzQLKL+YdlbDNAFfS/p2WiM0B4XIbHZdgzQNvETOdlDjRAPS0TB2ZENECgldkmZno0QAP+n0ZmsDRAZmZmZmbmNEA=",
          "dtype": "f8"
         },
         "xaxis": "x",
         "y": {
          "bdata": "8URcnz7zWEBFdtWqxrJYQJinTrZOclhA69jHwdYxWEA+CkHNXvFXQJE7utjmsFdA5Gwz5G5wV0A3nqzv9i9XQIrPJft+71ZA3gCfBgevVkAxMhgSj25WQIRjkR0XLlZA15QKKZ/tVUAqxoM0J61VQH33/D+vbFVA0Ch2SzcsVUAjWu9Wv+tUQHaLaGJHq1RAyrzhbc9qVEAc7lp5VypUQHAf1ITf6VNAw1BNkGepU0AWgsab72hTQGmzP6d3KFNAvOS4sv/nUkAPFjK+h6dSQGJHq8kPZ1JAtngk1ZcmUkAJqp3gH+ZRQFzbFuynpVFArwyQ9y9lUUACPgkDuCRRQFVvgg5A5FBAqKD7GcijUED80XQlUGNQQE4D7jDYIlBAQ2nOeMDET0Dpy8CP0ENPQJAus6bgwk5AN5GlvfBBTkDc85fUAMFNQINWiusQQE1AKbl8AiG/TEDPG28ZMT5MQHZ+YTBBvUtAG+FTR1E8S0DCQ0ZeYbtKQGimOHVxOkpADwkrjIG5SUC1ax2jkThJQFvOD7qht0hAATEC0bE2SECnk/TnwbVHQE725v7RNEdA9FjZFeKzRkCau8ss8jJGQEEevkMCskVA5oCwWhIxRUCN46JxIrBEQDNGlYgyL0RA2aiHn0KuQ0CAC3q2Ui1DQCVubM1irEJAzNBe5HIrQkByM1H7gqpBQBiWQxKTKUFAvvg1KaOoQEBkWyhAsydAQBh8Na6GTT9AZEEa3KZLPkCwBv8Jx0k9QPzL4zfnRzxASJHIZQdGO0CUVq2TJ0Q6QOAbksFHQjlALOF272dAOEB4plsdiD43QMhrQEuoPDZAFDElecg6NUBg9gmn6Dg0QKy77tQINzNA+IDTAik1MkBIRrgwSTMxQJALnV5pMTBAuKEDGRNfLkBQLM10U1ssQOi2ltCTVypAiEFgLNRTKEAgzCmIFFAmQLhW8+NUTCRAUOG8P5VIIkDoa4ab1UQgQBDtn+4rghxAQAIzpqx6GEBgF8ZdLXMUQJAsWRWuaxBAoIPYmV3ICEAArv4IX7kAQMCwSfDAVPE/AFhg6Txssz8=",
          "dtype": "f8"
         },
         "yaxis": "y"
        },
        {
         "hovertemplate": "<b>%{text}</b><br>z1000t: %{x:.2f}<br>z1000rel: %{y:.2f}<extra></extra>",
         "marker": {
          "color": "#EF553B",
          "size": 8
         },
         "mode": "markers",
         "name": "C++",
         "showlegend": false,
         "text": [
          "s015",
          "s020",
          "s021",
          "s025",
          "s027",
          "s033",
          "s034",
          "s042",
          "s051",
          "s090",
          "s096"
         ],
         "type": "scatter",
         "x": {
          "bdata": "mpmZmZmZqT/ufD81Xrr/PyuHFtnOdxNAc2iR7Xw/tT+6SQwCK4f4P0w3iUFg5aA/ZmZmZmZmNUBMN4lBYOWgPzMzMzMzM8M/eekmMQis+j/y0k1iEFjtPw==",
          "dtype": "f8"
         },
         "xaxis": "x2",
         "y": {
          "bdata": "j8L1KFzPWEAfhetRuJ5YQAAAAAAAAFlAj8L1KFzPWED2KFyPwoVYQI/C9Shcz1hAAAAAAAAAAAAAAAAAAABZQAAAAAAAAFlAH4XrUbieWEAAAAAAAABZQA==",
          "dtype": "f8"
         },
         "yaxis": "y2"
        },
        {
         "hoverinfo": "skip",
         "line": {
          "color": "red",
          "dash": "dash",
          "width": 2
         },
         "mode": "lines",
         "showlegend": false,
         "type": "scatter",
         "x": {
          "bdata": "TDeJQWDloD+3nYjsmtnPP852V+TuvN0/YE81KYjG5T9Z4z7gmK7sP6g7pMtUy/E/pQUpJ10/9T+iz62CZbP4P56ZMt5tJ/w/mmO3OXab/z/LFp5Kv4cBQMp7YHjDQQNAyOAipsf7BEDGReXTy7UGQMWqpwHQbwhAww9qL9QpCkDBdCxd2OMLQL/Z7orcnQ1AvT6xuOBXD0De0Tlz8ogQQF0EG4r0ZRFA3Tb8oPZCEkBcad23+B8TQNubvs76/BNAWs6f5fzZFEDZAIH8/rYVQFgzYhMBlBZA12VDKgNxF0BXmCRBBU4YQNbKBVgHKxlAVf3mbgkIGkDUL8iFC+UaQFNiqZwNwhtA0pSKsw+fHEBRx2vKEXwdQND5TOETWR5ATywu+BU2H0Bnr4cHjAkgQKZI+BINeCBA5uFoHo7mIEAle9kpD1UhQGUUSjWQwyFApa26QBEyIkDkRitMkqAiQCTgm1cTDyNAY3kMY5R9I0CjEn1uFewjQOKr7XmWWiRAIkVehRfJJEBi3s6QmDclQKF3P5wZpiVA4RCwp5oUJkAgqiCzG4MmQGBDkb6c8SZAn9wByh1gJ0DfdXLVns4nQB8P4+AfPShAXqhT7KCrKECeQcT3IRopQN3aNAOjiClAHXSlDiT3KUBcDRYapWUqQJymhiUm1CpA2z/3MKdCK0Ab2Wc8KLErQFty2EepHyxAmgtJUyqOLEDapLleq/wsQBk+Kmosay1AWdeada3ZLUCYcAuBLkguQNgJfIyvti5AF6PslzAlL0BXPF2jsZMvQMzqZlcZATBAbDcf3Vk4MEALhNdimm8wQKvQj+japjBASx1IbhveMEDraQD0WxUxQIq2uHmcTDFAKgNx/9yDMUDKTymFHbsxQGqc4Qpe8jFACumZkJ4pMkCpNVIW32AyQEmCCpwfmDJA6c7CIWDPMkCJG3unoAYzQCloMy3hPTNAyLTrsiF1M0BoAaQ4YqwzQAhOXL6i4zNAqJoUROMaNEBH58zJI1I0QOczhU9kiTRAh4A91aTANEAnzfVa5fc0QMcZruAlLzVAZmZmZmZmNUA=",
          "dtype": "f8"
         },
         "xaxis": "x2",
         "y": {
          "bdata": "gHnJWKL5WUCgLR29iLlZQMHhcCFveVlA4ZXEhVU5WUACShjqO/lYQCL+a04iuVhAQrK/sgh5WEBjZhMX7zhYQIMaZ3vV+FdApM6637u4V0DEgg5EonhXQOQ2YqiIOFdABeu1DG/4VkAmnwlxVbhWQEZTXdU7eFZAZgexOSI4VkCHuwSeCPhVQKdvWALvt1VAyCOsZtV3VUDo1//KuzdVQAiMUy+i91RAKECnk4i3VEBJ9Pr3bndUQGqoTlxVN1RAilyiwDv3U0CqEPYkIrdTQMvESYkId1NA63id7e42U0AMLfFR1fZSQCzhRLa7tlJATJWYGqJ2UkBtSex+iDZSQI79P+Nu9lFArrGTR1W2UUDOZeerO3ZRQO8ZOxAiNlFAD86OdAj2UEAwguLY7rVQQFA2Nj3VdVBAcOqJobs1UEAjPbsLROtPQGOlYtQQa09Aow0Knd3qTkDldbFlqmpOQCXeWC536k1AZ0YA90NqTUCnrqe/EOpMQOkWT4jdaUxAKX/2UKrpS0Bp550Zd2lLQKtPReJD6UpA67fsqhBpSkAtIJRz3ehJQG2IOzyqaElAr/DiBHfoSEDvWIrNQ2hIQC/BMZYQ6EdAcSnZXt1nR0CxkYAnqudGQPP5J/B2Z0ZAM2LPuEPnRUB0ynaBEGdFQLUyHkrd5kRA9prFEqpmREA2A23bduZDQHZrFKRDZkNAuNO7bBDmQkD4O2M13WVCQDqkCv6p5UFAegyyxnZlQUC8dFmPQ+VAQPzcAFgQZUBAfIpQQbrJP0D8Wp/SU8k+QHwr7mPtyD1A/Ps89YbIPECAzIuGIMg7QACd2he6xzpAhG0pqVPHOUAEPng67cY4QIgOx8uGxjdACN8VXSDGNkCIr2TuucU1QAyAs39TxTRAjFACEe3EM0AQIVGihsQyQJDxnzMgxDFAEMLuxLnDMEAoJXuspoYvQCjGGM/ZhS1AMGe28QyFK0AwCFQUQIQpQDip8TZzgydAOEqPWaaCJUBA6yx82YEjQECMyp4MgSFAgFrQgn8AH0CQnAvI5f4aQJDeRg1M/RZAoCCCUrL7EkA=",
          "dtype": "f8"
         },
         "yaxis": "y2"
        },
        {
         "hovertemplate": "<b>%{text}</b><br>z1000t: %{x:.2f}<br>z1000rel: %{y:.2f}<extra></extra>",
         "marker": {
          "color": "#00CC96",
          "size": 8
         },
         "mode": "markers",
         "name": "JAVA",
         "showlegend": false,
         "text": [
          "s017",
          "s023",
          "s037",
          "s040",
          "s043",
          "s047",
          "s050",
          "s053",
          "s054",
          "s056",
          "s057",
          "s059",
          "s060",
          "s062",
          "s063",
          "s065",
          "s068",
          "s072",
          "s081",
          "s084",
          "s087",
          "s093",
          "s099",
          "s102"
         ],
         "type": "scatter",
         "x": {
          "bdata": "qMZLN4lB5D+q8dJNYhAFQOkmMQisHNI/fT81XrpJ1D+amZmZmZkBQJHtfD813hlAmpmZmZmZyT9KDAIrhxbRPzMzMzMzM/s/ZmZmZmZm1j8X2c73U+PdP5qZmZmZmRBA3SQGgZVDDkDNzMzMzMwwQIcW2c73U/U/Rrbz/dR49z8zMzMzMzM/QJqZmZmZGT5AmpmZmZmZyT8zMzMzMzPDP0oMAiuHFtE/zczMzMyMQkBKDAIrhxbRP8dLN4lBYMU/",
          "dtype": "f8"
         },
         "xaxis": "x3",
         "y": {
          "bdata": "AAAAAAAAWUBmZmZmZmYeQAAAAAAAAFlAAAAAAAAAWUBmZmZmZrZYQAAAAAAAAFlAAAAAAAAAWUBI4XoUrudYQAAAAAAAAFlAAAAAAAAAWUAAAAAAAABZQAAAAAAAAFlAZmZmZma2WEAAAAAAAABZQAAAAAAAAFlAAAAAAAAAWUAAAAAAAABZQAAAAAAAAFlAAAAAAAAAWUAAAAAAAABZQAAAAAAAAFlAAAAAAAAAWUAAAAAAAABZQArXo3A9Csc/",
          "dtype": "f8"
         },
         "yaxis": "y3"
        },
        {
         "hoverinfo": "skip",
         "line": {
          "color": "red",
          "dash": "dash",
          "width": 2
         },
         "mode": "lines",
         "showlegend": false,
         "type": "scatter",
         "x": {
          "bdata": "MzMzMzMzwz8Uxo+2Ub7gP1u/UqDWr+w/UNwKxa1Q9D/0WOw5cEn6P8zqZlcZIQBAHanXkXodA0BvZ0jM2xkGQMEluQY9FglAE+QpQZ4SDEBlopp7/w4PQFywBVuwBRFAhA8++OCDEkCtbnaVEQIUQNbNrjJCgBVA/yznz3L+FkAojB9to3wYQFHrVwrU+hlAekqQpwR5G0CjqchENfccQMwIAeJldR5A9Gc5f5bzH0CP4ziO47ggQCMT1dz7dyFAt0JxKxQ3IkBMcg16LPYiQOChqchEtSNAddFFF110JEAJAeJldTMlQJ4wfrSN8iVAMmAaA6axJkDHj7ZRvnAnQFu/UqDWLyhA7+7u7u7uKECEHos9B64pQBhOJ4wfbSpArX3D2jcsK0BBrV8pUOsrQNbc+3doqixAagyYxoBpLUD/OzQVmSguQJNr0GOx5y5AJ5tsssmmL0BdZYQA8TIwQCh90id9kjBA8pQgTwnyMEC8rG52lVExQIbEvJ0hsTFAUNwKxa0QMkAb9FjsOXAyQOULpxPGzzJAryP1OlIvM0B5O0Ni3o4zQERTkYlq7jNADmvfsPZNNEDYgi3Ygq00QKKae/8ODTVAbLLJJptsNUA3yhdOJ8w1QAHiZXWzKzZAy/mznD+LNkCVEQLEy+o2QGApUOtXSjdAKkGeEuSpN0D0WOw5cAk4QL5wOmH8aDhAiIiIiIjIOEBToNavFCg5QB24JNeghzlA589y/iznOUCx58AluUY6QHz/Dk1FpjpARhdddNEFO0AQL6ubXWU7QNpG+cLpxDtApF5H6nUkPEBvdpURAoQ8QDmO4ziO4zxAA6YxYBpDPUDNvX+HpqI9QJjVza4yAj5AYu0b1r5hPkAsBWr9SsE+QPYcuCTXID9AwDQGTGOAP0CLTFRz798/QCoyUc29H0BAED744INPQED1SZ/0SX9AQNpVRggQr0BAv2HtG9beQECkbZQvnA5BQIl5O0NiPkFAboXiVihuQUBTkYlq7p1BQDidMH60zUFAHanXkXr9QUADtX6lQC1CQOjAJbkGXUJAzczMzMyMQkA=",
          "dtype": "f8"
         },
         "xaxis": "x3",
         "y": {
          "bdata": "t0mURN6BVkANMVLtgIlWQGQYEJYjkVZAuv/NPsaYVkAR54vnaKBWQGfOSZALqFZAvrUHOa6vVkAUncXhULdWQGuEg4rzvlZAwWtBM5bGVkAYU//bOM5WQG46vYTb1VZAxSF7LX7dVkAbCTnWIOVWQHLw9n7D7FZAyNe0J2b0VkAfv3LQCPxWQHWmMHmrA1dAzI3uIU4LV0AidazK8BJXQHlcanOTGldAz0MoHDYiV0AmK+bE2ClXQHwSpG17MVdA0/lhFh45V0Ap4R+/wEBXQIDI3WdjSFdA1q+bEAZQV0Atl1m5qFdXQIN+F2JLX1dA2mXVCu5mV0AwTZOzkG5XQIc0UVwzdldA3RsPBdZ9V0A0A82teIVXQIrqilYbjVdA4dFI/72UV0A3uQaoYJxXQI6gxFADpFdA5IeC+aWrV0A7b0CiSLNXQJFW/krruldA6D28843CV0A+JXqcMMpXQJUMOEXT0VdA6/P17XXZV0BC27OWGOFXQJjCcT+76FdA7qkv6F3wV0BFke2QAPhXQJx4qzmj/1dA8l9p4kUHWEBIRyeL6A5YQJ8u5TOLFlhA9hWj3C0eWEBM/WCF0CVYQKLkHi5zLVhA+cvc1hU1WEBQs5p/uDxYQKaaWChbRFhA/IEW0f1LWEBTadR5oFNYQKpQkiJDW1hAADhQy+ViWEBWHw50iGpYQK0GzBwrclhABO6Jxc15WEBa1UducIFYQLC8BRcTiVhAB6TDv7WQWEBei4FoWJhYQLRyPxH7n1hAClr9uZ2nWEBhQbtiQK9YQLgoeQvjtlhADhA3tIW+WEBk9/RcKMZYQLvesgXLzVhAEsZwrm3VWEBorS5XEN1YQL6U7P+y5FhAFXyqqFXsWEBsY2hR+PNYQMJKJvqa+1hAGDLkoj0DWUBvGaJL4ApZQMUAYPSCEllAHOgdnSUaWUByz9tFyCFZQMm2me5qKVlAIJ5Xlw0xWUB2hRVAsDhZQMxs0+hSQFlAI1SRkfVHWUB5O086mE9ZQNAiDeM6V1lAJgrLi91eWUB98Yg0gGZZQNTYRt0ibllAKsAEhsV1WUA=",
          "dtype": "f8"
         },
         "yaxis": "y3"
        },
        {
         "hovertemplate": "<b>%{text}</b><br>z1000t: %{x:.2f}<br>z1000rel: %{y:.2f}<extra></extra>",
         "marker": {
          "color": "#AB63FA",
          "size": 8
         },
         "mode": "markers",
         "name": "PERL",
         "showlegend": false,
         "text": [
          "s149101",
          "s149102",
          "s149103",
          "s149105",
          "s149107",
          "s149108",
          "s149109",
          "s149110",
          "s149111",
          "s149112",
          "s149113",
          "s149114"
         ],
         "type": "scatter",
         "x": {
          "bdata": "SgwCK4cW0T9mZmZmZmY1QHNoke18P7U/mpmZmZmZyT9mZmZmZmbWP7bz/dR46d4/x0s3iUFgxT+amZmZmZnJP0oMAiuHFtE/AAAAAAAA0D8AAAAAAOBQQB1aZDvfT9U/",
          "dtype": "f8"
         },
         "xaxis": "x4",
         "y": {
          "bdata": "j8L1KFzPWEAAAAAAAAAAAAAAAAAAAFlAAAAAAAAAWUAAAAAAAABZQAAAAAAAAFlAAAAAAAAAWUCPwvUoXM9YQAAAAAAAAFlAAAAAAAAAWUAAAAAAAABZQI/C9Shcz1hA",
          "dtype": "f8"
         },
         "yaxis": "y4"
        },
        {
         "hoverinfo": "skip",
         "line": {
          "color": "red",
          "dash": "dash",
          "width": 2
         },
         "mode": "lines",
         "showlegend": false,
         "type": "scatter",
         "x": {
          "bdata": "c2iR7Xw/tT/qF+TChXLoP2MBC/SNHvc/aftRg+wBAUAgdp4MknQGQNfw6pU35wtAx7Wbj+6sEEAi80FUQWYTQH4w6BiUHxZA2m2O3ebYGEA1qzSiOZIbQJDo2maMSx5A9pLAlW+CIECksRP4GN8hQFHQZlrCOyNA/+65vGuYJECtDQ0fFfUlQFssYIG+USdACUuz42euKEC2aQZGEQsqQGSIWai6ZytAEqesCmTELEC/xf9sDSEuQG3kUs+2fS9AjQHTGDBtMEDkkPzJhBsxQDsgJnvZyTFAkq9PLC54MkDoPnndgiYzQD/Ooo7X1DNAll3MPyyDNEDt7PXwgDE1QER8H6LV3zVAmwtJUyqONkDymnIEfzw3QEkqnLXT6jdAoLnFZiiZOED2SO8XfUc5QE3YGMnR9TlApGdCeiakOkD79msre1I7QFKGldzPADxAqRW/jSSvPEAApeg+eV09QFY0EvDNCz5ArcM7oSK6PkAEU2VSd2g/QC5xxwFmC0BA2ThcWpBiQECEAPGyurlAQDDIhQvlEEFA248aZA9oQUCHV6+8Ob9BQDIfRBVkFkJA3ubYbY5tQkCJrm3GuMRCQDR2Ah/jG0NA4D2Xdw1zQ0CLBSzQN8pDQDfNwChiIURA4pRVgYx4RECOXOrZts9EQDkkfzLhJkVA5esTiwt+RUCQs6jjNdVFQDt7PTxgLEZA50LSlIqDRkCSCmfttNpGQD7S+0XfMUdA6ZmQngmJR0CVYSX3M+BHQEApuk9eN0hA7PBOqIiOSECXuOMAs+VIQEKAeFndPElA7kcNsgeUSUCZD6IKMutJQEXXNmNcQkpA8J7Lu4aZSkCcZmAUsfBKQEcu9WzbR0tA8vWJxQWfS0CevR4eMPZLQEmFs3ZaTUxA9UxIz4SkTECgFN0nr/tMQEzccYDZUk1A96MG2QOqTUCia5sxLgFOQE4zMIpYWE5A+frE4oKvTkClwlk7rQZPQFCK7pPXXU9A/FGD7AG1T0DUDIwiFgZQQKlw1k6rMVBAf9Qge0BdUEBVOGun1YhQQCqctdNqtFBAAAAAAADgUEA=",
          "dtype": "f8"
         },
         "xaxis": "x4",
         "y": {
          "bdata": "6shsuaN2V0DWQiU552hXQMO83bgqW1dArzaWOG5NV0CbsE64sT9XQIgqBzj1MVdAdKS/tzgkV0BhHng3fBZXQE2YMLe/CFdAORLpNgP7VkAmjKG2Ru1WQBIGWjaK31ZA/n8Sts3RVkDr+co1EcRWQNdzg7VUtlZAw+07NZioVkCwZ/S025pWQJzhrDQfjVZAiFtltGJ/VkB11R00pnFWQGFP1rPpY1ZATcmOMy1WVkA6Q0ezcEhWQCa9/zK0OlZAEje4svcsVkD/sHAyOx9WQOsqKbJ+EVZA16ThMcIDVkDEHpqxBfZVQLCYUjFJ6FVAnBILsYzaVUCJjMMw0MxVQHUGfLATv1VAYYA0MFexVUBO+uyvmqNVQDp0pS/elVVAJu5dryGIVUATaBYvZXpVQP/hzq6obFVA7FuHLuxeVUDY1T+uL1FVQMRP+C1zQ1VAsMmwrbY1VUCdQ2kt+idVQIm9Ia09GlVAdjfaLIEMVUBisZKsxP5UQE4rSywI8VRAO6UDrEvjVEAnH7wrj9VUQBOZdKvSx1RAABMtKxa6VEDsjOWqWaxUQNgGniqdnlRAxYBWquCQVECx+g4qJINUQJ10x6lndVRAiu5/KatnVEB2aDip7llUQGLi8CgyTFRAT1ypqHU+VEA71mEouTBUQCdQGqj8IlRAFMrSJ0AVVEAARIungwdUQOy9QyfH+VNA2Tf8pgrsU0DFsbQmTt5TQLErbaaR0FNAnqUlJtXCU0CKH96lGLVTQHaZliVcp1NAYxNPpZ+ZU0BPjQcl44tTQDwHwKQmflNAKIF4JGpwU0AU+zCkrWJTQAB16SPxVFNA7e6hozRHU0DZaFojeDlTQMbiEqO7K1NAslzLIv8dU0Ce1oOiQhBTQIpQPCKGAlNAd8r0ocn0UkBjRK0hDedSQFC+ZaFQ2VJAPDgeIZTLUkAostag171SQBQsjyAbsFJAAaZHoF6iUkDtHwAgopRSQNqZuJ/lhlJAxhNxHyl5UkCyjSmfbGtSQJ8H4h6wXVJAi4GanvNPUkB3+1IeN0JSQGR1C556NFJAUO/DHb4mUkA=",
          "dtype": "f8"
         },
         "yaxis": "y4"
        },
        {
         "hovertemplate": "<b>%{text}</b><br>z1000t: %{x:.2f}<br>z1000rel: %{y:.2f}<extra></extra>",
         "marker": {
          "color": "#FFA15A",
          "size": 8
         },
         "mode": "markers",
         "name": "PYTHON",
         "showlegend": false,
         "text": [
          "s149201",
          "s149202",
          "s149203",
          "s149204",
          "s149205",
          "s149206",
          "s149207",
          "s149208",
          "s149209",
          "s149210",
          "s149212",
          "s149213"
         ],
         "type": "scatter",
         "x": {
          "bdata": "zczMzMzM5D+HFtnO91P5PwaBlUOLbMc/wcqhRbbzvT9zaJHtfD+1P8HKoUW2870/oBov3SQGwT/NzMzMzMzcPzMzMzMzE1JAAAAAAAAA0D9YObTIdr7jP9v5fmq8dOc/",
          "dtype": "f8"
         },
         "xaxis": "x5",
         "y": {
          "bdata": "j8L1KFzPWECPwvUoXM9YQAAAAAAAAFlAAAAAAAAAWUAAAAAAAABZQAAAAAAAAFlAAAAAAAAAWUCPwvUoXM9YQAAAAAAAAFlAAAAAAAAAWUCPwvUoXM9YQI/C9Shcz1hA",
          "dtype": "f8"
         },
         "yaxis": "y5"
        },
        {
         "hoverinfo": "skip",
         "line": {
          "color": "red",
          "dash": "dash",
          "width": 2
         },
         "mode": "lines",
         "showlegend": false,
         "type": "scatter",
         "x": {
          "bdata": "c2iR7Xw/tT93Gbfbtf/pP/AC3gy+q/g/kzzwldArAkCtd3ElwgEIQMey8rSz1w1A8fY5otLWEUB+lPppy8EUQAsyuzHErBdAmM97+byXGkAlbTzBtYIdQFmFfkTXNiBAINReqFOsIUDmIj8M0CEjQK1xH3BMlyRAc8D/08gMJkA6D+A3RYInQAFewJvB9yhAx6yg/z1tKkCO+4BjuuIrQFRKYcc2WC1AG5lBK7PNLkDw85DHlyEwQFMbgflV3DBAt0JxKxSXMUAaamFd0lEyQH2RUY+QDDNA4bhBwU7HM0BE4DHzDII0QKcHIiXLPDVACi8SV4n3NUBuVgKJR7I2QNF98roFbTdANKXi7MMnOECYzNIeguI4QPvzwlBAnTlAXhuzgv5XOkDBQqO0vBI7QCVqk+Z6zTtAiJGDGDmIPEDruHNK90I9QE/gY3y1/T1AsgdUrnO4PkAVL0TgMXM/QDwrGgn4FkBA7j4SIld0QECfUgo7ttFAQFFmAlQVL0FAA3r6bHSMQUC0jfKF0+lBQGah6p4yR0JAGLXit5GkQkDJyNrQ8AFDQHvc0ulPX0NALfDKAq+8Q0DeA8MbDhpEQJAXuzRtd0RAQiuzTczUREDzPqtmKzJFQKVSo3+Kj0VAVmabmOnsRUAIepOxSEpGQLqNi8qnp0ZAa6GD4wYFR0AdtXv8ZWJHQM/IcxXFv0dAgNxrLiQdSEAy8GNHg3pIQOQDXGDi10hAlRdUeUE1SUBHK0ySoJJJQPg+RKv/70lAqlI8xF5NSkBcZjTdvapKQA16LPYcCEtAv40kD3xlS0BxoRwo28JLQCK1FEE6IExA1MgMWpl9TECG3ARz+NpMQDfw/ItXOE1A6QP1pLaVTUCbF+29FfNNQEwr5dZ0UE5A/j7d79OtTkCvUtUIMwtPQGFmzSGSaE9AE3rFOvHFT0Dixt4pqBFQQLvQWrZXQFBAlNrWQgdvUEBt5FLPtp1QQEXuzltmzFBAHvhK6BX7UED3Acd0xSlRQNALQwF1WFFAqRW/jSSHUUCCHzsa1LVRQFopt6aD5FFAMzMzMzMTUkA=",
          "dtype": "f8"
         },
         "xaxis": "x5",
         "y": {
          "bdata": "wLU6qeXpWED0jaWlG+pYQClmEKJR6lhAXT57nofqWECSFuaavepYQMbuUJfz6lhA+8a7kynrWEAvnyaQX+tYQGR3kYyV61hAmE/8iMvrWEDNJ2eFAexYQAEA0oE37FhANtg8fm3sWEBqsKd6o+xYQJ+IEnfZ7FhA02B9cw/tWEAIOehvRe1YQDwRU2x77VhAcem9aLHtWEClwShl5+1YQNqZk2Ed7lhADnL+XVPuWEBDSmlaie5YQHci1Fa/7lhArPo+U/XuWEDh0qlPK+9YQBWrFExh71hASoN/SJfvWEB+W+pEze9YQLMzVUED8FhA5wvAPTnwWEAc5Co6b/BYQFC8lTal8FhAhZQAM9vwWEC5bGsvEfFYQO5E1itH8VhAIh1BKH3xWEBX9asks/FYQIvNFiHp8VhAwKWBHR/yWED0fewZVfJYQClWVxaL8lhAXS7CEsHyWECSBi0P9/JYQMbelwst81hA+7YCCGPzWEAvj20EmfNYQGRn2ADP81hAmD9D/QT0WEDNF675OvRYQAHwGPZw9FhANsiD8qb0WEBqoO7u3PRYQJ94WesS9VhA01DE50j1WEAIKS/kfvVYQDwBmuC09VhAcdkE3er1WEClsW/ZIPZYQNqJ2tVW9lhADmJF0oz2WEBDOrDOwvZYQHcSG8v49lhArOqFxy73WEDgwvDDZPdYQBWbW8Ca91hASXPGvND3WEB+SzG5BvhYQLIjnLU8+FhA5/sGsnL4WEAc1HGuqPhYQFCs3Kre+FhAhYRHpxT5WEC5XLKjSvlYQO40HaCA+VhAIg2InLb5WEBX5fKY7PlYQIu9XZUi+lhAwJXIkVj6WED0bTOOjvpYQClGnorE+lhAXR4Jh/r6WECS9nODMPtYQMbO3n9m+1hA+6ZJfJz7WEAvf7R40vtYQGRXH3UI/FhAmC+KcT78WEDNB/VtdPxYQAHgX2qq/FhANrjKZuD8WEBqkDVjFv1YQJ9ooF9M/VhA00ALXIL9WEAIGXZYuP1YQDzx4FTu/VhAcclLUST+WEClobZNWv5YQNp5IUqQ/lhADlKMRsb+WEA=",
          "dtype": "f8"
         },
         "yaxis": "y5"
        },
        {
         "hovertemplate": "<b>%{text}</b><br>z1000t: %{x:.2f}<br>z1000rel: %{y:.2f}<extra></extra>",
         "marker": {
          "color": "#19D3F3",
          "size": 8
         },
         "mode": "markers",
         "name": "REXX",
         "showlegend": false,
         "text": [
          "s149301",
          "s149302",
          "s149303"
         ],
         "type": "scatter",
         "x": {
          "bdata": "vp8aL90k6j9mZmZmZmY5QAAAAAAAADVA",
          "dtype": "f8"
         },
         "xaxis": "x6",
         "y": {
          "bdata": "AAAAAAAAWUAAAAAAAGBGQEjhehSu51hA",
          "dtype": "f8"
         },
         "yaxis": "y6"
        },
        {
         "hoverinfo": "skip",
         "line": {
          "color": "red",
          "dash": "dash",
          "width": 2
         },
         "mode": "lines",
         "showlegend": false,
         "type": "scatter",
         "x": {
          "bdata": "vp8aL90k6j/60y/IhQvxPxVY0vicBPU/MNx0KbT9+D9MYBday/b8PzTyXEXxdwBAQTSu3Xx0AkBOdv91CHEEQFy4UA6UbQZAavqhph9qCEB4PPM+q2YKQIR+RNc2YwxAksCVb8JfDkBQgfMDJy4QQFciHNBsLBFAXcNEnLIqEkBkZG1o+CgTQGsFljQ+JxRAcqa+AIQlFUB5R+fMySMWQIDoD5kPIhdAhok4ZVUgGECNKmExmx4ZQJTLif3gHBpAm2yyySYbG0CiDduVbBkcQKiuA2KyFx1Ar08sLvgVHkC28FT6PRQfQN7IPuNBCSBAYRlTyWSIIEDlaWevhwchQGi6e5WqhiFA7AqQe80FIkBvW6Rh8IQiQPOruEcTBCNAdvzMLTaDI0D5TOETWQIkQH2d9fl7gSRAAO4J4J4AJUCEPh7GwX8lQAePMqzk/iVAit9Gkgd+JkAOMFt4Kv0mQJGAb15NfCdAFdGDRHD7J0CYIZgqk3ooQBtyrBC2+ShAn8LA9th4KUAiE9Xc+/cpQKZj6cIedypAKbT9qEH2KkCsBBKPZHUrQDBVJnWH9CtAs6U6W6pzLEA29k5BzfIsQLpGYyfwcS1APZd3DRPxLUDB54vzNXAuQEQ4oNlY7y5Ax4i0v3tuL0BL2cilnu0vQOeU7sVgNjBAKb34OPJ1MEBq5QKsg7UwQKwNDR8V9TBA7jUXkqY0MUAwXiEFOHQxQHGGK3jJszFAs64161rzMUD11j9e7DIyQDb/SdF9cjJAeCdURA+yMkC6T163oPEyQPt3aCoyMTNAPaByncNwM0B/yHwQVbAzQMHwhoPm7zNAAhmR9ncvNEBEQZtpCW80QIZppdyarjRAx5GvTyzuNEAJurnCvS01QEviwzVPbTVAjArOqOCsNUDOMtgbcuw1QBBb4o4DLDZAUYPsAZVrNkCTq/Z0Jqs2QNXTAOi36jZAF/wKW0kqN0BYJBXO2mk3QJpMH0FsqTdA3HQptP3oN0AdnTMnjyg4QF/FPZogaDhAoe1HDbKnOEDiFVKAQ+c4QCQ+XPPUJjlAZmZmZmZmOUA=",
          "dtype": "f8"
         },
         "xaxis": "x6",
         "y": {
          "bdata": "8WyfzwIuWkCqzbiLPBVaQGQu0kd2/FlAHY/rA7DjWUDW7wTA6cpZQJBQHnwjsllASbE3OF2ZWUACElH0loBZQLxyarDQZ1lAddODbApPWUAuNJ0oRDZZQOiUtuR9HVlAofXPoLcEWUBbVulc8etYQBS3Ahkr01hAzhcc1WS6WECHeDWRnqFYQEDZTk3YiFhA+jloCRJwWECzmoHFS1dYQGz7moGFPlhAJly0Pb8lWEDfvM35+AxYQJgd57Uy9FdAUn4AcmzbV0AL3xkupsJXQMU/M+rfqVdAfqBMphmRV0A3AWZiU3hXQPFhfx6NX1dAqsKY2sZGV0BkI7KWAC5XQB2Ey1I6FVdA1uTkDnT8VkCQRf7KreNWQEmmF4fnylZAAgcxQyGyVkC8Z0r/WplWQHXIY7uUgFZALil9d85nVkDoiZYzCE9WQKHqr+9BNlZAW0vJq3sdVkAUrOJntQRWQM4M/CPv61VAh20V4CjTVUBAzi6cYrpVQPouSFicoVVAs49hFNaIVUBs8HrQD3BVQCZRlIxJV1VA37GtSIM+VUCYEscEvSVVQFJz4MD2DFVAC9T5fDD0VEDFNBM5attUQH6VLPWjwlRAOPZFsd2pVEDxVl9tF5FUQKq3eClReFRAZBiS5YpfVEAdeauhxEZUQNbZxF3+LVRAkDreGTgVVEBJm/fVcfxTQAL8EJKr41NAvFwqTuXKU0B1vUMKH7JTQC8eXcZYmVNA6H52gpKAU0Ch348+zGdTQFtAqfoFT1NAFKHCtj82U0DOAdxyeR1TQIdi9S6zBFNAQMMO6+zrUkD6IyinJtNSQLOEQWNgulJAbOVaH5qhUkAmRnTb04hSQN+mjZcNcFJAmAenU0dXUkBSaMAPgT5SQAvJ2cu6JVJAxSnzh/QMUkB+igxELvRRQDjrJQBo21FA8Us/vKHCUUCqrFh426lRQGQNcjQVkVFAHW6L8E54UUDWzqSsiF9RQJAvvmjCRlFASZDXJPwtUUAC8fDgNRVRQLxRCp1v/FBAdbIjWanjUEAvEz0V48pQQOhzVtEcslBAotRvjVaZUEA=",
          "dtype": "f8"
         },
         "yaxis": "y6"
        },
        {
         "hovertemplate": "<b>%{text}</b><br>z1000t: %{x:.2f}<br>z1000rel: %{y:.2f}<extra></extra>",
         "marker": {
          "color": "#FF6692",
          "size": 8
         },
         "mode": "markers",
         "name": "TCL",
         "showlegend": false,
         "text": [
          "s149402",
          "s149403",
          "s149405",
          "s149406",
          "s149407",
          "s149408",
          "s149409",
          "s149410",
          "s149411"
         ],
         "type": "scatter",
         "x": {
          "bdata": "vp8aL90k4j9YObTIdr7jP4ts5/up8e4/zczMzMzM5D91kxgEVg7pP5qZmZmZWWlAQmDl0CLb5T9mZmZmZmY9QBfZzvdT490/",
          "dtype": "f8"
         },
         "xaxis": "x7",
         "y": {
          "bdata": "AAAAAAAAWUAAAAAAAABZQAAAAAAAAFlAAAAAAAAAWUAAAAAAAABZQAAAAAAAAFlAAAAAAAAAWUAAAAAAAABZQAAAAAAAAFlA",
          "dtype": "f8"
         },
         "yaxis": "y7"
        },
        {
         "hoverinfo": "skip",
         "line": {
          "color": "red",
          "dash": "dash",
          "width": 2
         },
         "mode": "lines",
         "showlegend": false,
         "type": "scatter",
         "x": {
          "bdata": "F9nO91Pj3T+OkRxdDRYEQPyjnx3YNxJAMf+wjKlkGkA0LeF9vUghQM/aaTUmXyVAaYjy7I51KUAENnuk94stQM/xAS4w0TBAnEjGiWTcMkBqn4rlmOc0QDf2TkHN8jZABE0TnQH+OEDSo9f4NQk7QJ/6m1RqFD1AbVFgsJ4fP0AdVBKGaZVAQIR/9LMDm0FA6qrW4Z2gQkBR1rgPOKZDQLgBmz3Sq0RAHi19a2yxRUCFWF+ZBrdGQOyDQcegvEdAUq8j9TrCSEC52gUj1cdJQCAG6FBvzUpAhzHKfgnTS0DtXKyso9hMQFSIjto93k1Au7NwCNjjTkAh31I2culPQESFGjKGd1BA95oLSVP6UECrsPxfIH1RQF7G7Xbt/1FAEdzejbqCUkDF8c+khwVTQHgHwbtUiFNAKx2y0iELVEDfMqPp7o1UQJJIlAC8EFVARV6FF4mTVUD5c3YuVhZWQKyJZ0UjmVZAX59YXPAbV0ATtUlzvZ5XQMbKOoqKIVhAeeAroVekWEAt9hy4JCdZQOALDs/xqVlAlCH/5b4sWkBHN/D8i69aQPpM4RNZMltArmLSKia1W0BheMNB8zdcQBSOtFjAulxAyKOlb409XUB7uZaGWsBdQC7Ph50nQ15A4uR4tPTFXkCV+mnLwUhfQEgQW+KOy19A/hKm/C0nYEDYnR6IlGhgQLIolxP7qWBAi7MPn2HrYEBlPogqyCxhQD/JALYubmFAGFR5QZWvYUDy3vHM+/BhQMxpalhiMmJApfTi48hzYkB/f1tvL7ViQFkK1PqV9mJAMpVMhvw3Y0AMIMURY3ljQOaqPZ3JumNAvzW2KDD8Y0CZwC60lj1kQHNLpz/9fmRATNYfy2PAZEAmYZhWygFlQADsEOIwQ2VA2XaJbZeEZUCzAQL5/cVlQI2MeoRkB2ZAZhfzD8tIZkBAomubMYpmQBot5CaYy2ZA87dcsv4MZ0DNQtU9ZU5nQKfNTcnLj2dAgFjGVDLRZ0Ba4z7gmBJoQDRut2v/U2hADfkv92WVaEDng6iCzNZoQMEOIQ4zGGlAmpmZmZlZaUA=",
          "dtype": "f8"
         },
         "xaxis": "x7",
         "y": {
          "bdata": "AQAAAAAAWUABAAAAAABZQAEAAAAAAFlAAQAAAAAAWUABAAAAAABZQAEAAAAAAFlAAQAAAAAAWUABAAAAAABZQAEAAAAAAFlAAQAAAAAAWUABAAAAAABZQAEAAAAAAFlAAQAAAAAAWUABAAAAAABZQAEAAAAAAFlAAQAAAAAAWUABAAAAAABZQAEAAAAAAFlAAQAAAAAAWUABAAAAAABZQAEAAAAAAFlAAQAAAAAAWUABAAAAAABZQAEAAAAAAFlAAQAAAAAAWUABAAAAAABZQAEAAAAAAFlAAQAAAAAAWUACAAAAAABZQAIAAAAAAFlAAgAAAAAAWUACAAAAAABZQAIAAAAAAFlAAgAAAAAAWUACAAAAAABZQAIAAAAAAFlAAgAAAAAAWUACAAAAAABZQAIAAAAAAFlAAgAAAAAAWUACAAAAAABZQAIAAAAAAFlAAgAAAAAAWUACAAAAAABZQAIAAAAAAFlAAgAAAAAAWUACAAAAAABZQAIAAAAAAFlAAgAAAAAAWUACAAAAAABZQAIAAAAAAFlAAgAAAAAAWUACAAAAAABZQAIAAAAAAFlAAgAAAAAAWUACAAAAAABZQAIAAAAAAFlAAgAAAAAAWUACAAAAAABZQAIAAAAAAFlAAgAAAAAAWUACAAAAAABZQAIAAAAAAFlAAgAAAAAAWUACAAAAAABZQAIAAAAAAFlAAgAAAAAAWUACAAAAAABZQAIAAAAAAFlAAgAAAAAAWUACAAAAAABZQAIAAAAAAFlAAgAAAAAAWUACAAAAAABZQAIAAAAAAFlAAgAAAAAAWUACAAAAAABZQAIAAAAAAFlAAgAAAAAAWUACAAAAAABZQAIAAAAAAFlAAgAAAAAAWUACAAAAAABZQAIAAAAAAFlAAwAAAAAAWUADAAAAAABZQAMAAAAAAFlAAwAAAAAAWUADAAAAAABZQAMAAAAAAFlAAwAAAAAAWUADAAAAAABZQAMAAAAAAFlAAwAAAAAAWUADAAAAAABZQAMAAAAAAFlAAwAAAAAAWUADAAAAAABZQAMAAAAAAFlAAwAAAAAAWUA=",
          "dtype": "f8"
         },
         "yaxis": "y7"
        }
       ],
       "layout": {
        "annotations": [
         {
          "font": {
           "size": 16
          },
          "showarrow": false,
          "text": "C",
          "x": 0.14444444444444446,
          "xanchor": "center",
          "xref": "paper",
          "y": 1,
          "yanchor": "bottom",
          "yref": "paper"
         },
         {
          "font": {
           "size": 16
          },
          "showarrow": false,
          "text": "C++",
          "x": 0.5,
          "xanchor": "center",
          "xref": "paper",
          "y": 1,
          "yanchor": "bottom",
          "yref": "paper"
         },
         {
          "font": {
           "size": 16
          },
          "showarrow": false,
          "text": "JAVA",
          "x": 0.8555555555555556,
          "xanchor": "center",
          "xref": "paper",
          "y": 1,
          "yanchor": "bottom",
          "yref": "paper"
         },
         {
          "font": {
           "size": 16
          },
          "showarrow": false,
          "text": "PERL",
          "x": 0.14444444444444446,
          "xanchor": "center",
          "xref": "paper",
          "y": 0.6111111111111112,
          "yanchor": "bottom",
          "yref": "paper"
         },
         {
          "font": {
           "size": 16
          },
          "showarrow": false,
          "text": "PYTHON",
          "x": 0.5,
          "xanchor": "center",
          "xref": "paper",
          "y": 0.6111111111111112,
          "yanchor": "bottom",
          "yref": "paper"
         },
         {
          "font": {
           "size": 16
          },
          "showarrow": false,
          "text": "REXX",
          "x": 0.8555555555555556,
          "xanchor": "center",
          "xref": "paper",
          "y": 0.6111111111111112,
          "yanchor": "bottom",
          "yref": "paper"
         },
         {
          "font": {
           "size": 16
          },
          "showarrow": false,
          "text": "TCL",
          "x": 0.14444444444444446,
          "xanchor": "center",
          "xref": "paper",
          "y": 0.22222222222222224,
          "yanchor": "bottom",
          "yref": "paper"
         }
        ],
        "height": 1200,
        "showlegend": false,
        "template": {
         "data": {
          "bar": [
           {
            "error_x": {
             "color": "#2a3f5f"
            },
            "error_y": {
             "color": "#2a3f5f"
            },
            "marker": {
             "line": {
              "color": "#E5ECF6",
              "width": 0.5
             },
             "pattern": {
              "fillmode": "overlay",
              "size": 10,
              "solidity": 0.2
             }
            },
            "type": "bar"
           }
          ],
          "barpolar": [
           {
            "marker": {
             "line": {
              "color": "#E5ECF6",
              "width": 0.5
             },
             "pattern": {
              "fillmode": "overlay",
              "size": 10,
              "solidity": 0.2
             }
            },
            "type": "barpolar"
           }
          ],
          "carpet": [
           {
            "aaxis": {
             "endlinecolor": "#2a3f5f",
             "gridcolor": "white",
             "linecolor": "white",
             "minorgridcolor": "white",
             "startlinecolor": "#2a3f5f"
            },
            "baxis": {
             "endlinecolor": "#2a3f5f",
             "gridcolor": "white",
             "linecolor": "white",
             "minorgridcolor": "white",
             "startlinecolor": "#2a3f5f"
            },
            "type": "carpet"
           }
          ],
          "choropleth": [
           {
            "colorbar": {
             "outlinewidth": 0,
             "ticks": ""
            },
            "type": "choropleth"
           }
          ],
          "contour": [
           {
            "colorbar": {
             "outlinewidth": 0,
             "ticks": ""
            },
            "colorscale": [
             [
              0,
              "#0d0887"
             ],
             [
              0.1111111111111111,
              "#46039f"
             ],
             [
              0.2222222222222222,
              "#7201a8"
             ],
             [
              0.3333333333333333,
              "#9c179e"
             ],
             [
              0.4444444444444444,
              "#bd3786"
             ],
             [
              0.5555555555555556,
              "#d8576b"
             ],
             [
              0.6666666666666666,
              "#ed7953"
             ],
             [
              0.7777777777777778,
              "#fb9f3a"
             ],
             [
              0.8888888888888888,
              "#fdca26"
             ],
             [
              1,
              "#f0f921"
             ]
            ],
            "type": "contour"
           }
          ],
          "contourcarpet": [
           {
            "colorbar": {
             "outlinewidth": 0,
             "ticks": ""
            },
            "type": "contourcarpet"
           }
          ],
          "heatmap": [
           {
            "colorbar": {
             "outlinewidth": 0,
             "ticks": ""
            },
            "colorscale": [
             [
              0,
              "#0d0887"
             ],
             [
              0.1111111111111111,
              "#46039f"
             ],
             [
              0.2222222222222222,
              "#7201a8"
             ],
             [
              0.3333333333333333,
              "#9c179e"
             ],
             [
              0.4444444444444444,
              "#bd3786"
             ],
             [
              0.5555555555555556,
              "#d8576b"
             ],
             [
              0.6666666666666666,
              "#ed7953"
             ],
             [
              0.7777777777777778,
              "#fb9f3a"
             ],
             [
              0.8888888888888888,
              "#fdca26"
             ],
             [
              1,
              "#f0f921"
             ]
            ],
            "type": "heatmap"
           }
          ],
          "histogram": [
           {
            "marker": {
             "pattern": {
              "fillmode": "overlay",
              "size": 10,
              "solidity": 0.2
             }
            },
            "type": "histogram"
           }
          ],
          "histogram2d": [
           {
            "colorbar": {
             "outlinewidth": 0,
             "ticks": ""
            },
            "colorscale": [
             [
              0,
              "#0d0887"
             ],
             [
              0.1111111111111111,
              "#46039f"
             ],
             [
              0.2222222222222222,
              "#7201a8"
             ],
             [
              0.3333333333333333,
              "#9c179e"
             ],
             [
              0.4444444444444444,
              "#bd3786"
             ],
             [
              0.5555555555555556,
              "#d8576b"
             ],
             [
              0.6666666666666666,
              "#ed7953"
             ],
             [
              0.7777777777777778,
              "#fb9f3a"
             ],
             [
              0.8888888888888888,
              "#fdca26"
             ],
             [
              1,
              "#f0f921"
             ]
            ],
            "type": "histogram2d"
           }
          ],
          "histogram2dcontour": [
           {
            "colorbar": {
             "outlinewidth": 0,
             "ticks": ""
            },
            "colorscale": [
             [
              0,
              "#0d0887"
             ],
             [
              0.1111111111111111,
              "#46039f"
             ],
             [
              0.2222222222222222,
              "#7201a8"
             ],
             [
              0.3333333333333333,
              "#9c179e"
             ],
             [
              0.4444444444444444,
              "#bd3786"
             ],
             [
              0.5555555555555556,
              "#d8576b"
             ],
             [
              0.6666666666666666,
              "#ed7953"
             ],
             [
              0.7777777777777778,
              "#fb9f3a"
             ],
             [
              0.8888888888888888,
              "#fdca26"
             ],
             [
              1,
              "#f0f921"
             ]
            ],
            "type": "histogram2dcontour"
           }
          ],
          "mesh3d": [
           {
            "colorbar": {
             "outlinewidth": 0,
             "ticks": ""
            },
            "type": "mesh3d"
           }
          ],
          "parcoords": [
           {
            "line": {
             "colorbar": {
              "outlinewidth": 0,
              "ticks": ""
             }
            },
            "type": "parcoords"
           }
          ],
          "pie": [
           {
            "automargin": true,
            "type": "pie"
           }
          ],
          "scatter": [
           {
            "fillpattern": {
             "fillmode": "overlay",
             "size": 10,
             "solidity": 0.2
            },
            "type": "scatter"
           }
          ],
          "scatter3d": [
           {
            "line": {
             "colorbar": {
              "outlinewidth": 0,
              "ticks": ""
             }
            },
            "marker": {
             "colorbar": {
              "outlinewidth": 0,
              "ticks": ""
             }
            },
            "type": "scatter3d"
           }
          ],
          "scattercarpet": [
           {
            "marker": {
             "colorbar": {
              "outlinewidth": 0,
              "ticks": ""
             }
            },
            "type": "scattercarpet"
           }
          ],
          "scattergeo": [
           {
            "marker": {
             "colorbar": {
              "outlinewidth": 0,
              "ticks": ""
             }
            },
            "type": "scattergeo"
           }
          ],
          "scattergl": [
           {
            "marker": {
             "colorbar": {
              "outlinewidth": 0,
              "ticks": ""
             }
            },
            "type": "scattergl"
           }
          ],
          "scattermap": [
           {
            "marker": {
             "colorbar": {
              "outlinewidth": 0,
              "ticks": ""
             }
            },
            "type": "scattermap"
           }
          ],
          "scattermapbox": [
           {
            "marker": {
             "colorbar": {
              "outlinewidth": 0,
              "ticks": ""
             }
            },
            "type": "scattermapbox"
           }
          ],
          "scatterpolar": [
           {
            "marker": {
             "colorbar": {
              "outlinewidth": 0,
              "ticks": ""
             }
            },
            "type": "scatterpolar"
           }
          ],
          "scatterpolargl": [
           {
            "marker": {
             "colorbar": {
              "outlinewidth": 0,
              "ticks": ""
             }
            },
            "type": "scatterpolargl"
           }
          ],
          "scatterternary": [
           {
            "marker": {
             "colorbar": {
              "outlinewidth": 0,
              "ticks": ""
             }
            },
            "type": "scatterternary"
           }
          ],
          "surface": [
           {
            "colorbar": {
             "outlinewidth": 0,
             "ticks": ""
            },
            "colorscale": [
             [
              0,
              "#0d0887"
             ],
             [
              0.1111111111111111,
              "#46039f"
             ],
             [
              0.2222222222222222,
              "#7201a8"
             ],
             [
              0.3333333333333333,
              "#9c179e"
             ],
             [
              0.4444444444444444,
              "#bd3786"
             ],
             [
              0.5555555555555556,
              "#d8576b"
             ],
             [
              0.6666666666666666,
              "#ed7953"
             ],
             [
              0.7777777777777778,
              "#fb9f3a"
             ],
             [
              0.8888888888888888,
              "#fdca26"
             ],
             [
              1,
              "#f0f921"
             ]
            ],
            "type": "surface"
           }
          ],
          "table": [
           {
            "cells": {
             "fill": {
              "color": "#EBF0F8"
             },
             "line": {
              "color": "white"
             }
            },
            "header": {
             "fill": {
              "color": "#C8D4E3"
             },
             "line": {
              "color": "white"
             }
            },
            "type": "table"
           }
          ]
         },
         "layout": {
          "annotationdefaults": {
           "arrowcolor": "#2a3f5f",
           "arrowhead": 0,
           "arrowwidth": 1
          },
          "autotypenumbers": "strict",
          "coloraxis": {
           "colorbar": {
            "outlinewidth": 0,
            "ticks": ""
           }
          },
          "colorscale": {
           "diverging": [
            [
             0,
             "#8e0152"
            ],
            [
             0.1,
             "#c51b7d"
            ],
            [
             0.2,
             "#de77ae"
            ],
            [
             0.3,
             "#f1b6da"
            ],
            [
             0.4,
             "#fde0ef"
            ],
            [
             0.5,
             "#f7f7f7"
            ],
            [
             0.6,
             "#e6f5d0"
            ],
            [
             0.7,
             "#b8e186"
            ],
            [
             0.8,
             "#7fbc41"
            ],
            [
             0.9,
             "#4d9221"
            ],
            [
             1,
             "#276419"
            ]
           ],
           "sequential": [
            [
             0,
             "#0d0887"
            ],
            [
             0.1111111111111111,
             "#46039f"
            ],
            [
             0.2222222222222222,
             "#7201a8"
            ],
            [
             0.3333333333333333,
             "#9c179e"
            ],
            [
             0.4444444444444444,
             "#bd3786"
            ],
            [
             0.5555555555555556,
             "#d8576b"
            ],
            [
             0.6666666666666666,
             "#ed7953"
            ],
            [
             0.7777777777777778,
             "#fb9f3a"
            ],
            [
             0.8888888888888888,
             "#fdca26"
            ],
            [
             1,
             "#f0f921"
            ]
           ],
           "sequentialminus": [
            [
             0,
             "#0d0887"
            ],
            [
             0.1111111111111111,
             "#46039f"
            ],
            [
             0.2222222222222222,
             "#7201a8"
            ],
            [
             0.3333333333333333,
             "#9c179e"
            ],
            [
             0.4444444444444444,
             "#bd3786"
            ],
            [
             0.5555555555555556,
             "#d8576b"
            ],
            [
             0.6666666666666666,
             "#ed7953"
            ],
            [
             0.7777777777777778,
             "#fb9f3a"
            ],
            [
             0.8888888888888888,
             "#fdca26"
            ],
            [
             1,
             "#f0f921"
            ]
           ]
          },
          "colorway": [
           "#636efa",
           "#EF553B",
           "#00cc96",
           "#ab63fa",
           "#FFA15A",
           "#19d3f3",
           "#FF6692",
           "#B6E880",
           "#FF97FF",
           "#FECB52"
          ],
          "font": {
           "color": "#2a3f5f"
          },
          "geo": {
           "bgcolor": "white",
           "lakecolor": "white",
           "landcolor": "#E5ECF6",
           "showlakes": true,
           "showland": true,
           "subunitcolor": "white"
          },
          "hoverlabel": {
           "align": "left"
          },
          "hovermode": "closest",
          "mapbox": {
           "style": "light"
          },
          "paper_bgcolor": "white",
          "plot_bgcolor": "#E5ECF6",
          "polar": {
           "angularaxis": {
            "gridcolor": "white",
            "linecolor": "white",
            "ticks": ""
           },
           "bgcolor": "#E5ECF6",
           "radialaxis": {
            "gridcolor": "white",
            "linecolor": "white",
            "ticks": ""
           }
          },
          "scene": {
           "xaxis": {
            "backgroundcolor": "#E5ECF6",
            "gridcolor": "white",
            "gridwidth": 2,
            "linecolor": "white",
            "showbackground": true,
            "ticks": "",
            "zerolinecolor": "white"
           },
           "yaxis": {
            "backgroundcolor": "#E5ECF6",
            "gridcolor": "white",
            "gridwidth": 2,
            "linecolor": "white",
            "showbackground": true,
            "ticks": "",
            "zerolinecolor": "white"
           },
           "zaxis": {
            "backgroundcolor": "#E5ECF6",
            "gridcolor": "white",
            "gridwidth": 2,
            "linecolor": "white",
            "showbackground": true,
            "ticks": "",
            "zerolinecolor": "white"
           }
          },
          "shapedefaults": {
           "line": {
            "color": "#2a3f5f"
           }
          },
          "ternary": {
           "aaxis": {
            "gridcolor": "white",
            "linecolor": "white",
            "ticks": ""
           },
           "baxis": {
            "gridcolor": "white",
            "linecolor": "white",
            "ticks": ""
           },
           "bgcolor": "#E5ECF6",
           "caxis": {
            "gridcolor": "white",
            "linecolor": "white",
            "ticks": ""
           }
          },
          "title": {
           "x": 0.05
          },
          "xaxis": {
           "automargin": true,
           "gridcolor": "white",
           "linecolor": "white",
           "ticks": "",
           "title": {
            "standoff": 15
           },
           "zerolinecolor": "white",
           "zerolinewidth": 2
          },
          "yaxis": {
           "automargin": true,
           "gridcolor": "white",
           "linecolor": "white",
           "ticks": "",
           "title": {
            "standoff": 15
           },
           "zerolinecolor": "white",
           "zerolinewidth": 2
          }
         }
        },
        "title": {
         "text": "Performance vs Reliability by Language"
        },
        "width": 1200,
        "xaxis": {
         "anchor": "y",
         "domain": [
          0,
          0.2888888888888889
         ]
        },
        "xaxis2": {
         "anchor": "y2",
         "domain": [
          0.35555555555555557,
          0.6444444444444445
         ]
        },
        "xaxis3": {
         "anchor": "y3",
         "domain": [
          0.7111111111111111,
          1
         ]
        },
        "xaxis4": {
         "anchor": "y4",
         "domain": [
          0,
          0.2888888888888889
         ]
        },
        "xaxis5": {
         "anchor": "y5",
         "domain": [
          0.35555555555555557,
          0.6444444444444445
         ]
        },
        "xaxis6": {
         "anchor": "y6",
         "domain": [
          0.7111111111111111,
          1
         ]
        },
        "xaxis7": {
         "anchor": "y7",
         "domain": [
          0,
          0.2888888888888889
         ]
        },
        "xaxis8": {
         "anchor": "y8",
         "domain": [
          0.35555555555555557,
          0.6444444444444445
         ]
        },
        "xaxis9": {
         "anchor": "y9",
         "domain": [
          0.7111111111111111,
          1
         ]
        },
        "yaxis": {
         "anchor": "x",
         "domain": [
          0.7777777777777778,
          1
         ]
        },
        "yaxis2": {
         "anchor": "x2",
         "domain": [
          0.7777777777777778,
          1
         ]
        },
        "yaxis3": {
         "anchor": "x3",
         "domain": [
          0.7777777777777778,
          1
         ]
        },
        "yaxis4": {
         "anchor": "x4",
         "domain": [
          0.3888888888888889,
          0.6111111111111112
         ]
        },
        "yaxis5": {
         "anchor": "x5",
         "domain": [
          0.3888888888888889,
          0.6111111111111112
         ]
        },
        "yaxis6": {
         "anchor": "x6",
         "domain": [
          0.3888888888888889,
          0.6111111111111112
         ]
        },
        "yaxis7": {
         "anchor": "x7",
         "domain": [
          0,
          0.22222222222222224
         ]
        },
        "yaxis8": {
         "anchor": "x8",
         "domain": [
          0,
          0.22222222222222224
         ]
        },
        "yaxis9": {
         "anchor": "x9",
         "domain": [
          0,
          0.22222222222222224
         ]
        }
       }
      }
     },
     "metadata": {},
     "output_type": "display_data"
    },
    {
     "name": "stdout",
     "output_type": "stream",
     "text": [
      "\n",
      "================================================================================\n",
      "MEMORY vs RELIABILITY ANALYSIS\n",
      "================================================================================\n",
      "Records: 80\n",
      "Overall Correlation: -0.3416\n"
     ]
    },
    {
     "data": {
      "application/vnd.plotly.v1+json": {
       "config": {
        "plotlyServerURL": "https://plot.ly"
       },
       "data": [
        {
         "customdata": [
          [
           "s018"
          ],
          [
           "s030"
          ],
          [
           "s036"
          ],
          [
           "s066"
          ],
          [
           "s078"
          ]
         ],
         "hovertemplate": "lang=c<br>z1000mem (Memory)=%{x}<br>m1000rel (%)=%{y}<br>person=%{customdata[0]}<extra></extra>",
         "legendgroup": "c",
         "marker": {
          "color": "#636efa",
          "symbol": "circle"
         },
         "mode": "markers",
         "name": "c",
         "orientation": "v",
         "showlegend": true,
         "type": "scatter",
         "x": {
          "bdata": "oFdIQrAsiAvgVw==",
          "dtype": "i2"
         },
         "xaxis": "x",
         "y": {
          "bdata": "MzMzMzMzWEBmZmZmZgZXQAAAAAAAYFZAAAAAAAAAWUCamZmZmZlYQA==",
          "dtype": "f8"
         },
         "yaxis": "y"
        },
        {
         "hovertemplate": "<b>OLS trendline</b><br>m1000rel = -2.92048e-05 * z1000mem + 95.8056<br>R<sup>2</sup>=0.002990<br><br>lang=c<br>z1000mem (Memory)=%{x}<br>m1000rel (%)=%{y} <b>(trend)</b><extra></extra>",
         "legendgroup": "c",
         "line": {
          "color": "red"
         },
         "marker": {
          "color": "#636efa",
          "symbol": "circle"
         },
         "mode": "lines",
         "name": "c",
         "showlegend": false,
         "type": "scatter",
         "x": {
          "bdata": "iAuwLEhCoFfgVw==",
          "dtype": "i2"
         },
         "xaxis": "x",
         "y": {
          "bdata": "Cv7KWwruV0Bf8VntLN5XQJyBO9TX01dAOrC1WqHJV0DZER27gslXQA==",
          "dtype": "f8"
         },
         "yaxis": "y"
        },
        {
         "customdata": [
          [
           "s015"
          ],
          [
           "s020"
          ],
          [
           "s021"
          ],
          [
           "s025"
          ],
          [
           "s027"
          ],
          [
           "s033"
          ],
          [
           "s034"
          ],
          [
           "s042"
          ],
          [
           "s051"
          ],
          [
           "s090"
          ],
          [
           "s096"
          ]
         ],
         "hovertemplate": "lang=c++<br>z1000mem (Memory)=%{x}<br>m1000rel (%)=%{y}<br>person=%{customdata[0]}<extra></extra>",
         "legendgroup": "c++",
         "marker": {
          "color": "#EF553B",
          "symbol": "circle"
         },
         "mode": "markers",
         "name": "c++",
         "orientation": "v",
         "showlegend": true,
         "type": "scatter",
         "x": {
          "bdata": "KGDwGMAUmG+QDShb0BqYWHgNOBB4FA==",
          "dtype": "i2"
         },
         "xaxis": "x",
         "y": {
          "bdata": "AAAAAAAAWUCamZmZmZlYQJqZmZmZmVhAmpmZmZmZWEAAAAAAAABZQJqZmZmZmVhAmpmZmZmZ8T8AAAAAAABZQJqZmZmZmVhAAAAAAAAAWUAAAAAAAABZQA==",
          "dtype": "f8"
         },
         "yaxis": "y"
        },
        {
         "hovertemplate": "<b>OLS trendline</b><br>m1000rel = 0.00050096 * z1000mem + 84.1759<br>R<sup>2</sup>=0.029571<br><br>lang=c++<br>z1000mem (Memory)=%{x}<br>m1000rel (%)=%{y} <b>(trend)</b><extra></extra>",
         "legendgroup": "c++",
         "line": {
          "color": "red"
         },
         "marker": {
          "color": "#EF553B",
          "symbol": "circle"
         },
         "mode": "lines",
         "name": "c++",
         "showlegend": false,
         "type": "scatter",
         "x": {
          "bdata": "eA2QDTgQeBTAFPAY0BqYWChbKGCYbw==",
          "dtype": "i2"
         },
         "xaxis": "x",
         "y": {
          "bdata": "UqtAxs55VUAQ4YnCk3pVQIh++QNhkFVAra1FBkOzVUDpTiH7kbVVQOQEkqrw11VAzzdKYFTnVUBRkr/QaeJXQAn65RVy91dAJdd7+nsgWECgvj3sMJ9YQA==",
          "dtype": "f8"
         },
         "yaxis": "y"
        },
        {
         "customdata": [
          [
           "s017"
          ],
          [
           "s023"
          ],
          [
           "s037"
          ],
          [
           "s040"
          ],
          [
           "s043"
          ],
          [
           "s047"
          ],
          [
           "s050"
          ],
          [
           "s053"
          ],
          [
           "s054"
          ],
          [
           "s056"
          ],
          [
           "s057"
          ],
          [
           "s059"
          ],
          [
           "s060"
          ],
          [
           "s062"
          ],
          [
           "s063"
          ],
          [
           "s065"
          ],
          [
           "s068"
          ],
          [
           "s072"
          ],
          [
           "s081"
          ],
          [
           "s084"
          ],
          [
           "s087"
          ],
          [
           "s093"
          ],
          [
           "s099"
          ],
          [
           "s102"
          ]
         ],
         "hovertemplate": "lang=java<br>z1000mem (Memory)=%{x}<br>m1000rel (%)=%{y}<br>person=%{customdata[0]}<extra></extra>",
         "legendgroup": "java",
         "marker": {
          "color": "#00cc96",
          "symbol": "circle"
         },
         "mode": "markers",
         "name": "java",
         "orientation": "v",
         "showlegend": true,
         "type": "scatter",
         "x": {
          "bdata": "4KMAAEBeAQDQ5gAAONwAACiNAABY1gAAqOIAAJjMAADQaQAAOFcAANiUAADAnQAA+HIAAOCVAAAQlwAAKMIAAIieAAAwzAAAuDYBANj+AADYmwAAoKIAACgUAQAAywAA",
          "dtype": "i4"
         },
         "xaxis": "x",
         "y": {
          "bdata": "ZmZmZmZmJECamZmZmZlYQGZmZmZmZiRAmpmZmZmZWECamZmZmblWQDMzMzMzMyRAZmZmZmZmJEBmZmZmZmYkQGZmZmZmZiRAAAAAAAAAWUBmZmZmZmYkQGZmZmZmZiRAMzMzMzMTWEBmZmZmZmYkQAAAAAAAAFlAmpmZmZl5WEBmZmZmZmYkQAAAAAAAAFlAZmZmZmZmJEAAAAAAAABZQAAAAAAAAFlAZmZmZmZmJECamZmZmZlYQGZmZmZmZhpA",
          "dtype": "f8"
         },
         "yaxis": "y"
        },
        {
         "hovertemplate": "<b>OLS trendline</b><br>m1000rel = 0.000191328 * z1000mem + 41.021<br>R<sup>2</sup>=0.004747<br><br>lang=java<br>z1000mem (Memory)=%{x}<br>m1000rel (%)=%{y} <b>(trend)</b><extra></extra>",
         "legendgroup": "java",
         "line": {
          "color": "red"
         },
         "marker": {
          "color": "#00cc96",
          "symbol": "circle"
         },
         "mode": "lines",
         "name": "java",
         "showlegend": false,
         "type": "scatter",
         "x": {
          "bdata": "OFcAANBpAAD4cgAAKI0AANiUAADglQAAEJcAANibAADAnQAAiJ4AAKCiAADgowAAKMIAAADLAAAwzAAAmMwAAFjWAAA43AAAqOIAANDmAADY/gAAKBQBALg2AQBAXgEA",
          "dtype": "i4"
         },
         "xaxis": "x",
         "y": {
          "bdata": "IbqM1IClRkDIdmdPExpHQI8hx9l6U0dA+b2FGan3R0BwFchV2ydIQCU613ZSLkhAWybZXsQ1SEAY/6omvlNIQAKB1qGxX0hAhGaUhJdkSEBz0QbhQX5IQHYNnRgYhkhAzhTOtPBDSUCUMEixYntJQMocSpnUgklAfiOOnmCFSUBgxO4cgcJJQJ8RZFVW50lAEy0QWrIPSkDP5xYGwSlKQBvDWIxqwEpAFA/njAhGS0DDcEd0uB5MQJaaNhKPFk1A",
          "dtype": "f8"
         },
         "yaxis": "y"
        },
        {
         "customdata": [
          [
           "s149101"
          ],
          [
           "s149102"
          ],
          [
           "s149103"
          ],
          [
           "s149105"
          ],
          [
           "s149106"
          ],
          [
           "s149107"
          ],
          [
           "s149108"
          ],
          [
           "s149109"
          ],
          [
           "s149110"
          ],
          [
           "s149111"
          ],
          [
           "s149112"
          ],
          [
           "s149113"
          ],
          [
           "s149114"
          ]
         ],
         "hovertemplate": "lang=perl<br>z1000mem (Memory)=%{x}<br>m1000rel (%)=%{y}<br>person=%{customdata[0]}<extra></extra>",
         "legendgroup": "perl",
         "marker": {
          "color": "#ab63fa",
          "symbol": "circle"
         },
         "mode": "markers",
         "name": "perl",
         "orientation": "v",
         "showlegend": true,
         "type": "scatter",
         "x": {
          "bdata": "wEMAAOAeAQBAYwAAMHsAAEhEAABQQwAA6B4BAKBDAABQQwAASEMAAKhEAABgTwAAiFUAAA==",
          "dtype": "i4"
         },
         "xaxis": "x",
         "y": {
          "bdata": "AAAAAAAAWUAAAAAAAAAAAAAAAAAAAFlAAAAAAAAAWUAAAAAAAABZQAAAAAAAAFlAAAAAAAAAWUAAAAAAAABZQAAAAAAAAFlAAAAAAAAAWUCamZmZmZlYQAAAAAAAAAAAmpmZmZmZWEA=",
          "dtype": "f8"
         },
         "yaxis": "y"
        },
        {
         "hovertemplate": "<b>OLS trendline</b><br>m1000rel = -0.000733266 * z1000mem + 105.095<br>R<sup>2</sup>=0.161026<br><br>lang=perl<br>z1000mem (Memory)=%{x}<br>m1000rel (%)=%{y} <b>(trend)</b><extra></extra>",
         "legendgroup": "perl",
         "line": {
          "color": "red"
         },
         "marker": {
          "color": "#ab63fa",
          "symbol": "circle"
         },
         "mode": "lines",
         "name": "perl",
         "showlegend": false,
         "type": "scatter",
         "x": {
          "bdata": "SEMAAFBDAABQQwAAoEMAAMBDAABIRAAAqEQAAGBPAACIVQAAQGMAADB7AADgHgEA6B4BAA==",
          "dtype": "i4"
         },
         "xaxis": "x",
         "y": {
          "bdata": "LX8b+sgdV0DxI8fdaB1XQPEjx91oHVdAmZN7wqcZV0CoJipRJxhXQKwXkG/FEVdA29CbG0QNV0Bqk5UmfoxWQDdeq1mIQlZAQuoCxbedVUCd7JkAI35UQFtcLrU+n0lA46WFfH6eSUA=",
          "dtype": "f8"
         },
         "yaxis": "y"
        },
        {
         "customdata": [
          [
           "s149201"
          ],
          [
           "s149202"
          ],
          [
           "s149203"
          ],
          [
           "s149204"
          ],
          [
           "s149205"
          ],
          [
           "s149206"
          ],
          [
           "s149207"
          ],
          [
           "s149208"
          ],
          [
           "s149209"
          ],
          [
           "s149210"
          ],
          [
           "s149211"
          ],
          [
           "s149212"
          ],
          [
           "s149213"
          ]
         ],
         "hovertemplate": "lang=python<br>z1000mem (Memory)=%{x}<br>m1000rel (%)=%{y}<br>person=%{customdata[0]}<extra></extra>",
         "legendgroup": "python",
         "marker": {
          "color": "#FFA15A",
          "symbol": "circle"
         },
         "mode": "markers",
         "name": "python",
         "orientation": "v",
         "showlegend": true,
         "type": "scatter",
         "x": {
          "bdata": "UFgAAHhFAABgNQAAQDUAALhDAACoQwAA0DsAAJg+AAAoOQAASEQAAPBjAQDgNgAAsDYAAA==",
          "dtype": "i4"
         },
         "xaxis": "x",
         "y": {
          "bdata": "AAAAAAAAWUCamZmZmZlYQAAAAAAAAFlAAAAAAAAAWUBmZmZmZmYkQAAAAAAAAFlAAAAAAAAAWUCamZmZmZlYQAAAAAAAAAAAZmZmZmZmJEBmZmZmZmYkQAAAAAAAAFlAAAAAAAAAWUA=",
          "dtype": "f8"
         },
         "yaxis": "y"
        },
        {
         "hovertemplate": "<b>OLS trendline</b><br>m1000rel = -0.000885531 * z1000mem + 90.7493<br>R<sup>2</sup>=0.175425<br><br>lang=python<br>z1000mem (Memory)=%{x}<br>m1000rel (%)=%{y} <b>(trend)</b><extra></extra>",
         "legendgroup": "python",
         "line": {
          "color": "red"
         },
         "marker": {
          "color": "#FFA15A",
          "symbol": "circle"
         },
         "mode": "lines",
         "name": "python",
         "showlegend": false,
         "type": "scatter",
         "x": {
          "bdata": "QDUAAGA1AACwNgAA4DYAACg5AADQOwAAmD4AAKhDAAC4QwAASEQAAHhFAABQWAAA8GMBAA==",
          "dtype": "i4"
         },
         "xaxis": "x",
         "y": {
          "bdata": "7buOJGCrU0ANq5bej6lTQN756f+EllNAjuD1lsyTU0CXrAaas3JTQABGL8spTFNAis5fts8jU0AcI6GkXNpSQKwapYF02VJAvc7IRkvRUkBtLhSuEMBSQI8+QHqrrlFAuO3YdJIeJEA=",
          "dtype": "f8"
         },
         "yaxis": "y"
        },
        {
         "customdata": [
          [
           "s149301"
          ],
          [
           "s149302"
          ],
          [
           "s149303"
          ],
          [
           "s149304"
          ]
         ],
         "hovertemplate": "lang=rexx<br>z1000mem (Memory)=%{x}<br>m1000rel (%)=%{y}<br>person=%{customdata[0]}<extra></extra>",
         "legendgroup": "rexx",
         "marker": {
          "color": "#19d3f3",
          "symbol": "circle"
         },
         "mode": "markers",
         "name": "rexx",
         "orientation": "v",
         "showlegend": true,
         "type": "scatter",
         "x": {
          "bdata": "CCOgUphSWCM=",
          "dtype": "i2"
         },
         "xaxis": "x",
         "y": {
          "bdata": "mpmZmZmZWEDNzMzMzExHQJqZmZmZuVhAAAAAAAAAWUA=",
          "dtype": "f8"
         },
         "yaxis": "y"
        },
        {
         "hovertemplate": "<b>OLS trendline</b><br>m1000rel = -0.00217969 * z1000mem + 118.84<br>R<sup>2</sup>=0.338511<br><br>lang=rexx<br>z1000mem (Memory)=%{x}<br>m1000rel (%)=%{y} <b>(trend)</b><extra></extra>",
         "legendgroup": "rexx",
         "line": {
          "color": "red"
         },
         "marker": {
          "color": "#19d3f3",
          "symbol": "circle"
         },
         "mode": "lines",
         "name": "rexx",
         "showlegend": false,
         "type": "scatter",
         "x": {
          "bdata": "CCNYI5hSoFI=",
          "dtype": "i2"
         },
         "xaxis": "x",
         "y": {
          "bdata": "/cBDgb7SWECcuzmMlcdYQI5bG58xMFJAasEA7RMvUkA=",
          "dtype": "f8"
         },
         "yaxis": "y"
        },
        {
         "customdata": [
          [
           "s149401"
          ],
          [
           "s149402"
          ],
          [
           "s149403"
          ],
          [
           "s149405"
          ],
          [
           "s149406"
          ],
          [
           "s149407"
          ],
          [
           "s149408"
          ],
          [
           "s149409"
          ],
          [
           "s149410"
          ],
          [
           "s149411"
          ]
         ],
         "hovertemplate": "lang=tcl<br>z1000mem (Memory)=%{x}<br>m1000rel (%)=%{y}<br>person=%{customdata[0]}<extra></extra>",
         "legendgroup": "tcl",
         "marker": {
          "color": "#FF6692",
          "symbol": "circle"
         },
         "mode": "markers",
         "name": "tcl",
         "orientation": "v",
         "showlegend": true,
         "type": "scatter",
         "x": {
          "bdata": "kH4AAFhyAADQcAAA+K0AAPBmAAAIRQAAyL4AAJhaAABITwAAyFMAAA==",
          "dtype": "i4"
         },
         "xaxis": "x",
         "y": {
          "bdata": "AAAAAAAAWUAAAAAAAABZQAAAAAAAAFlAAAAAAAAAWUAAAAAAAABZQAAAAAAAAFlAAAAAAAAAWUAAAAAAAABZQGZmZmZmZiRAAAAAAAAAWUA=",
          "dtype": "f8"
         },
         "yaxis": "y"
        },
        {
         "hovertemplate": "<b>OLS trendline</b><br>m1000rel = 0.000852148 * z1000mem + 66.0616<br>R<sup>2</sup>=0.094818<br><br>lang=tcl<br>z1000mem (Memory)=%{x}<br>m1000rel (%)=%{y} <b>(trend)</b><extra></extra>",
         "legendgroup": "tcl",
         "line": {
          "color": "red"
         },
         "marker": {
          "color": "#FF6692",
          "symbol": "circle"
         },
         "mode": "lines",
         "name": "tcl",
         "showlegend": false,
         "type": "scatter",
         "x": {
          "bdata": "CEUAAEhPAADIUwAAmFoAAPBmAADQcAAAWHIAAJB+AAD4rQAAyL4AAA==",
          "dtype": "i4"
         },
         "xaxis": "x",
         "y": {
          "bdata": "3Y75nrpHVECpM8bY1dZUQJgkvJqpFVVAWLFeoMZ0VUA/NmpEHSFWQPgGDS78qlZA9CgNIF3AVkApZ7X+9GpXQFrhB+rSAFpAhIWwno3rWkA=",
          "dtype": "f8"
         },
         "yaxis": "y"
        }
       ],
       "layout": {
        "height": 600,
        "legend": {
         "title": {
          "text": "lang"
         },
         "tracegroupgap": 0
        },
        "template": {
         "data": {
          "bar": [
           {
            "error_x": {
             "color": "#2a3f5f"
            },
            "error_y": {
             "color": "#2a3f5f"
            },
            "marker": {
             "line": {
              "color": "white",
              "width": 0.5
             },
             "pattern": {
              "fillmode": "overlay",
              "size": 10,
              "solidity": 0.2
             }
            },
            "type": "bar"
           }
          ],
          "barpolar": [
           {
            "marker": {
             "line": {
              "color": "white",
              "width": 0.5
             },
             "pattern": {
              "fillmode": "overlay",
              "size": 10,
              "solidity": 0.2
             }
            },
            "type": "barpolar"
           }
          ],
          "carpet": [
           {
            "aaxis": {
             "endlinecolor": "#2a3f5f",
             "gridcolor": "#C8D4E3",
             "linecolor": "#C8D4E3",
             "minorgridcolor": "#C8D4E3",
             "startlinecolor": "#2a3f5f"
            },
            "baxis": {
             "endlinecolor": "#2a3f5f",
             "gridcolor": "#C8D4E3",
             "linecolor": "#C8D4E3",
             "minorgridcolor": "#C8D4E3",
             "startlinecolor": "#2a3f5f"
            },
            "type": "carpet"
           }
          ],
          "choropleth": [
           {
            "colorbar": {
             "outlinewidth": 0,
             "ticks": ""
            },
            "type": "choropleth"
           }
          ],
          "contour": [
           {
            "colorbar": {
             "outlinewidth": 0,
             "ticks": ""
            },
            "colorscale": [
             [
              0,
              "#0d0887"
             ],
             [
              0.1111111111111111,
              "#46039f"
             ],
             [
              0.2222222222222222,
              "#7201a8"
             ],
             [
              0.3333333333333333,
              "#9c179e"
             ],
             [
              0.4444444444444444,
              "#bd3786"
             ],
             [
              0.5555555555555556,
              "#d8576b"
             ],
             [
              0.6666666666666666,
              "#ed7953"
             ],
             [
              0.7777777777777778,
              "#fb9f3a"
             ],
             [
              0.8888888888888888,
              "#fdca26"
             ],
             [
              1,
              "#f0f921"
             ]
            ],
            "type": "contour"
           }
          ],
          "contourcarpet": [
           {
            "colorbar": {
             "outlinewidth": 0,
             "ticks": ""
            },
            "type": "contourcarpet"
           }
          ],
          "heatmap": [
           {
            "colorbar": {
             "outlinewidth": 0,
             "ticks": ""
            },
            "colorscale": [
             [
              0,
              "#0d0887"
             ],
             [
              0.1111111111111111,
              "#46039f"
             ],
             [
              0.2222222222222222,
              "#7201a8"
             ],
             [
              0.3333333333333333,
              "#9c179e"
             ],
             [
              0.4444444444444444,
              "#bd3786"
             ],
             [
              0.5555555555555556,
              "#d8576b"
             ],
             [
              0.6666666666666666,
              "#ed7953"
             ],
             [
              0.7777777777777778,
              "#fb9f3a"
             ],
             [
              0.8888888888888888,
              "#fdca26"
             ],
             [
              1,
              "#f0f921"
             ]
            ],
            "type": "heatmap"
           }
          ],
          "histogram": [
           {
            "marker": {
             "pattern": {
              "fillmode": "overlay",
              "size": 10,
              "solidity": 0.2
             }
            },
            "type": "histogram"
           }
          ],
          "histogram2d": [
           {
            "colorbar": {
             "outlinewidth": 0,
             "ticks": ""
            },
            "colorscale": [
             [
              0,
              "#0d0887"
             ],
             [
              0.1111111111111111,
              "#46039f"
             ],
             [
              0.2222222222222222,
              "#7201a8"
             ],
             [
              0.3333333333333333,
              "#9c179e"
             ],
             [
              0.4444444444444444,
              "#bd3786"
             ],
             [
              0.5555555555555556,
              "#d8576b"
             ],
             [
              0.6666666666666666,
              "#ed7953"
             ],
             [
              0.7777777777777778,
              "#fb9f3a"
             ],
             [
              0.8888888888888888,
              "#fdca26"
             ],
             [
              1,
              "#f0f921"
             ]
            ],
            "type": "histogram2d"
           }
          ],
          "histogram2dcontour": [
           {
            "colorbar": {
             "outlinewidth": 0,
             "ticks": ""
            },
            "colorscale": [
             [
              0,
              "#0d0887"
             ],
             [
              0.1111111111111111,
              "#46039f"
             ],
             [
              0.2222222222222222,
              "#7201a8"
             ],
             [
              0.3333333333333333,
              "#9c179e"
             ],
             [
              0.4444444444444444,
              "#bd3786"
             ],
             [
              0.5555555555555556,
              "#d8576b"
             ],
             [
              0.6666666666666666,
              "#ed7953"
             ],
             [
              0.7777777777777778,
              "#fb9f3a"
             ],
             [
              0.8888888888888888,
              "#fdca26"
             ],
             [
              1,
              "#f0f921"
             ]
            ],
            "type": "histogram2dcontour"
           }
          ],
          "mesh3d": [
           {
            "colorbar": {
             "outlinewidth": 0,
             "ticks": ""
            },
            "type": "mesh3d"
           }
          ],
          "parcoords": [
           {
            "line": {
             "colorbar": {
              "outlinewidth": 0,
              "ticks": ""
             }
            },
            "type": "parcoords"
           }
          ],
          "pie": [
           {
            "automargin": true,
            "type": "pie"
           }
          ],
          "scatter": [
           {
            "fillpattern": {
             "fillmode": "overlay",
             "size": 10,
             "solidity": 0.2
            },
            "type": "scatter"
           }
          ],
          "scatter3d": [
           {
            "line": {
             "colorbar": {
              "outlinewidth": 0,
              "ticks": ""
             }
            },
            "marker": {
             "colorbar": {
              "outlinewidth": 0,
              "ticks": ""
             }
            },
            "type": "scatter3d"
           }
          ],
          "scattercarpet": [
           {
            "marker": {
             "colorbar": {
              "outlinewidth": 0,
              "ticks": ""
             }
            },
            "type": "scattercarpet"
           }
          ],
          "scattergeo": [
           {
            "marker": {
             "colorbar": {
              "outlinewidth": 0,
              "ticks": ""
             }
            },
            "type": "scattergeo"
           }
          ],
          "scattergl": [
           {
            "marker": {
             "colorbar": {
              "outlinewidth": 0,
              "ticks": ""
             }
            },
            "type": "scattergl"
           }
          ],
          "scattermap": [
           {
            "marker": {
             "colorbar": {
              "outlinewidth": 0,
              "ticks": ""
             }
            },
            "type": "scattermap"
           }
          ],
          "scattermapbox": [
           {
            "marker": {
             "colorbar": {
              "outlinewidth": 0,
              "ticks": ""
             }
            },
            "type": "scattermapbox"
           }
          ],
          "scatterpolar": [
           {
            "marker": {
             "colorbar": {
              "outlinewidth": 0,
              "ticks": ""
             }
            },
            "type": "scatterpolar"
           }
          ],
          "scatterpolargl": [
           {
            "marker": {
             "colorbar": {
              "outlinewidth": 0,
              "ticks": ""
             }
            },
            "type": "scatterpolargl"
           }
          ],
          "scatterternary": [
           {
            "marker": {
             "colorbar": {
              "outlinewidth": 0,
              "ticks": ""
             }
            },
            "type": "scatterternary"
           }
          ],
          "surface": [
           {
            "colorbar": {
             "outlinewidth": 0,
             "ticks": ""
            },
            "colorscale": [
             [
              0,
              "#0d0887"
             ],
             [
              0.1111111111111111,
              "#46039f"
             ],
             [
              0.2222222222222222,
              "#7201a8"
             ],
             [
              0.3333333333333333,
              "#9c179e"
             ],
             [
              0.4444444444444444,
              "#bd3786"
             ],
             [
              0.5555555555555556,
              "#d8576b"
             ],
             [
              0.6666666666666666,
              "#ed7953"
             ],
             [
              0.7777777777777778,
              "#fb9f3a"
             ],
             [
              0.8888888888888888,
              "#fdca26"
             ],
             [
              1,
              "#f0f921"
             ]
            ],
            "type": "surface"
           }
          ],
          "table": [
           {
            "cells": {
             "fill": {
              "color": "#EBF0F8"
             },
             "line": {
              "color": "white"
             }
            },
            "header": {
             "fill": {
              "color": "#C8D4E3"
             },
             "line": {
              "color": "white"
             }
            },
            "type": "table"
           }
          ]
         },
         "layout": {
          "annotationdefaults": {
           "arrowcolor": "#2a3f5f",
           "arrowhead": 0,
           "arrowwidth": 1
          },
          "autotypenumbers": "strict",
          "coloraxis": {
           "colorbar": {
            "outlinewidth": 0,
            "ticks": ""
           }
          },
          "colorscale": {
           "diverging": [
            [
             0,
             "#8e0152"
            ],
            [
             0.1,
             "#c51b7d"
            ],
            [
             0.2,
             "#de77ae"
            ],
            [
             0.3,
             "#f1b6da"
            ],
            [
             0.4,
             "#fde0ef"
            ],
            [
             0.5,
             "#f7f7f7"
            ],
            [
             0.6,
             "#e6f5d0"
            ],
            [
             0.7,
             "#b8e186"
            ],
            [
             0.8,
             "#7fbc41"
            ],
            [
             0.9,
             "#4d9221"
            ],
            [
             1,
             "#276419"
            ]
           ],
           "sequential": [
            [
             0,
             "#0d0887"
            ],
            [
             0.1111111111111111,
             "#46039f"
            ],
            [
             0.2222222222222222,
             "#7201a8"
            ],
            [
             0.3333333333333333,
             "#9c179e"
            ],
            [
             0.4444444444444444,
             "#bd3786"
            ],
            [
             0.5555555555555556,
             "#d8576b"
            ],
            [
             0.6666666666666666,
             "#ed7953"
            ],
            [
             0.7777777777777778,
             "#fb9f3a"
            ],
            [
             0.8888888888888888,
             "#fdca26"
            ],
            [
             1,
             "#f0f921"
            ]
           ],
           "sequentialminus": [
            [
             0,
             "#0d0887"
            ],
            [
             0.1111111111111111,
             "#46039f"
            ],
            [
             0.2222222222222222,
             "#7201a8"
            ],
            [
             0.3333333333333333,
             "#9c179e"
            ],
            [
             0.4444444444444444,
             "#bd3786"
            ],
            [
             0.5555555555555556,
             "#d8576b"
            ],
            [
             0.6666666666666666,
             "#ed7953"
            ],
            [
             0.7777777777777778,
             "#fb9f3a"
            ],
            [
             0.8888888888888888,
             "#fdca26"
            ],
            [
             1,
             "#f0f921"
            ]
           ]
          },
          "colorway": [
           "#636efa",
           "#EF553B",
           "#00cc96",
           "#ab63fa",
           "#FFA15A",
           "#19d3f3",
           "#FF6692",
           "#B6E880",
           "#FF97FF",
           "#FECB52"
          ],
          "font": {
           "color": "#2a3f5f"
          },
          "geo": {
           "bgcolor": "white",
           "lakecolor": "white",
           "landcolor": "white",
           "showlakes": true,
           "showland": true,
           "subunitcolor": "#C8D4E3"
          },
          "hoverlabel": {
           "align": "left"
          },
          "hovermode": "closest",
          "mapbox": {
           "style": "light"
          },
          "paper_bgcolor": "white",
          "plot_bgcolor": "white",
          "polar": {
           "angularaxis": {
            "gridcolor": "#EBF0F8",
            "linecolor": "#EBF0F8",
            "ticks": ""
           },
           "bgcolor": "white",
           "radialaxis": {
            "gridcolor": "#EBF0F8",
            "linecolor": "#EBF0F8",
            "ticks": ""
           }
          },
          "scene": {
           "xaxis": {
            "backgroundcolor": "white",
            "gridcolor": "#DFE8F3",
            "gridwidth": 2,
            "linecolor": "#EBF0F8",
            "showbackground": true,
            "ticks": "",
            "zerolinecolor": "#EBF0F8"
           },
           "yaxis": {
            "backgroundcolor": "white",
            "gridcolor": "#DFE8F3",
            "gridwidth": 2,
            "linecolor": "#EBF0F8",
            "showbackground": true,
            "ticks": "",
            "zerolinecolor": "#EBF0F8"
           },
           "zaxis": {
            "backgroundcolor": "white",
            "gridcolor": "#DFE8F3",
            "gridwidth": 2,
            "linecolor": "#EBF0F8",
            "showbackground": true,
            "ticks": "",
            "zerolinecolor": "#EBF0F8"
           }
          },
          "shapedefaults": {
           "line": {
            "color": "#2a3f5f"
           }
          },
          "ternary": {
           "aaxis": {
            "gridcolor": "#DFE8F3",
            "linecolor": "#A2B1C6",
            "ticks": ""
           },
           "baxis": {
            "gridcolor": "#DFE8F3",
            "linecolor": "#A2B1C6",
            "ticks": ""
           },
           "bgcolor": "white",
           "caxis": {
            "gridcolor": "#DFE8F3",
            "linecolor": "#A2B1C6",
            "ticks": ""
           }
          },
          "title": {
           "x": 0.05
          },
          "xaxis": {
           "automargin": true,
           "gridcolor": "#EBF0F8",
           "linecolor": "#EBF0F8",
           "ticks": "",
           "title": {
            "standoff": 15
           },
           "zerolinecolor": "#EBF0F8",
           "zerolinewidth": 2
          },
          "yaxis": {
           "automargin": true,
           "gridcolor": "#EBF0F8",
           "linecolor": "#EBF0F8",
           "ticks": "",
           "title": {
            "standoff": 15
           },
           "zerolinecolor": "#EBF0F8",
           "zerolinewidth": 2
          }
         }
        },
        "title": {
         "text": "Memory vs Reliability: z1000mem vs m1000rel"
        },
        "width": 1000,
        "xaxis": {
         "anchor": "y",
         "domain": [
          0,
          1
         ],
         "title": {
          "text": "z1000mem (Memory)"
         }
        },
        "yaxis": {
         "anchor": "x",
         "domain": [
          0,
          1
         ],
         "title": {
          "text": "m1000rel (%)"
         }
        }
       }
      }
     },
     "metadata": {},
     "output_type": "display_data"
    },
    {
     "data": {
      "application/vnd.plotly.v1+json": {
       "config": {
        "plotlyServerURL": "https://plot.ly"
       },
       "data": [
        {
         "hovertemplate": "<b>%{text}</b><br>z1000mem: %{x:.0f}<br>m1000rel: %{y:.2f}<extra></extra>",
         "marker": {
          "color": "#636EFA",
          "size": 8
         },
         "mode": "markers",
         "name": "C",
         "showlegend": false,
         "text": [
          "s018",
          "s030",
          "s036",
          "s066",
          "s078"
         ],
         "type": "scatter",
         "x": {
          "bdata": "oFdIQrAsiAvgVw==",
          "dtype": "i2"
         },
         "xaxis": "x",
         "y": {
          "bdata": "MzMzMzMzWEBmZmZmZgZXQAAAAAAAYFZAAAAAAAAAWUCamZmZmZlYQA==",
          "dtype": "f8"
         },
         "yaxis": "y"
        },
        {
         "hoverinfo": "skip",
         "line": {
          "color": "red",
          "dash": "dash",
          "width": 2
         },
         "mode": "lines",
         "showlegend": false,
         "type": "scatter",
         "x": {
          "bdata": "AAAAAAAQp0BQ61cK1JqoQKDWrxSoJapA8MEHH3ywq0BBrV8pUDutQJGYtzMkxq5A8MEHH3wosECZtzMk5u2wQEGtXylQs7FA6aKLLrp4skCRmLczJD6zQDmO4ziOA7RA4YMPPvjItECJeTtDYo61QDJvZ0jMU7ZA2mSTTTYZt0CCWr9SoN63QCpQ61cKpLhA0kUXXXRpuUB6O0Ni3i66QCIxb2dI9LpAyiabbLK5u0ByHMdxHH+8QBoS83aGRL1AwgcffPAJvkBq/UqBWs++QBLzdobElL9AXnTRRRctwEAyb2dIzI/AQAZq/UqB8sBA2mSTTTZVwUCuXylQ67fBQIJav1KgGsJAVlVVVVV9wkAqUOtXCuDCQP5KgVq/QsNA0kUXXXSlw0CmQK1fKQjEQHo7Q2LeasRATjbZZJPNxEAiMW9nSDDFQPYrBWr9ksVAyiabbLL1xUCeITFvZ1jGQHIcx3Ecu8ZARhdddNEdx0AaEvN2hoDHQO4MiXk748dAwgcffPBFyECWArV+pajIQGr9SoFaC8lAPvjggw9uyUAS83aGxNDJQObtDIl5M8pAu+iiiy6WykCP4ziO4/jKQGPezpCYW8tAN9lkk02+y0AL1PqVAiHMQN/OkJi3g8xAs8kmm2zmzECHxLydIUnNQFu/UqDWq81AL7rooosOzkADtX6lQHHOQNevFKj1085Aq6qqqqo2z0B/pUCtX5nPQFOg1q8U/M9AlE022WQv0ED+SoFav2DQQGhIzNsZktBA0kUXXXTD0EA8Q2LezvTQQKZArV8pJtFAED744INX0UB6O0Ni3ojRQOQ4juM4utFATjbZZJPr0UC4MyTm7RzSQCIxb2dITtJAjC666KJ/0kD2KwVq/bDSQGApUOtX4tJAyiabbLIT00A0JObtDEXTQJ4hMW9ndtNACB988MGn00ByHMdxHNnTQNwZEvN2CtRARhdddNE71ECwFKj1K23UQBoS83aGntRAhA8++ODP1EDuDIl5OwHVQFgK1PqVMtVAwgcffPBj1UAsBWr9SpXVQJYCtX6lxtVAAAAAAAD41UA=",
          "dtype": "f8"
         },
         "xaxis": "x",
         "y": {
          "bdata": "EP7KWwruV0BJaM7lq+1XQIHS0W9N7VdAuTzV+e7sV0DyptiDkOxXQCoR3A0y7FdAY3vfl9PrV0Cb5eIhdetXQNNP5qsW61dADLrpNbjqV0BEJO2/WepXQHyO8En76VdAtfjz05zpV0DtYvddPulXQCbN+uff6FdAXjf+cYHoV0CWoQH8IuhXQM8LBYbE51dAB3YIEGbnV0A/4AuaB+dXQHhKDySp5ldAsLQSrkrmV0DpHhY47OVXQCGJGcKN5VdAWfMcTC/lV0CSXSDW0ORXQMrHI2By5FdAAjIn6hPkV0A7nCp0teNXQHMGLv5W41dArHAxiPjiV0Dk2jQSmuJXQBxFOJw74ldAVa87Jt3hV0CNGT+wfuFXQMWDQjog4VdA/u1FxMHgV0A2WElOY+BXQG/CTNgE4FdApyxQYqbfV0DfllPsR99XQBgBV3bp3ldAUGtaAIveV0CI1V2KLN5XQME/YRTO3VdA+alknm/dV0AyFGgoEd1XQGp+a7Ky3FdAouhuPFTcV0DbUnLG9dtXQBO9dVCX21dASyd52jjbV0CEkXxk2tpXQLz7f+572ldA9WWDeB3aV0At0IYCv9lXQGU6ioxg2VdAnqSNFgLZV0DWDpGgo9hXQA55lCpF2FdAR+OXtObXV0B/TZs+iNdXQLi3nsgp11dA8CGiUsvWV0AojKXcbNZXQGH2qGYO1ldAmWCs8K/VV0DRyq96UdVXQAo1swTz1FdAQp+2jpTUV0B7CboYNtRXQLNzvaLX01dA693ALHnTV0AkSMS2GtNXQFyyx0C80ldAlBzLyl3SV0DNhs5U/9FXQAXx0d6g0VdAPlvVaELRV0B2xdjy49BXQK4v3HyF0FdA55nfBifQV0AfBOOQyM9XQFdu5hpqz1dAkNjppAvPV0DIQu0urc5XQAGt8LhOzldAORf0QvDNV0BxgffMkc1XQKrr+lYzzVdA4lX+4NTMV0AawAFrdsxXQFMqBfUXzFdAi5QIf7nLV0DE/gsJW8tXQPxoD5P8yldANNMSHZ7KV0BtPRanP8pXQKWnGTHhyVdA3REdu4LJV0A=",
          "dtype": "f8"
         },
         "yaxis": "y"
        },
        {
         "hovertemplate": "<b>%{text}</b><br>z1000mem: %{x:.0f}<br>m1000rel: %{y:.2f}<extra></extra>",
         "marker": {
          "color": "#EF553B",
          "size": 8
         },
         "mode": "markers",
         "name": "C++",
         "showlegend": false,
         "text": [
          "s015",
          "s020",
          "s021",
          "s025",
          "s027",
          "s033",
          "s034",
          "s042",
          "s051",
          "s090",
          "s096"
         ],
         "type": "scatter",
         "x": {
          "bdata": "KGDwGMAUmG+QDShb0BqYWHgNOBB4FA==",
          "dtype": "i2"
         },
         "xaxis": "x2",
         "y": {
          "bdata": "AAAAAAAAWUCamZmZmZlYQJqZmZmZmVhAmpmZmZmZWEAAAAAAAABZQJqZmZmZmVhAmpmZmZmZ8T8AAAAAAABZQJqZmZmZmVhAAAAAAAAAWUAAAAAAAABZQA==",
          "dtype": "f8"
         },
         "yaxis": "y2"
        },
        {
         "hoverinfo": "skip",
         "line": {
          "color": "red",
          "dash": "dash",
          "width": 2
         },
         "mode": "lines",
         "showlegend": false,
         "type": "scatter",
         "x": {
          "bdata": "AAAAAADwqkDm7QyJeeusQMzbGRLz5q5A2WSTTTZxsEDM2xkS826xQL9SoNavbLJAsskmm2xqs0CmQK1fKWi0QJi3MyTmZbVAjC666KJjtkB+pUCtX2G3QHIcx3EcX7hAZZNNNtlcuUBYCtT6lVq6QEuBWr9SWLtAPvjggw9WvEAxb2dIzFO9QCTm7QyJUb5AF1100UVPv0AFav1KgSbAQH6lQK1fpcBA+OCDDz4kwUByHMdxHKPBQOtXCtT6IcJAZZNNNtmgwkDezpCYtx/DQFgK1PqVnsNA0kUXXXQdxEBLgVq/UpzEQMS8nSExG8VAPvjggw+axUC4MyTm7RjGQDFvZ0jMl8ZAq6qqqqoWx0Ak5u0MiZXHQJ4hMW9nFMhAF1100UWTyECRmLczJBLJQArU+pUCkclAhA8++OAPykD9SoFav47KQHeGxLydDctA8MEHH3yMy0Bq/UqBWgvMQOM4juM4isxAXXTRRRcJzUDWrxSo9YfNQFDrVwrUBs5AyiabbLKFzkBDYt7OkATPQL2dITFvg89Am2yyySYB0EBYCtT6lUDQQBSo9SsFgNBA0kUXXXS/0ECO4ziO4/7QQEuBWr9SPtFACB988MF90UDEvJ0hMb3RQIFav1Kg/NFAPvjggw880kD6lQK1fnvSQLgzJObtutJAdNFFF1360kAxb2dIzDnTQO4MiXk7edNAq6qqqqq400BnSMzbGfjTQCTm7QyJN9RA4YMPPvh21ECeITFvZ7bUQFq/UqDW9dRAF1100UU11UDU+pUCtXTVQJGYtzMktNVATTbZZJPz1UAK1PqVAjPWQMdxHMdxctZAhA8++OCx1kBArV8pUPHWQP1KgVq/MNdAuuiiiy5w10B3hsS8na/XQDQk5u0M79dA8MEHH3wu2ECtXylQ623YQGr9SoFardhAJ5tsssns2EDjOI7jOCzZQKDWrxSoa9lAXXTRRRer2UAaEvN2hurZQNavFKj1KdpAk0022WRp2kBQ61cK1KjaQA2JeTtD6NpAyiabbLIn20CGxLydIWfbQENi3s6QpttAAAAAAADm20A=",
          "dtype": "f8"
         },
         "xaxis": "x2",
         "y": {
          "bdata": "VqtAxs55VUCzsMlh8YFVQBG2Uv0TilVAb7vbmDaSVUDNwGQ0WZpVQCvG7c97olVAict2a56qVUDn0P8GwbJVQEXWiKLjulVAo9sRPgbDVUAA4ZrZKMtVQF7mI3VL01VAvOusEG7bVUAa8TWskONVQHj2vkez61VA1vtH49XzVUA0AdF++PtVQJIGWhobBFZA8AvjtT0MVkBOEWxRYBRWQKsW9eyCHFZACRx+iKUkVkBnIQckyCxWQMUmkL/qNFZAIywZWw09VkCBMaL2L0VWQN82K5JSTVZAPTy0LXVVVkCbQT3Jl11WQPhGxmS6ZVZAVkxPAN1tVkC0Udib/3VWQBJXYTciflZAcFzq0kSGVkDOYXNuZ45WQCxn/AmKllZAimyFpayeVkDocQ5Bz6ZWQEZ3l9zxrlZAo3wgeBS3VkABgqkTN79WQF+HMq9Zx1ZAvYy7SnzPVkAbkkTmntdWQHmXzYHB31ZA15xWHeTnVkA1ot+4BvBWQJOnaFQp+FZA8Kzx70sAV0BOsnqLbghXQKy3AyeREFdACr2MwrMYV0BowhVe1iBXQMbHnvn4KFdAJM0nlRsxV0CC0rAwPjlXQODXOcxgQVdAPt3CZ4NJV0Cb4ksDplFXQPnn1J7IWVdAV+1dOuthV0C18ubVDWpXQBP4b3EwcldAcf34DFN6V0DPAoKodYJXQC0IC0SYildAig2U37qSV0DoEh173ZpXQEYYphYAo1dApB0vsiKrV0ACI7hNRbNXQGAoQelnu1dAvi3KhIrDV0AcM1MgrctXQHo43LvP01dA2D1lV/LbV0A1Q+7yFORXQJNId4437FdA8U0AKlr0V0BPU4nFfPxXQK1YEmGfBFhAC16b/MEMWEBpYySY5BRYQMdorTMHHVhAJG42zyklWECCc79qTC1YQOB4SAZvNVhAPn7RoZE9WECcg1o9tEVYQPqI49jWTVhAWI5sdPlVWEC2k/UPHF5YQBSZfqs+ZlhAcp4HR2FuWEDQo5Dig3ZYQC2pGX6mflhAi66iGcmGWEDpsyu1645YQEe5tFAOl1hApb497DCfWEA=",
          "dtype": "f8"
         },
         "yaxis": "y2"
        },
        {
         "hovertemplate": "<b>%{text}</b><br>z1000mem: %{x:.0f}<br>m1000rel: %{y:.2f}<extra></extra>",
         "marker": {
          "color": "#00CC96",
          "size": 8
         },
         "mode": "markers",
         "name": "JAVA",
         "showlegend": false,
         "text": [
          "s017",
          "s023",
          "s037",
          "s040",
          "s043",
          "s047",
          "s050",
          "s053",
          "s054",
          "s056",
          "s057",
          "s059",
          "s060",
          "s062",
          "s063",
          "s065",
          "s068",
          "s072",
          "s081",
          "s084",
          "s087",
          "s093",
          "s099",
          "s102"
         ],
         "type": "scatter",
         "x": {
          "bdata": "4KMAAEBeAQDQ5gAAONwAACiNAABY1gAAqOIAAJjMAADQaQAAOFcAANiUAADAnQAA+HIAAOCVAAAQlwAAKMIAAIieAAAwzAAAuDYBANj+AADYmwAAoKIAACgUAQAAywAA",
          "dtype": "i4"
         },
         "xaxis": "x3",
         "y": {
          "bdata": "ZmZmZmZmJECamZmZmZlYQGZmZmZmZiRAmpmZmZmZWECamZmZmblWQDMzMzMzMyRAZmZmZmZmJEBmZmZmZmYkQGZmZmZmZiRAAAAAAAAAWUBmZmZmZmYkQGZmZmZmZiRAMzMzMzMTWEBmZmZmZmYkQAAAAAAAAFlAmpmZmZl5WEBmZmZmZmYkQAAAAAAAAFlAZmZmZmZmJEAAAAAAAABZQAAAAAAAAFlAZmZmZmZmJECamZmZmZlYQGZmZmZmZhpA",
          "dtype": "f8"
         },
         "yaxis": "y3"
        },
        {
         "hoverinfo": "skip",
         "line": {
          "color": "red",
          "dash": "dash",
          "width": 2
         },
         "mode": "lines",
         "showlegend": false,
         "type": "scatter",
         "x": {
          "bdata": "AAAAAADO1UApUOtXCnjWQFOg1q8UItdAfPDBBx/M10CmQK1fKXbYQM+QmLczINlA+OCDDz7K2UAiMW9nSHTaQEuBWr9SHttAdNFFF13I20CeITFvZ3LcQMdxHMdxHN1A8MEHH3zG3UAaEvN2hnDeQENi3s6QGt9AbLLJJpvE30BLgVq/UjfgQGApUOtXjOBAdNFFF13h4ECJeTtDYjbhQJ4hMW9ni+FAsskmm2zg4UDHcRzHcTXiQNwZEvN2iuJA8MEHH3zf4kAFav1KgTTjQBoS83aGieNALrrooove40BDYt7OkDPkQFgK1PqViORAbLLJJpvd5ECCWr9SoDLlQJYCtX6lh+VAqqqqqqrc5UDAUqDWrzHmQNT6lQK1huZA6aKLLrrb5kD+SoFavzDnQBLzdobEhedAJ5tsssna50A8Q2Lezi/oQFDrVwrUhOhAZZNNNtnZ6EB6O0Ni3i7pQI7jOI7jg+lAo4suuujY6UC4MyTm7S3qQMzbGRLzgupA4YMPPvjX6kD2KwVq/SzrQArU+pUCgutAH3zwwQfX60A0JObtDCzsQEjM2xkSgexAXXTRRRfW7EByHMdxHCvtQIbEvJ0hgO1Am2yyySbV7UCwFKj1KyruQMW8nSExf+5A2WSTTTbU7kDuDIl5OynvQAO1fqVAfu9AF1100UXT70CWArV+JRTwQKDWrxSoPvBAqqqqqipp8EC1fqVArZPwQMBSoNYvvvBAyiabbLLo8EDU+pUCNRPxQN7OkJi3PfFA6aKLLjpo8UDzdobEvJLxQP5KgVo/vfFACB988MHn8UAS83aGRBLyQBzHcRzHPPJAJ5tsskln8kAxb2dIzJHyQDxDYt5OvPJARhdddNHm8kBQ61cKVBHzQFq/UqDWO/NAZZNNNllm80BvZ0jM25DzQHo7Q2Jeu/NAhA8++ODl80CO4ziOYxD0QJi3MyTmOvRAo4suumhl9ECuXylQ64/0QLgzJOZtuvRAwgcffPDk9EDM2xkScw/1QNavFKj1OfVA4YMPPnhk9UDrVwrU+o71QPYrBWp9ufVAAAAAAADk9UA=",
          "dtype": "f8"
         },
         "xaxis": "x3",
         "y": {
          "bdata": "HrqM1IClRkBivA8OKbZGQKa+kkfRxkZA68AVgXnXRkAvw5i6IehGQHTFG/TJ+EZAuMeeLXIJR0D8ySFnGhpHQEHMpKDCKkdAhc4n2mo7R0DK0KoTE0xHQA7TLU27XEdAUtWwhmNtR0CX1zPAC35HQNvZtvmzjkdAINw5M1yfR0Bk3rxsBLBHQKjgP6aswEdA7eLC31TRR0Ax5UUZ/eFHQHbnyFKl8kdAuulLjE0DSED+687F9RNIQEPuUf+dJEhAh/DUOEY1SEDM8ldy7kVIQBD12quWVkhAVPdd5T5nSECZ+eAe53dIQN37Y1iPiEhAIf7mkTeZSEBmAGrL36lIQKoC7QSIukhA7gRwPjDLSEAzB/N32NtIQHgJdrGA7EhAvAv56ij9SEAADnwk0Q1JQEQQ/115HklAiRKClyEvSUDOFAXRyT9JQBIXiApyUElAVhkLRBphSUCbG459wnFJQN8dEbdqgklAIyCU8BKTSUBoIhcqu6NJQKwkmmNjtElA8CYdnQvFSUA1KaDWs9VJQHkrIxBc5klAvi2mSQT3SUACMCmDrAdKQEYyrLxUGEpAizQv9vwoSkDPNrIvpTlKQBQ5NWlNSkpAWDu4ovVaSkCcPTvcnWtKQOE/vhVGfEpAJUJBT+6MSkBqRMSIlp1KQK5GR8I+rkpA8kjK++a+SkA3S001j89KQHtN0G434EpAv09TqN/wSkAEUtbhhwFLQEhUWRswEktAjVbcVNgiS0DRWF+OgDNLQBVb4scoREtAWl1lAdFUS0CeX+g6eWVLQONha3QhdktAJ2TurcmGS0BsZnHncZdLQLBo9CAaqEtA9Gp3WsK4S0A4bfqTaslLQH1vfc0S2ktAwnEAB7vqS0AGdINAY/tLQEp2BnoLDExAj3iJs7McTEDTegztWy1MQBh9jyYEPkxAXH8SYKxOTECggZWZVF9MQOSDGNP8b0xAKYabDKWATEBuiB5GTZFMQLKKoX/1oUxA9owkuZ2yTEA6j6fyRcNMQH6RKizu00xAxJOtZZbkTEAIljCfPvVMQEyYs9jmBU1AkJo2Eo8WTUA=",
          "dtype": "f8"
         },
         "yaxis": "y3"
        },
        {
         "hovertemplate": "<b>%{text}</b><br>z1000mem: %{x:.0f}<br>m1000rel: %{y:.2f}<extra></extra>",
         "marker": {
          "color": "#AB63FA",
          "size": 8
         },
         "mode": "markers",
         "name": "PERL",
         "showlegend": false,
         "text": [
          "s149101",
          "s149102",
          "s149103",
          "s149105",
          "s149106",
          "s149107",
          "s149108",
          "s149109",
          "s149110",
          "s149111",
          "s149112",
          "s149113",
          "s149114"
         ],
         "type": "scatter",
         "x": {
          "bdata": "wEMAAOAeAQBAYwAAMHsAAEhEAABQQwAA6B4BAKBDAABQQwAASEMAAKhEAABgTwAAiFUAAA==",
          "dtype": "i4"
         },
         "xaxis": "x4",
         "y": {
          "bdata": "AAAAAAAAWUAAAAAAAAAAAAAAAAAAAFlAAAAAAAAAWUAAAAAAAABZQAAAAAAAAFlAAAAAAAAAWUAAAAAAAABZQAAAAAAAAFlAAAAAAAAAWUCamZmZmZlYQAAAAAAAAAAAmpmZmZmZWEA=",
          "dtype": "f8"
         },
         "yaxis": "y4"
        },
        {
         "hoverinfo": "skip",
         "line": {
          "color": "red",
          "dash": "dash",
          "width": 2
         },
         "mode": "lines",
         "showlegend": false,
         "type": "scatter",
         "x": {
          "bdata": "AAAAAADS0EDrVwrU+l/RQNevFKj17dFAwgcffPB70kCtXylQ6wnTQJi3MyTml9NAhA8++OAl1EBvZ0jM27PUQFq/UqDWQdVARhdddNHP1UAxb2dIzF3WQBzHcRzH69ZACB988MF510DzdobEvAfYQN7OkJi3ldhAyiabbLIj2UC1fqVArbHZQKDWrxSoP9pAjC666KLN2kB3hsS8nVvbQGLezpCY6dtATjbZZJN33EA5juM4jgXdQCTm7QyJk91AED744IMh3kD7lQK1fq/eQObtDIl5Pd9A0kUXXXTL30DezpCYtyzgQNT6lQK1c+BAyiabbLK64EDAUqDWrwHhQLV+pUCtSOFAqqqqqqqP4UCg1q8UqNbhQJYCtX6lHeJAjC666KJk4kCCWr9SoKviQHeGxLyd8uJAbLLJJps540Bi3s6QmIDjQFgK1PqVx+NATjbZZJMO5EBDYt7OkFXkQDmO4ziOnORALrrooovj5EAk5u0MiSrlQBoS83aGceVAED744IO45UAFav1Kgf/lQPuVArV+RuZA8MEHH3yN5kDm7QyJedTmQNwZEvN2G+dA0kUXXXRi50DHcRzHcannQL2dITFv8OdAsskmm2w36ECo9SsFan7oQJ4hMW9nxehAk0022WQM6UCJeTtDYlPpQH+lQK1fmulAdNFFF13h6UBq/UqBWijqQGApUOtXb+pAVVVVVVW26kBLgVq/Uv3qQEGtXylQROtANtlkk02L60AsBWr9StLrQCIxb2dIGexAF1100UVg7EANiXk7Q6fsQAO1fqVA7uxA+OCDDz417UDuDIl5O3ztQOQ4juM4w+1A2WSTTTYK7kDPkJi3M1HuQMS8nSExmO5Auuiiiy7f7kCwFKj1KybvQKVArV8pbe9Am2yyySa070CRmLczJPvvQENi3s4QIfBAPvjgg49E8EA5juM4DmjwQDQk5u2Mi/BALrrooguv8EAqUOtXitLwQCTm7QwJ9vBAH3zwwYcZ8UAaEvN2Bj3xQBSo9SuFYPFAED744AOE8UAK1PqVgqfxQAVq/UoBy/FAAAAAAIDu8UA=",
          "dtype": "f8"
         },
         "xaxis": "x4",
         "y": {
          "bdata": "JX8b+sgdV0CUgj0XIgNXQAKGXzR76FZAcYmBUdTNVkDgjKNuLbNWQE6QxYuGmFZAvZPnqN99VkAslwnGOGNWQJqaK+ORSFZACZ5NAOstVkB4oW8dRBNWQOakkTqd+FVAVaizV/bdVUDEq9V0T8NVQDKv95GoqFVAobIZrwGOVUAQtjvMWnNVQH65XemzWFVA7bx/Bg0+VUBcwKEjZiNVQMrDw0C/CFVAOcflXRjuVECnygd7cdNUQBbOKZjKuFRAhNFLtSOeVEDz1G3SfINUQGLYj+/VaFRA0NuxDC9OVEBA39MpiDNUQK7i9UbhGFRAHOYXZDr+U0CL6TmBk+NTQPrsW57syFNAafB9u0WuU0DX85/YnpNTQEb3wfX3eFNAtPrjElFeU0Aj/gUwqkNTQJIBKE0DKVNAAQVKalwOU0BvCGyHtfNSQN4LjqQO2VJATA+wwWe+UkC7EtLewKNSQCoW9PsZiVJAmBkWGXNuUkAHHTg2zFNSQHYgWlMlOVJA5CN8cH4eUkBTJ56N1wNSQMIqwKow6VFAMC7ix4nOUUCfMQTl4rNRQA41JgI8mVFAfDhIH5V+UUDrO2o87mNRQFo/jFlHSVFAyEKudqAuUUA3RtCT+RNRQKZJ8rBS+VBAFE0UzqveUECDUDbrBMRQQPJTWAheqVBAYFd6JbeOUEDPWpxCEHRQQD5evl9pWVBArGHgfMI+UEAbZQKaGyRQQIpoJLd0CVBA8NeMqJvdT0DO3tDiTahPQKvlFB0Ac09AiOxYV7I9T0Bl85yRZAhPQEL64MsW005AIAElBsmdTkD9B2lAe2hOQNoOrXotM05AuBXxtN/9TUCVHDXvkchNQHMjeSlEk01AUCq9Y/ZdTUAtMQGeqChNQAs4Rdha80xA6D6JEg2+TEDFRc1Mv4hMQKNMEYdxU0xAgFNVwSMeTEBdWpn71ehLQDph3TWIs0tAGWghcDp+S0D0bmWq7EhLQNN1qeSeE0tAsHztHlHeSkCNgzFZA6lKQGuKdZO1c0pAR5G5zWc+SkAlmP0HGglKQAKfQULM00lA36WFfH6eSUA=",
          "dtype": "f8"
         },
         "yaxis": "y4"
        },
        {
         "hovertemplate": "<b>%{text}</b><br>z1000mem: %{x:.0f}<br>m1000rel: %{y:.2f}<extra></extra>",
         "marker": {
          "color": "#FFA15A",
          "size": 8
         },
         "mode": "markers",
         "name": "PYTHON",
         "showlegend": false,
         "text": [
          "s149201",
          "s149202",
          "s149203",
          "s149204",
          "s149205",
          "s149206",
          "s149207",
          "s149208",
          "s149209",
          "s149210",
          "s149211",
          "s149212",
          "s149213"
         ],
         "type": "scatter",
         "x": {
          "bdata": "UFgAAHhFAABgNQAAQDUAALhDAACoQwAA0DsAAJg+AAAoOQAASEQAAPBjAQDgNgAAsDYAAA==",
          "dtype": "i4"
         },
         "xaxis": "x5",
         "y": {
          "bdata": "AAAAAAAAWUCamZmZmZlYQAAAAAAAAFlAAAAAAAAAWUBmZmZmZmYkQAAAAAAAAFlAAAAAAAAAWUCamZmZmZlYQAAAAAAAAAAAZmZmZmZmJEBmZmZmZmYkQAAAAAAAAFlAAAAAAAAAWUA=",
          "dtype": "f8"
         },
         "yaxis": "y5"
        },
        {
         "hoverinfo": "skip",
         "line": {
          "color": "red",
          "dash": "dash",
          "width": 2
         },
         "mode": "lines",
         "showlegend": false,
         "type": "scatter",
         "x": {
          "bdata": "AAAAAACgykBq/UqBWifMQNT6lQK1rs1APvjggw82z0DU+pUCtV7QQIl5O0NiItFAPvjggw/m0UDzdobEvKnSQKj1KwVqbdNAXXTRRRcx1EAS83aGxPTUQMdxHMdxuNVAfPDBBx981kAxb2dIzD/XQObtDIl5A9hAm2yyySbH2EBQ61cK1IrZQAVq/UqBTtpAuuiiiy4S20BvZ0jM29XbQCTm7QyJmdxA2WSTTTZd3UCO4ziO4yDeQENi3s6Q5N5A+OCDDz6o30DWrxSo9TXgQDFvZ0jMl+BAjC666KL54EDm7QyJeVvhQECtXylQveFAm2yyySYf4kD2KwVq/YDiQFDrVwrU4uJAqqqqqqpE40AFav1KgabjQGApUOtXCORAuuiiiy5q5EAUqPUrBczkQG9nSMzbLeVAyiabbLKP5UAk5u0MifHlQH6lQK1fU+ZA2WSTTTa15kA0JObtDBfnQI7jOI7jeOdA6KKLLrra50BDYt7OkDzoQJ4hMW9nnuhA+OCDDz4A6UBSoNavFGLpQK1fKVDrw+lACB988MEl6kBi3s6QmIfqQLydITFv6epAF1100UVL60ByHMdxHK3rQMzbGRLzDuxAJptssslw7ECBWr9SoNLsQNwZEvN2NO1ANtlkk02W7UCQmLczJPjtQOtXCtT6We5ARhdddNG77kCg1q8UqB3vQPqVArV+f+9AVVVVVVXh70BYCtT6lSHwQAVq/UqBUvBAsskmm2yD8EBgKVDrV7TwQA2JeTtD5fBAuuiiiy4W8UBnSMzbGUfxQBSo9SsFePFAwgcffPCo8UBvZ0jM29nxQBzHcRzHCvJAyiabbLI78kB3hsS8nWzyQCTm7QyJnfJA0UUXXXTO8kB+pUCtX//yQCwFav1KMPNA2WSTTTZh80CGxLydIZLzQDQk5u0Mw/NA4YMPPvjz80CO4ziO4yT0QDtDYt7OVfRA6KKLLrqG9ECWArV+pbf0QENi3s6Q6PRA8MEHH3wZ9UCeITFvZ0r1QEuBWr9Se/VA+OCDDz6s9UClQK1fKd31QFKg1q8UDvZAAAAAAAA/9kA=",
          "dtype": "f8"
         },
         "xaxis": "x5",
         "y": {
          "bdata": "67uOJGCrU0AOWH80BH9TQDL0b0SoUlNAVpBgVEwmU0B5LFFk8PlSQJ3IQXSUzVJAwGQyhDihUkDkACOU3HRSQAedE6SASFJAKzkEtCQcUkBO1fTDyO9RQHJx5dNsw1FAlg3W4xCXUUC5qcbztGpRQNxFtwNZPlFAAOKnE/0RUUAkfpgjoeVQQEcaiTNFuVBAarZ5Q+mMUECOUmpTjWBQQLLuWmMxNFBA1YpLc9UHUEDyTXgG87ZPQDiGWSY7Xk9AgL46RoMFT0DH9htmy6xOQA4v/YUTVE5AVGfepVv7TUCcn7/Fo6JNQOPXoOXrSU1AKhCCBTTxTEBxSGMlfJhMQLiAREXEP0xAALklZQznS0BG8QaFVI5LQI0p6KScNUtA1WHJxOTcSkAcmqrkLIRKQGPSiwR1K0pAqQptJL3SSUDxQk5EBXpJQDh7L2RNIUlAf7MQhJXISEDG6/Gj3W9IQA0k08MlF0hAVVy0422+R0CblJUDtmVHQOLMdiP+DEdAKQVYQ0a0RkBxPTljjltGQLh1GoPWAkZA/q37oh6qRUBG5tzCZlFFQI0evuKu+ERA1FafAvefREAaj4AiP0dEQGLHYUKH7kNAqv9CYs+VQ0DwNySCFz1DQDdwBaJf5EJAfqjmwaeLQkDG4Mfh7zJCQAwZqQE42kFAU1GKIYCBQUCbiWtByChBQOLBTGEQ0EBAKfotgVh3QEBvMg+hoB5AQG7V4IHRiz9A/EWjwWHaPkCItmUB8ig+QBgnKEGCdz1AppfqgBLGPEA2CK3AohQ8QMR4bwAzYztAUOkxQMOxOkDgWfR/UwA6QGzKtr/jTjlA+Dp5/3OdOECIqzs/BOw3QBgc/n6UOjdAqIzAviSJNkA0/YL+tNc1QMBtRT5FJjVAUN4HftV0NEDgTsq9ZcMzQGy/jP31ETNA+C9PPYZgMkCIoBF9Fq8xQBgR1Lym/TBAqIGW/DZMMEBo5LF4jjUvQIDFNviu0i1AoKa7d89vLEC4h0D37wwrQNhoxXYQqilA8ElK9jBHKEAQK891UeQmQDAMVPVxgSVASO3YdJIeJEA=",
          "dtype": "f8"
         },
         "yaxis": "y5"
        },
        {
         "hovertemplate": "<b>%{text}</b><br>z1000mem: %{x:.0f}<br>m1000rel: %{y:.2f}<extra></extra>",
         "marker": {
          "color": "#19D3F3",
          "size": 8
         },
         "mode": "markers",
         "name": "REXX",
         "showlegend": false,
         "text": [
          "s149301",
          "s149302",
          "s149303",
          "s149304"
         ],
         "type": "scatter",
         "x": {
          "bdata": "CCOgUphSWCM=",
          "dtype": "i2"
         },
         "xaxis": "x6",
         "y": {
          "bdata": "mpmZmZmZWEDNzMzMzExHQJqZmZmZuVhAAAAAAAAAWUA=",
          "dtype": "f8"
         },
         "yaxis": "y6"
        },
        {
         "hoverinfo": "skip",
         "line": {
          "color": "red",
          "dash": "dash",
          "width": 2
         },
         "mode": "lines",
         "showlegend": false,
         "type": "scatter",
         "x": {
          "bdata": "AAAAAACEwUAk5u0MicHBQEjM2xkS/8FAbbLJJps8wkCRmLczJHrCQLV+pUCtt8JA2WSTTTb1wkD9SoFavzLDQCIxb2dIcMNARhdddNGtw0Bq/UqBWuvDQI7jOI7jKMRAsskmm2xmxEDXrxSo9aPEQPuVArV+4cRAH3zwwQcfxUBDYt7OkFzFQGhIzNsZmsVAjC666KLXxUCwFKj1KxXGQNT6lQK1UsZA+OCDDz6QxkAcx3Ecx83GQEGtXylQC8dAZZNNNtlIx0CJeTtDYobHQK1fKVDrw8dA0kUXXXQByED2KwVq/T7IQBoS83aGfMhAPvjggw+6yEBi3s6QmPfIQIbEvJ0hNclAq6qqqqpyyUDPkJi3M7DJQPN2hsS87clAGF100UUrykA8Q2LezmjKQGApUOtXpspAhA8++ODjykCo9SsFaiHLQMzbGRLzXstA8MEHH3ycy0AUqPUrBdrLQDmO4ziOF8xAXXTRRRdVzECCWr9SoJLMQKZArV8p0MxAyiabbLINzUDuDIl5O0vNQBLzdobEiM1ANtlkk03GzUBav1Kg1gPOQH+lQK1fQc5Ao4suuuh+zkDHcRzHcbzOQOxXCtT6+c5AED744IM3z0A0JObtDHXPQFgK1PqVss9AfPDBBx/wz0BQ61cK1BbQQGLezpCYNdBAdNFFF11U0ECGxLydIXPQQJi3MyTmkdBAq6qqqqqw0EC9nSExb8/QQM+QmLcz7tBA4YMPPvgM0UDzdobEvCvRQAVq/UqBStFAGF100UVp0UAqUOtXCojRQDxDYt7OptFATjbZZJPF0UBgKVDrV+TRQHIcx3EcA9JAhA8++OAh0kCWArV+pUDSQKj1KwVqX9JAuuiiiy5+0kDM2xkS85zSQN7OkJi3u9JA8MEHH3za0kACtX6lQPnSQBSo9SsFGNNAJ5tsssk200A5juM4jlXTQEuBWr9SdNNAXXTRRReT00BvZ0jM27HTQIJav1Kg0NNAlE022WTv00CmQK1fKQ7UQLgzJObtLNRAyiabbLJL1EDcGRLzdmrUQO4MiXk7idRAAAAAAACo1EA=",
          "dtype": "f8"
         },
         "xaxis": "x6",
         "y": {
          "bdata": "/MBDgb7SWEBGjX5ok8FYQJBZuU9osFhA2SX0Nj2fWEAj8i4eEo5YQGy+aQXnfFhAtoqk7LtrWEAAV9/TkFpYQEkjGrtlSVhAku9Uojo4WEDcu4+JDydYQCaIynDkFVhAcFQFWLkEWEC5IEA/jvNXQALteiZj4ldATLm1DTjRV0CWhfD0DMBXQN9RK9zhrldAKB5mw7adV0By6qCqi4xXQLy225Fge1dABoMWeTVqV0BPT1FgCllXQJgbjEffR1dA4ufGLrQ2V0AstAEWiSVXQHWAPP1dFFdAv0x35DIDV0AIGbLLB/JWQFLl7LLc4FZAnLEnmrHPVkDlfWKBhr5WQC9KnWhbrVZAeBbYTzCcVkDC4hI3BYtWQAuvTR7aeVZAVXuIBa9oVkCeR8Psg1dWQOgT/tNYRlZAMuA4uy01VkB7rHOiAiRWQMV4ronXElZADkXpcKwBVkBYESRYgfBVQKHdXj9W31VA66mZJivOVUA0dtQNAL1VQH5CD/XUq1VAyA5K3KmaVUAR24TDfolVQFunv6pTeFVApHP6kShnVUDuPzV5/VVVQDgMcGDSRFVAgdiqR6czVUDKpOUufCJVQBRxIBZREVVAXj1b/SUAVUCnCZbk+u5UQPHV0MvP3VRAOqILs6TMVECEbkaaebtUQM46gYFOqlRAGAe8aCOZVEBh0/ZP+IdUQKqfMTfNdlRA9GtsHqJlVEA9OKcFd1RUQIcE4uxLQ1RA0NAc1CAyVEAanVe79SBUQGRpkqLKD1RArDXNiZ/+U0D2AQhxdO1TQEDOQlhJ3FNAipp9Px7LU0DTZrgm87lTQB0z8w3IqFNAZv8t9ZyXU0Cwy2jccYZTQPqXo8NGdVNARGTeqhtkU0CNMBmS8FJTQNb8U3nFQVNAIMmOYJowU0BqlclHbx9TQLRhBC9EDlNA/C0/Fhn9UkBG+nn97etSQJDGtOTC2lJA2pLvy5fJUkAjXyqzbLhSQGwrZZpBp1JAtvefgRaWUkAAxNpo64RSQEmQFVDAc1JAklxQN5ViUkDcKIsealFSQCb1xQU/QFJAcMEA7RMvUkA=",
          "dtype": "f8"
         },
         "yaxis": "y6"
        },
        {
         "hovertemplate": "<b>%{text}</b><br>z1000mem: %{x:.0f}<br>m1000rel: %{y:.2f}<extra></extra>",
         "marker": {
          "color": "#FF6692",
          "size": 8
         },
         "mode": "markers",
         "name": "TCL",
         "showlegend": false,
         "text": [
          "s149401",
          "s149402",
          "s149403",
          "s149405",
          "s149406",
          "s149407",
          "s149408",
          "s149409",
          "s149410",
          "s149411"
         ],
         "type": "scatter",
         "x": {
          "bdata": "kH4AAFhyAADQcAAA+K0AAPBmAAAIRQAAyL4AAJhaAABITwAAyFMAAA==",
          "dtype": "i4"
         },
         "xaxis": "x7",
         "y": {
          "bdata": "AAAAAAAAWUAAAAAAAABZQAAAAAAAAFlAAAAAAAAAWUAAAAAAAABZQAAAAAAAAFlAAAAAAAAAWUAAAAAAAABZQGZmZmZmZiRAAAAAAAAAWUA=",
          "dtype": "f8"
         },
         "yaxis": "y7"
        },
        {
         "hoverinfo": "skip",
         "line": {
          "color": "red",
          "dash": "dash",
          "width": 2
         },
         "mode": "lines",
         "showlegend": false,
         "type": "scatter",
         "x": {
          "bdata": "AAAAAABC0UDU+pUCtZDRQKj1KwVq39FAfPDBBx8u0kBQ61cK1HzSQCTm7QyJy9JA+OCDDz4a00DM2xkS82jTQKDWrxSot9NAdNFFF10G1EBIzNsZElXUQBzHcRzHo9RA8MEHH3zy1EDFvJ0hMUHVQJm3MyTmj9VAbbLJJpve1UBBrV8pUC3WQBWo9SsFfNZA6aKLLrrK1kC9nSExbxnXQJGYtzMkaNdAZZNNNtm210A5juM4jgXYQA2JeTtDVNhA4YMPPvii2EC1fqVArfHYQIl5O0NiQNlAXnTRRReP2UAyb2dIzN3ZQAZq/UqBLNpA2mSTTTZ72kCuXylQ68naQIJav1KgGNtAVlVVVVVn20AqUOtXCrbbQP5KgVq/BNxA0kUXXXRT3ECmQK1fKaLcQHo7Q2Le8NxATjbZZJM/3UAiMW9nSI7dQPYrBWr93N1AyiabbLIr3kCeITFvZ3reQHIcx3Ecyd5ARhdddNEX30AaEvN2hmbfQO4MiXk7td9A4YMPPvgB4EBLgVq/UingQLV+pUCtUOBAH3zwwQd44ECJeTtDYp/gQPN2hsS8xuBAXnTRRRfu4EDIcRzHcRXhQDJvZ0jMPOFAnGyyySZk4UAGav1KgYvhQHBnSMzbsuFA2mSTTTba4UBEYt7OkAHiQK5fKVDrKOJAGF100UVQ4kCCWr9SoHfiQOxXCtT6nuJAVlVVVVXG4kDAUqDWr+3iQCpQ61cKFeNAlE022WQ840D+SoFav2PjQGhIzNsZi+NA0kUXXXSy40A8Q2LeztnjQKZArV8pAeRAED744IMo5EB6O0Ni3k/kQOQ4juM4d+RATjbZZJOe5EC4MyTm7cXkQCIxb2dI7eRAjC666KIU5UD2KwVq/TvlQGApUOtXY+VAyiabbLKK5UA0JObtDLLlQJ4hMW9n2eVACB988MEA5kByHMdxHCjmQNwZEvN2T+ZARhdddNF25kCwFKj1K57mQBoS83aGxeZAhA8++ODs5kDuDIl5OxTnQFgK1PqVO+dAwgcffPBi50AsBWr9SornQJYCtX6lsedAAAAAAADZ50A=",
          "dtype": "f8"
         },
         "xaxis": "x7",
         "y": {
          "bdata": "4I75nrpHVEBtz0Mg5lhUQPoPjqERalRAiFDYIj17VEAVkSKkaIxUQKLRbCWUnVRAMBK3pr+uVEC9UgEo679UQEqTS6kW0VRA2NOVKkLiVEBlFOCrbfNUQPJUKi2ZBFVAgJV0rsQVVUAN1r4v8CZVQJoWCbEbOFVAKFdTMkdJVUC1l52zclpVQELY5zSea1VA0Bgytsl8VUBdWXw39Y1VQOqZxrggn1VAeNoQOkywVUAFG1u7d8FVQJJbpTyj0lVAH5zvvc7jVUCs3Dk/+vRVQDodhMAlBlZAyF3OQVEXVkBVnhjDfChWQOLeYkSoOVZAbx+txdNKVkD8X/dG/1tWQIqgQcgqbVZAF+GLSVZ+VkCkIdbKgY9WQDJiIEytoFZAv6JqzdixVkBM47ROBMNWQNoj/88v1FZAZ2RJUVvlVkD0pJPShvZWQILl3VOyB1dADyYo1d0YV0CcZnJWCSpXQCqnvNc0O1dAt+cGWWBMV0BEKFHai11XQNJom1u3bldAX6nl3OJ/V0Ds6S9eDpFXQHkqet85oldABmvEYGWzV0CUqw7ikMRXQCHsWGO81VdAryyj5OfmV0A8be1lE/hXQMqtN+c+CVhAV+6BaGoaWEDkLszplStYQHJvFmvBPFhA/69g7OxNWECM8KptGF9YQBkx9e5DcFhApnE/cG+BWEA0sonxmpJYQMHy03LGo1hATjMe9PG0WEDcc2h1HcZYQGm0svZI11hA9vT8d3ToWECENUf5n/lYQBF2kXrLCllAnrbb+/YbWUAs9yV9Ii1ZQLk3cP5NPllARni6f3lPWUDUuAQBpWBZQGH5ToLQcVlA7jmZA/yCWUB8euOEJ5RZQAi7LQZTpVlAlvt3h362WUAkPMIIqsdZQLB8DIrV2FlAPr1WCwHqWUDL/aCMLPtZQFg+6w1YDFpA5n41j4MdWkBzv38Qry5aQAAAypHaP1pAjkAUEwZRWkAbgV6UMWJaQKjBqBVdc1pANgLzloiEWkDDQj0YtJVaQFCDh5nfplpA3sPRGgu4WkBrBBycNslaQPhEZh1i2lpAhoWwno3rWkA=",
          "dtype": "f8"
         },
         "yaxis": "y7"
        }
       ],
       "layout": {
        "annotations": [
         {
          "font": {
           "size": 16
          },
          "showarrow": false,
          "text": "C",
          "x": 0.14444444444444446,
          "xanchor": "center",
          "xref": "paper",
          "y": 1,
          "yanchor": "bottom",
          "yref": "paper"
         },
         {
          "font": {
           "size": 16
          },
          "showarrow": false,
          "text": "C++",
          "x": 0.5,
          "xanchor": "center",
          "xref": "paper",
          "y": 1,
          "yanchor": "bottom",
          "yref": "paper"
         },
         {
          "font": {
           "size": 16
          },
          "showarrow": false,
          "text": "JAVA",
          "x": 0.8555555555555556,
          "xanchor": "center",
          "xref": "paper",
          "y": 1,
          "yanchor": "bottom",
          "yref": "paper"
         },
         {
          "font": {
           "size": 16
          },
          "showarrow": false,
          "text": "PERL",
          "x": 0.14444444444444446,
          "xanchor": "center",
          "xref": "paper",
          "y": 0.6111111111111112,
          "yanchor": "bottom",
          "yref": "paper"
         },
         {
          "font": {
           "size": 16
          },
          "showarrow": false,
          "text": "PYTHON",
          "x": 0.5,
          "xanchor": "center",
          "xref": "paper",
          "y": 0.6111111111111112,
          "yanchor": "bottom",
          "yref": "paper"
         },
         {
          "font": {
           "size": 16
          },
          "showarrow": false,
          "text": "REXX",
          "x": 0.8555555555555556,
          "xanchor": "center",
          "xref": "paper",
          "y": 0.6111111111111112,
          "yanchor": "bottom",
          "yref": "paper"
         },
         {
          "font": {
           "size": 16
          },
          "showarrow": false,
          "text": "TCL",
          "x": 0.14444444444444446,
          "xanchor": "center",
          "xref": "paper",
          "y": 0.22222222222222224,
          "yanchor": "bottom",
          "yref": "paper"
         }
        ],
        "height": 1200,
        "showlegend": false,
        "template": {
         "data": {
          "bar": [
           {
            "error_x": {
             "color": "#2a3f5f"
            },
            "error_y": {
             "color": "#2a3f5f"
            },
            "marker": {
             "line": {
              "color": "#E5ECF6",
              "width": 0.5
             },
             "pattern": {
              "fillmode": "overlay",
              "size": 10,
              "solidity": 0.2
             }
            },
            "type": "bar"
           }
          ],
          "barpolar": [
           {
            "marker": {
             "line": {
              "color": "#E5ECF6",
              "width": 0.5
             },
             "pattern": {
              "fillmode": "overlay",
              "size": 10,
              "solidity": 0.2
             }
            },
            "type": "barpolar"
           }
          ],
          "carpet": [
           {
            "aaxis": {
             "endlinecolor": "#2a3f5f",
             "gridcolor": "white",
             "linecolor": "white",
             "minorgridcolor": "white",
             "startlinecolor": "#2a3f5f"
            },
            "baxis": {
             "endlinecolor": "#2a3f5f",
             "gridcolor": "white",
             "linecolor": "white",
             "minorgridcolor": "white",
             "startlinecolor": "#2a3f5f"
            },
            "type": "carpet"
           }
          ],
          "choropleth": [
           {
            "colorbar": {
             "outlinewidth": 0,
             "ticks": ""
            },
            "type": "choropleth"
           }
          ],
          "contour": [
           {
            "colorbar": {
             "outlinewidth": 0,
             "ticks": ""
            },
            "colorscale": [
             [
              0,
              "#0d0887"
             ],
             [
              0.1111111111111111,
              "#46039f"
             ],
             [
              0.2222222222222222,
              "#7201a8"
             ],
             [
              0.3333333333333333,
              "#9c179e"
             ],
             [
              0.4444444444444444,
              "#bd3786"
             ],
             [
              0.5555555555555556,
              "#d8576b"
             ],
             [
              0.6666666666666666,
              "#ed7953"
             ],
             [
              0.7777777777777778,
              "#fb9f3a"
             ],
             [
              0.8888888888888888,
              "#fdca26"
             ],
             [
              1,
              "#f0f921"
             ]
            ],
            "type": "contour"
           }
          ],
          "contourcarpet": [
           {
            "colorbar": {
             "outlinewidth": 0,
             "ticks": ""
            },
            "type": "contourcarpet"
           }
          ],
          "heatmap": [
           {
            "colorbar": {
             "outlinewidth": 0,
             "ticks": ""
            },
            "colorscale": [
             [
              0,
              "#0d0887"
             ],
             [
              0.1111111111111111,
              "#46039f"
             ],
             [
              0.2222222222222222,
              "#7201a8"
             ],
             [
              0.3333333333333333,
              "#9c179e"
             ],
             [
              0.4444444444444444,
              "#bd3786"
             ],
             [
              0.5555555555555556,
              "#d8576b"
             ],
             [
              0.6666666666666666,
              "#ed7953"
             ],
             [
              0.7777777777777778,
              "#fb9f3a"
             ],
             [
              0.8888888888888888,
              "#fdca26"
             ],
             [
              1,
              "#f0f921"
             ]
            ],
            "type": "heatmap"
           }
          ],
          "histogram": [
           {
            "marker": {
             "pattern": {
              "fillmode": "overlay",
              "size": 10,
              "solidity": 0.2
             }
            },
            "type": "histogram"
           }
          ],
          "histogram2d": [
           {
            "colorbar": {
             "outlinewidth": 0,
             "ticks": ""
            },
            "colorscale": [
             [
              0,
              "#0d0887"
             ],
             [
              0.1111111111111111,
              "#46039f"
             ],
             [
              0.2222222222222222,
              "#7201a8"
             ],
             [
              0.3333333333333333,
              "#9c179e"
             ],
             [
              0.4444444444444444,
              "#bd3786"
             ],
             [
              0.5555555555555556,
              "#d8576b"
             ],
             [
              0.6666666666666666,
              "#ed7953"
             ],
             [
              0.7777777777777778,
              "#fb9f3a"
             ],
             [
              0.8888888888888888,
              "#fdca26"
             ],
             [
              1,
              "#f0f921"
             ]
            ],
            "type": "histogram2d"
           }
          ],
          "histogram2dcontour": [
           {
            "colorbar": {
             "outlinewidth": 0,
             "ticks": ""
            },
            "colorscale": [
             [
              0,
              "#0d0887"
             ],
             [
              0.1111111111111111,
              "#46039f"
             ],
             [
              0.2222222222222222,
              "#7201a8"
             ],
             [
              0.3333333333333333,
              "#9c179e"
             ],
             [
              0.4444444444444444,
              "#bd3786"
             ],
             [
              0.5555555555555556,
              "#d8576b"
             ],
             [
              0.6666666666666666,
              "#ed7953"
             ],
             [
              0.7777777777777778,
              "#fb9f3a"
             ],
             [
              0.8888888888888888,
              "#fdca26"
             ],
             [
              1,
              "#f0f921"
             ]
            ],
            "type": "histogram2dcontour"
           }
          ],
          "mesh3d": [
           {
            "colorbar": {
             "outlinewidth": 0,
             "ticks": ""
            },
            "type": "mesh3d"
           }
          ],
          "parcoords": [
           {
            "line": {
             "colorbar": {
              "outlinewidth": 0,
              "ticks": ""
             }
            },
            "type": "parcoords"
           }
          ],
          "pie": [
           {
            "automargin": true,
            "type": "pie"
           }
          ],
          "scatter": [
           {
            "fillpattern": {
             "fillmode": "overlay",
             "size": 10,
             "solidity": 0.2
            },
            "type": "scatter"
           }
          ],
          "scatter3d": [
           {
            "line": {
             "colorbar": {
              "outlinewidth": 0,
              "ticks": ""
             }
            },
            "marker": {
             "colorbar": {
              "outlinewidth": 0,
              "ticks": ""
             }
            },
            "type": "scatter3d"
           }
          ],
          "scattercarpet": [
           {
            "marker": {
             "colorbar": {
              "outlinewidth": 0,
              "ticks": ""
             }
            },
            "type": "scattercarpet"
           }
          ],
          "scattergeo": [
           {
            "marker": {
             "colorbar": {
              "outlinewidth": 0,
              "ticks": ""
             }
            },
            "type": "scattergeo"
           }
          ],
          "scattergl": [
           {
            "marker": {
             "colorbar": {
              "outlinewidth": 0,
              "ticks": ""
             }
            },
            "type": "scattergl"
           }
          ],
          "scattermap": [
           {
            "marker": {
             "colorbar": {
              "outlinewidth": 0,
              "ticks": ""
             }
            },
            "type": "scattermap"
           }
          ],
          "scattermapbox": [
           {
            "marker": {
             "colorbar": {
              "outlinewidth": 0,
              "ticks": ""
             }
            },
            "type": "scattermapbox"
           }
          ],
          "scatterpolar": [
           {
            "marker": {
             "colorbar": {
              "outlinewidth": 0,
              "ticks": ""
             }
            },
            "type": "scatterpolar"
           }
          ],
          "scatterpolargl": [
           {
            "marker": {
             "colorbar": {
              "outlinewidth": 0,
              "ticks": ""
             }
            },
            "type": "scatterpolargl"
           }
          ],
          "scatterternary": [
           {
            "marker": {
             "colorbar": {
              "outlinewidth": 0,
              "ticks": ""
             }
            },
            "type": "scatterternary"
           }
          ],
          "surface": [
           {
            "colorbar": {
             "outlinewidth": 0,
             "ticks": ""
            },
            "colorscale": [
             [
              0,
              "#0d0887"
             ],
             [
              0.1111111111111111,
              "#46039f"
             ],
             [
              0.2222222222222222,
              "#7201a8"
             ],
             [
              0.3333333333333333,
              "#9c179e"
             ],
             [
              0.4444444444444444,
              "#bd3786"
             ],
             [
              0.5555555555555556,
              "#d8576b"
             ],
             [
              0.6666666666666666,
              "#ed7953"
             ],
             [
              0.7777777777777778,
              "#fb9f3a"
             ],
             [
              0.8888888888888888,
              "#fdca26"
             ],
             [
              1,
              "#f0f921"
             ]
            ],
            "type": "surface"
           }
          ],
          "table": [
           {
            "cells": {
             "fill": {
              "color": "#EBF0F8"
             },
             "line": {
              "color": "white"
             }
            },
            "header": {
             "fill": {
              "color": "#C8D4E3"
             },
             "line": {
              "color": "white"
             }
            },
            "type": "table"
           }
          ]
         },
         "layout": {
          "annotationdefaults": {
           "arrowcolor": "#2a3f5f",
           "arrowhead": 0,
           "arrowwidth": 1
          },
          "autotypenumbers": "strict",
          "coloraxis": {
           "colorbar": {
            "outlinewidth": 0,
            "ticks": ""
           }
          },
          "colorscale": {
           "diverging": [
            [
             0,
             "#8e0152"
            ],
            [
             0.1,
             "#c51b7d"
            ],
            [
             0.2,
             "#de77ae"
            ],
            [
             0.3,
             "#f1b6da"
            ],
            [
             0.4,
             "#fde0ef"
            ],
            [
             0.5,
             "#f7f7f7"
            ],
            [
             0.6,
             "#e6f5d0"
            ],
            [
             0.7,
             "#b8e186"
            ],
            [
             0.8,
             "#7fbc41"
            ],
            [
             0.9,
             "#4d9221"
            ],
            [
             1,
             "#276419"
            ]
           ],
           "sequential": [
            [
             0,
             "#0d0887"
            ],
            [
             0.1111111111111111,
             "#46039f"
            ],
            [
             0.2222222222222222,
             "#7201a8"
            ],
            [
             0.3333333333333333,
             "#9c179e"
            ],
            [
             0.4444444444444444,
             "#bd3786"
            ],
            [
             0.5555555555555556,
             "#d8576b"
            ],
            [
             0.6666666666666666,
             "#ed7953"
            ],
            [
             0.7777777777777778,
             "#fb9f3a"
            ],
            [
             0.8888888888888888,
             "#fdca26"
            ],
            [
             1,
             "#f0f921"
            ]
           ],
           "sequentialminus": [
            [
             0,
             "#0d0887"
            ],
            [
             0.1111111111111111,
             "#46039f"
            ],
            [
             0.2222222222222222,
             "#7201a8"
            ],
            [
             0.3333333333333333,
             "#9c179e"
            ],
            [
             0.4444444444444444,
             "#bd3786"
            ],
            [
             0.5555555555555556,
             "#d8576b"
            ],
            [
             0.6666666666666666,
             "#ed7953"
            ],
            [
             0.7777777777777778,
             "#fb9f3a"
            ],
            [
             0.8888888888888888,
             "#fdca26"
            ],
            [
             1,
             "#f0f921"
            ]
           ]
          },
          "colorway": [
           "#636efa",
           "#EF553B",
           "#00cc96",
           "#ab63fa",
           "#FFA15A",
           "#19d3f3",
           "#FF6692",
           "#B6E880",
           "#FF97FF",
           "#FECB52"
          ],
          "font": {
           "color": "#2a3f5f"
          },
          "geo": {
           "bgcolor": "white",
           "lakecolor": "white",
           "landcolor": "#E5ECF6",
           "showlakes": true,
           "showland": true,
           "subunitcolor": "white"
          },
          "hoverlabel": {
           "align": "left"
          },
          "hovermode": "closest",
          "mapbox": {
           "style": "light"
          },
          "paper_bgcolor": "white",
          "plot_bgcolor": "#E5ECF6",
          "polar": {
           "angularaxis": {
            "gridcolor": "white",
            "linecolor": "white",
            "ticks": ""
           },
           "bgcolor": "#E5ECF6",
           "radialaxis": {
            "gridcolor": "white",
            "linecolor": "white",
            "ticks": ""
           }
          },
          "scene": {
           "xaxis": {
            "backgroundcolor": "#E5ECF6",
            "gridcolor": "white",
            "gridwidth": 2,
            "linecolor": "white",
            "showbackground": true,
            "ticks": "",
            "zerolinecolor": "white"
           },
           "yaxis": {
            "backgroundcolor": "#E5ECF6",
            "gridcolor": "white",
            "gridwidth": 2,
            "linecolor": "white",
            "showbackground": true,
            "ticks": "",
            "zerolinecolor": "white"
           },
           "zaxis": {
            "backgroundcolor": "#E5ECF6",
            "gridcolor": "white",
            "gridwidth": 2,
            "linecolor": "white",
            "showbackground": true,
            "ticks": "",
            "zerolinecolor": "white"
           }
          },
          "shapedefaults": {
           "line": {
            "color": "#2a3f5f"
           }
          },
          "ternary": {
           "aaxis": {
            "gridcolor": "white",
            "linecolor": "white",
            "ticks": ""
           },
           "baxis": {
            "gridcolor": "white",
            "linecolor": "white",
            "ticks": ""
           },
           "bgcolor": "#E5ECF6",
           "caxis": {
            "gridcolor": "white",
            "linecolor": "white",
            "ticks": ""
           }
          },
          "title": {
           "x": 0.05
          },
          "xaxis": {
           "automargin": true,
           "gridcolor": "white",
           "linecolor": "white",
           "ticks": "",
           "title": {
            "standoff": 15
           },
           "zerolinecolor": "white",
           "zerolinewidth": 2
          },
          "yaxis": {
           "automargin": true,
           "gridcolor": "white",
           "linecolor": "white",
           "ticks": "",
           "title": {
            "standoff": 15
           },
           "zerolinecolor": "white",
           "zerolinewidth": 2
          }
         }
        },
        "title": {
         "text": "Memory vs Reliability by Language"
        },
        "width": 1200,
        "xaxis": {
         "anchor": "y",
         "domain": [
          0,
          0.2888888888888889
         ]
        },
        "xaxis2": {
         "anchor": "y2",
         "domain": [
          0.35555555555555557,
          0.6444444444444445
         ]
        },
        "xaxis3": {
         "anchor": "y3",
         "domain": [
          0.7111111111111111,
          1
         ]
        },
        "xaxis4": {
         "anchor": "y4",
         "domain": [
          0,
          0.2888888888888889
         ]
        },
        "xaxis5": {
         "anchor": "y5",
         "domain": [
          0.35555555555555557,
          0.6444444444444445
         ]
        },
        "xaxis6": {
         "anchor": "y6",
         "domain": [
          0.7111111111111111,
          1
         ]
        },
        "xaxis7": {
         "anchor": "y7",
         "domain": [
          0,
          0.2888888888888889
         ]
        },
        "xaxis8": {
         "anchor": "y8",
         "domain": [
          0.35555555555555557,
          0.6444444444444445
         ]
        },
        "xaxis9": {
         "anchor": "y9",
         "domain": [
          0.7111111111111111,
          1
         ]
        },
        "yaxis": {
         "anchor": "x",
         "domain": [
          0.7777777777777778,
          1
         ]
        },
        "yaxis2": {
         "anchor": "x2",
         "domain": [
          0.7777777777777778,
          1
         ]
        },
        "yaxis3": {
         "anchor": "x3",
         "domain": [
          0.7777777777777778,
          1
         ]
        },
        "yaxis4": {
         "anchor": "x4",
         "domain": [
          0.3888888888888889,
          0.6111111111111112
         ]
        },
        "yaxis5": {
         "anchor": "x5",
         "domain": [
          0.3888888888888889,
          0.6111111111111112
         ]
        },
        "yaxis6": {
         "anchor": "x6",
         "domain": [
          0.3888888888888889,
          0.6111111111111112
         ]
        },
        "yaxis7": {
         "anchor": "x7",
         "domain": [
          0,
          0.22222222222222224
         ]
        },
        "yaxis8": {
         "anchor": "x8",
         "domain": [
          0,
          0.22222222222222224
         ]
        },
        "yaxis9": {
         "anchor": "x9",
         "domain": [
          0,
          0.22222222222222224
         ]
        }
       }
      }
     },
     "metadata": {},
     "output_type": "display_data"
    },
    {
     "name": "stdout",
     "output_type": "stream",
     "text": [
      "\n",
      "================================================================================\n",
      "OUTLIER DETECTION: z1000t (Execution Time)\n",
      "================================================================================\n",
      "Total records: 75\n",
      "IQR Bounds: [-2.64, 4.93]\n",
      "Outliers detected: 14 (18.7%)\n",
      "\n",
      "Extreme Values:\n",
      "  s149408 (tcl): 202.80\n",
      "  s149209 (python): 72.30\n",
      "  s149113 (perl): 67.50\n",
      "  s093 (java): 37.10\n",
      "  s068 (java): 31.20\n",
      "  s072 (java): 30.10\n",
      "  s149410 (tcl): 29.40\n",
      "  s149302 (rexx): 25.40\n",
      "  s149102 (perl): 21.40\n",
      "  s034 (c++): 21.40\n",
      "  s149303 (rexx): 21.00\n",
      "  s036 (c): 20.90\n",
      "  s062 (java): 16.80\n",
      "  s047 (java): 6.47\n"
     ]
    },
    {
     "data": {
      "application/vnd.plotly.v1+json": {
       "config": {
        "plotlyServerURL": "https://plot.ly"
       },
       "data": [
        {
         "alignmentgroup": "True",
         "hovertemplate": "Language=%{x}<br>z1000t (Execution Time)=%{y}<extra></extra>",
         "legendgroup": "",
         "marker": {
          "color": "#636efa"
         },
         "name": "",
         "notched": false,
         "offsetgroup": "",
         "orientation": "v",
         "showlegend": false,
         "type": "box",
         "x": [
          "c",
          "c",
          "c",
          "c",
          "c++",
          "c++",
          "c++",
          "c++",
          "c++",
          "c++",
          "c++",
          "c++",
          "c++",
          "c++",
          "c++",
          "java",
          "java",
          "java",
          "java",
          "java",
          "java",
          "java",
          "java",
          "java",
          "java",
          "java",
          "java",
          "java",
          "java",
          "java",
          "java",
          "java",
          "java",
          "java",
          "java",
          "java",
          "java",
          "java",
          "java",
          "perl",
          "perl",
          "perl",
          "perl",
          "perl",
          "perl",
          "perl",
          "perl",
          "perl",
          "perl",
          "perl",
          "perl",
          "python",
          "python",
          "python",
          "python",
          "python",
          "python",
          "python",
          "python",
          "python",
          "python",
          "python",
          "python",
          "rexx",
          "rexx",
          "rexx",
          "tcl",
          "tcl",
          "tcl",
          "tcl",
          "tcl",
          "tcl",
          "tcl",
          "tcl",
          "tcl"
         ],
         "x0": " ",
         "xaxis": "x",
         "y": {
          "bdata": "nMQgsHJokT9mZmZmZuY0QAAAAAAAAOg/mpmZmZmZqT+amZmZmZmpP+58PzVeuv8/K4cW2c53E0BzaJHtfD+1P7pJDAIrh/g/TDeJQWDloD9mZmZmZmY1QEw3iUFg5aA/MzMzMzMzwz956SYxCKz6P/LSTWIQWO0/qMZLN4lB5D+q8dJNYhAFQOkmMQisHNI/fT81XrpJ1D+amZmZmZkBQJHtfD813hlAmpmZmZmZyT9KDAIrhxbRPzMzMzMzM/s/ZmZmZmZm1j8X2c73U+PdP5qZmZmZmRBA3SQGgZVDDkDNzMzMzMwwQIcW2c73U/U/Rrbz/dR49z8zMzMzMzM/QJqZmZmZGT5AmpmZmZmZyT8zMzMzMzPDP0oMAiuHFtE/zczMzMyMQkBKDAIrhxbRP8dLN4lBYMU/SgwCK4cW0T9mZmZmZmY1QHNoke18P7U/mpmZmZmZyT9mZmZmZmbWP7bz/dR46d4/x0s3iUFgxT+amZmZmZnJP0oMAiuHFtE/AAAAAAAA0D8AAAAAAOBQQB1aZDvfT9U/zczMzMzM5D+HFtnO91P5PwaBlUOLbMc/wcqhRbbzvT9zaJHtfD+1P8HKoUW2870/oBov3SQGwT/NzMzMzMzcPzMzMzMzE1JAAAAAAAAA0D9YObTIdr7jP9v5fmq8dOc/vp8aL90k6j9mZmZmZmY5QAAAAAAAADVAvp8aL90k4j9YObTIdr7jP4ts5/up8e4/zczMzMzM5D91kxgEVg7pP5qZmZmZWWlAQmDl0CLb5T9mZmZmZmY9QBfZzvdT490/",
          "dtype": "f8"
         },
         "y0": " ",
         "yaxis": "y"
        }
       ],
       "layout": {
        "boxmode": "group",
        "height": 600,
        "legend": {
         "tracegroupgap": 0
        },
        "template": {
         "data": {
          "bar": [
           {
            "error_x": {
             "color": "#2a3f5f"
            },
            "error_y": {
             "color": "#2a3f5f"
            },
            "marker": {
             "line": {
              "color": "white",
              "width": 0.5
             },
             "pattern": {
              "fillmode": "overlay",
              "size": 10,
              "solidity": 0.2
             }
            },
            "type": "bar"
           }
          ],
          "barpolar": [
           {
            "marker": {
             "line": {
              "color": "white",
              "width": 0.5
             },
             "pattern": {
              "fillmode": "overlay",
              "size": 10,
              "solidity": 0.2
             }
            },
            "type": "barpolar"
           }
          ],
          "carpet": [
           {
            "aaxis": {
             "endlinecolor": "#2a3f5f",
             "gridcolor": "#C8D4E3",
             "linecolor": "#C8D4E3",
             "minorgridcolor": "#C8D4E3",
             "startlinecolor": "#2a3f5f"
            },
            "baxis": {
             "endlinecolor": "#2a3f5f",
             "gridcolor": "#C8D4E3",
             "linecolor": "#C8D4E3",
             "minorgridcolor": "#C8D4E3",
             "startlinecolor": "#2a3f5f"
            },
            "type": "carpet"
           }
          ],
          "choropleth": [
           {
            "colorbar": {
             "outlinewidth": 0,
             "ticks": ""
            },
            "type": "choropleth"
           }
          ],
          "contour": [
           {
            "colorbar": {
             "outlinewidth": 0,
             "ticks": ""
            },
            "colorscale": [
             [
              0,
              "#0d0887"
             ],
             [
              0.1111111111111111,
              "#46039f"
             ],
             [
              0.2222222222222222,
              "#7201a8"
             ],
             [
              0.3333333333333333,
              "#9c179e"
             ],
             [
              0.4444444444444444,
              "#bd3786"
             ],
             [
              0.5555555555555556,
              "#d8576b"
             ],
             [
              0.6666666666666666,
              "#ed7953"
             ],
             [
              0.7777777777777778,
              "#fb9f3a"
             ],
             [
              0.8888888888888888,
              "#fdca26"
             ],
             [
              1,
              "#f0f921"
             ]
            ],
            "type": "contour"
           }
          ],
          "contourcarpet": [
           {
            "colorbar": {
             "outlinewidth": 0,
             "ticks": ""
            },
            "type": "contourcarpet"
           }
          ],
          "heatmap": [
           {
            "colorbar": {
             "outlinewidth": 0,
             "ticks": ""
            },
            "colorscale": [
             [
              0,
              "#0d0887"
             ],
             [
              0.1111111111111111,
              "#46039f"
             ],
             [
              0.2222222222222222,
              "#7201a8"
             ],
             [
              0.3333333333333333,
              "#9c179e"
             ],
             [
              0.4444444444444444,
              "#bd3786"
             ],
             [
              0.5555555555555556,
              "#d8576b"
             ],
             [
              0.6666666666666666,
              "#ed7953"
             ],
             [
              0.7777777777777778,
              "#fb9f3a"
             ],
             [
              0.8888888888888888,
              "#fdca26"
             ],
             [
              1,
              "#f0f921"
             ]
            ],
            "type": "heatmap"
           }
          ],
          "histogram": [
           {
            "marker": {
             "pattern": {
              "fillmode": "overlay",
              "size": 10,
              "solidity": 0.2
             }
            },
            "type": "histogram"
           }
          ],
          "histogram2d": [
           {
            "colorbar": {
             "outlinewidth": 0,
             "ticks": ""
            },
            "colorscale": [
             [
              0,
              "#0d0887"
             ],
             [
              0.1111111111111111,
              "#46039f"
             ],
             [
              0.2222222222222222,
              "#7201a8"
             ],
             [
              0.3333333333333333,
              "#9c179e"
             ],
             [
              0.4444444444444444,
              "#bd3786"
             ],
             [
              0.5555555555555556,
              "#d8576b"
             ],
             [
              0.6666666666666666,
              "#ed7953"
             ],
             [
              0.7777777777777778,
              "#fb9f3a"
             ],
             [
              0.8888888888888888,
              "#fdca26"
             ],
             [
              1,
              "#f0f921"
             ]
            ],
            "type": "histogram2d"
           }
          ],
          "histogram2dcontour": [
           {
            "colorbar": {
             "outlinewidth": 0,
             "ticks": ""
            },
            "colorscale": [
             [
              0,
              "#0d0887"
             ],
             [
              0.1111111111111111,
              "#46039f"
             ],
             [
              0.2222222222222222,
              "#7201a8"
             ],
             [
              0.3333333333333333,
              "#9c179e"
             ],
             [
              0.4444444444444444,
              "#bd3786"
             ],
             [
              0.5555555555555556,
              "#d8576b"
             ],
             [
              0.6666666666666666,
              "#ed7953"
             ],
             [
              0.7777777777777778,
              "#fb9f3a"
             ],
             [
              0.8888888888888888,
              "#fdca26"
             ],
             [
              1,
              "#f0f921"
             ]
            ],
            "type": "histogram2dcontour"
           }
          ],
          "mesh3d": [
           {
            "colorbar": {
             "outlinewidth": 0,
             "ticks": ""
            },
            "type": "mesh3d"
           }
          ],
          "parcoords": [
           {
            "line": {
             "colorbar": {
              "outlinewidth": 0,
              "ticks": ""
             }
            },
            "type": "parcoords"
           }
          ],
          "pie": [
           {
            "automargin": true,
            "type": "pie"
           }
          ],
          "scatter": [
           {
            "fillpattern": {
             "fillmode": "overlay",
             "size": 10,
             "solidity": 0.2
            },
            "type": "scatter"
           }
          ],
          "scatter3d": [
           {
            "line": {
             "colorbar": {
              "outlinewidth": 0,
              "ticks": ""
             }
            },
            "marker": {
             "colorbar": {
              "outlinewidth": 0,
              "ticks": ""
             }
            },
            "type": "scatter3d"
           }
          ],
          "scattercarpet": [
           {
            "marker": {
             "colorbar": {
              "outlinewidth": 0,
              "ticks": ""
             }
            },
            "type": "scattercarpet"
           }
          ],
          "scattergeo": [
           {
            "marker": {
             "colorbar": {
              "outlinewidth": 0,
              "ticks": ""
             }
            },
            "type": "scattergeo"
           }
          ],
          "scattergl": [
           {
            "marker": {
             "colorbar": {
              "outlinewidth": 0,
              "ticks": ""
             }
            },
            "type": "scattergl"
           }
          ],
          "scattermap": [
           {
            "marker": {
             "colorbar": {
              "outlinewidth": 0,
              "ticks": ""
             }
            },
            "type": "scattermap"
           }
          ],
          "scattermapbox": [
           {
            "marker": {
             "colorbar": {
              "outlinewidth": 0,
              "ticks": ""
             }
            },
            "type": "scattermapbox"
           }
          ],
          "scatterpolar": [
           {
            "marker": {
             "colorbar": {
              "outlinewidth": 0,
              "ticks": ""
             }
            },
            "type": "scatterpolar"
           }
          ],
          "scatterpolargl": [
           {
            "marker": {
             "colorbar": {
              "outlinewidth": 0,
              "ticks": ""
             }
            },
            "type": "scatterpolargl"
           }
          ],
          "scatterternary": [
           {
            "marker": {
             "colorbar": {
              "outlinewidth": 0,
              "ticks": ""
             }
            },
            "type": "scatterternary"
           }
          ],
          "surface": [
           {
            "colorbar": {
             "outlinewidth": 0,
             "ticks": ""
            },
            "colorscale": [
             [
              0,
              "#0d0887"
             ],
             [
              0.1111111111111111,
              "#46039f"
             ],
             [
              0.2222222222222222,
              "#7201a8"
             ],
             [
              0.3333333333333333,
              "#9c179e"
             ],
             [
              0.4444444444444444,
              "#bd3786"
             ],
             [
              0.5555555555555556,
              "#d8576b"
             ],
             [
              0.6666666666666666,
              "#ed7953"
             ],
             [
              0.7777777777777778,
              "#fb9f3a"
             ],
             [
              0.8888888888888888,
              "#fdca26"
             ],
             [
              1,
              "#f0f921"
             ]
            ],
            "type": "surface"
           }
          ],
          "table": [
           {
            "cells": {
             "fill": {
              "color": "#EBF0F8"
             },
             "line": {
              "color": "white"
             }
            },
            "header": {
             "fill": {
              "color": "#C8D4E3"
             },
             "line": {
              "color": "white"
             }
            },
            "type": "table"
           }
          ]
         },
         "layout": {
          "annotationdefaults": {
           "arrowcolor": "#2a3f5f",
           "arrowhead": 0,
           "arrowwidth": 1
          },
          "autotypenumbers": "strict",
          "coloraxis": {
           "colorbar": {
            "outlinewidth": 0,
            "ticks": ""
           }
          },
          "colorscale": {
           "diverging": [
            [
             0,
             "#8e0152"
            ],
            [
             0.1,
             "#c51b7d"
            ],
            [
             0.2,
             "#de77ae"
            ],
            [
             0.3,
             "#f1b6da"
            ],
            [
             0.4,
             "#fde0ef"
            ],
            [
             0.5,
             "#f7f7f7"
            ],
            [
             0.6,
             "#e6f5d0"
            ],
            [
             0.7,
             "#b8e186"
            ],
            [
             0.8,
             "#7fbc41"
            ],
            [
             0.9,
             "#4d9221"
            ],
            [
             1,
             "#276419"
            ]
           ],
           "sequential": [
            [
             0,
             "#0d0887"
            ],
            [
             0.1111111111111111,
             "#46039f"
            ],
            [
             0.2222222222222222,
             "#7201a8"
            ],
            [
             0.3333333333333333,
             "#9c179e"
            ],
            [
             0.4444444444444444,
             "#bd3786"
            ],
            [
             0.5555555555555556,
             "#d8576b"
            ],
            [
             0.6666666666666666,
             "#ed7953"
            ],
            [
             0.7777777777777778,
             "#fb9f3a"
            ],
            [
             0.8888888888888888,
             "#fdca26"
            ],
            [
             1,
             "#f0f921"
            ]
           ],
           "sequentialminus": [
            [
             0,
             "#0d0887"
            ],
            [
             0.1111111111111111,
             "#46039f"
            ],
            [
             0.2222222222222222,
             "#7201a8"
            ],
            [
             0.3333333333333333,
             "#9c179e"
            ],
            [
             0.4444444444444444,
             "#bd3786"
            ],
            [
             0.5555555555555556,
             "#d8576b"
            ],
            [
             0.6666666666666666,
             "#ed7953"
            ],
            [
             0.7777777777777778,
             "#fb9f3a"
            ],
            [
             0.8888888888888888,
             "#fdca26"
            ],
            [
             1,
             "#f0f921"
            ]
           ]
          },
          "colorway": [
           "#636efa",
           "#EF553B",
           "#00cc96",
           "#ab63fa",
           "#FFA15A",
           "#19d3f3",
           "#FF6692",
           "#B6E880",
           "#FF97FF",
           "#FECB52"
          ],
          "font": {
           "color": "#2a3f5f"
          },
          "geo": {
           "bgcolor": "white",
           "lakecolor": "white",
           "landcolor": "white",
           "showlakes": true,
           "showland": true,
           "subunitcolor": "#C8D4E3"
          },
          "hoverlabel": {
           "align": "left"
          },
          "hovermode": "closest",
          "mapbox": {
           "style": "light"
          },
          "paper_bgcolor": "white",
          "plot_bgcolor": "white",
          "polar": {
           "angularaxis": {
            "gridcolor": "#EBF0F8",
            "linecolor": "#EBF0F8",
            "ticks": ""
           },
           "bgcolor": "white",
           "radialaxis": {
            "gridcolor": "#EBF0F8",
            "linecolor": "#EBF0F8",
            "ticks": ""
           }
          },
          "scene": {
           "xaxis": {
            "backgroundcolor": "white",
            "gridcolor": "#DFE8F3",
            "gridwidth": 2,
            "linecolor": "#EBF0F8",
            "showbackground": true,
            "ticks": "",
            "zerolinecolor": "#EBF0F8"
           },
           "yaxis": {
            "backgroundcolor": "white",
            "gridcolor": "#DFE8F3",
            "gridwidth": 2,
            "linecolor": "#EBF0F8",
            "showbackground": true,
            "ticks": "",
            "zerolinecolor": "#EBF0F8"
           },
           "zaxis": {
            "backgroundcolor": "white",
            "gridcolor": "#DFE8F3",
            "gridwidth": 2,
            "linecolor": "#EBF0F8",
            "showbackground": true,
            "ticks": "",
            "zerolinecolor": "#EBF0F8"
           }
          },
          "shapedefaults": {
           "line": {
            "color": "#2a3f5f"
           }
          },
          "ternary": {
           "aaxis": {
            "gridcolor": "#DFE8F3",
            "linecolor": "#A2B1C6",
            "ticks": ""
           },
           "baxis": {
            "gridcolor": "#DFE8F3",
            "linecolor": "#A2B1C6",
            "ticks": ""
           },
           "bgcolor": "white",
           "caxis": {
            "gridcolor": "#DFE8F3",
            "linecolor": "#A2B1C6",
            "ticks": ""
           }
          },
          "title": {
           "x": 0.05
          },
          "xaxis": {
           "automargin": true,
           "gridcolor": "#EBF0F8",
           "linecolor": "#EBF0F8",
           "ticks": "",
           "title": {
            "standoff": 15
           },
           "zerolinecolor": "#EBF0F8",
           "zerolinewidth": 2
          },
          "yaxis": {
           "automargin": true,
           "gridcolor": "#EBF0F8",
           "linecolor": "#EBF0F8",
           "ticks": "",
           "title": {
            "standoff": 15
           },
           "zerolinecolor": "#EBF0F8",
           "zerolinewidth": 2
          }
         }
        },
        "title": {
         "text": "Distribution of z1000t by Language"
        },
        "width": 1000,
        "xaxis": {
         "anchor": "y",
         "domain": [
          0,
          1
         ],
         "title": {
          "text": "Language"
         }
        },
        "yaxis": {
         "anchor": "x",
         "domain": [
          0,
          1
         ],
         "title": {
          "text": "z1000t (Execution Time)"
         }
        }
       }
      }
     },
     "metadata": {},
     "output_type": "display_data"
    },
    {
     "data": {
      "application/vnd.plotly.v1+json": {
       "config": {
        "plotlyServerURL": "https://plot.ly"
       },
       "data": [
        {
         "alignmentgroup": "True",
         "bingroup": "x",
         "hovertemplate": "lang=c<br>z1000t (Execution Time)=%{x}<br>count=%{y}<extra></extra>",
         "legendgroup": "c",
         "marker": {
          "color": "#636efa",
          "pattern": {
           "shape": ""
          }
         },
         "name": "c",
         "nbinsx": 30,
         "offsetgroup": "c",
         "orientation": "v",
         "showlegend": true,
         "type": "histogram",
         "x": {
          "bdata": "nMQgsHJokT9mZmZmZuY0QAAAAAAAAOg/mpmZmZmZqT8=",
          "dtype": "f8"
         },
         "xaxis": "x",
         "yaxis": "y"
        },
        {
         "alignmentgroup": "True",
         "bingroup": "x",
         "hovertemplate": "lang=c++<br>z1000t (Execution Time)=%{x}<br>count=%{y}<extra></extra>",
         "legendgroup": "c++",
         "marker": {
          "color": "#EF553B",
          "pattern": {
           "shape": ""
          }
         },
         "name": "c++",
         "nbinsx": 30,
         "offsetgroup": "c++",
         "orientation": "v",
         "showlegend": true,
         "type": "histogram",
         "x": {
          "bdata": "mpmZmZmZqT/ufD81Xrr/PyuHFtnOdxNAc2iR7Xw/tT+6SQwCK4f4P0w3iUFg5aA/ZmZmZmZmNUBMN4lBYOWgPzMzMzMzM8M/eekmMQis+j/y0k1iEFjtPw==",
          "dtype": "f8"
         },
         "xaxis": "x",
         "yaxis": "y"
        },
        {
         "alignmentgroup": "True",
         "bingroup": "x",
         "hovertemplate": "lang=java<br>z1000t (Execution Time)=%{x}<br>count=%{y}<extra></extra>",
         "legendgroup": "java",
         "marker": {
          "color": "#00cc96",
          "pattern": {
           "shape": ""
          }
         },
         "name": "java",
         "nbinsx": 30,
         "offsetgroup": "java",
         "orientation": "v",
         "showlegend": true,
         "type": "histogram",
         "x": {
          "bdata": "qMZLN4lB5D+q8dJNYhAFQOkmMQisHNI/fT81XrpJ1D+amZmZmZkBQJHtfD813hlAmpmZmZmZyT9KDAIrhxbRPzMzMzMzM/s/ZmZmZmZm1j8X2c73U+PdP5qZmZmZmRBA3SQGgZVDDkDNzMzMzMwwQIcW2c73U/U/Rrbz/dR49z8zMzMzMzM/QJqZmZmZGT5AmpmZmZmZyT8zMzMzMzPDP0oMAiuHFtE/zczMzMyMQkBKDAIrhxbRP8dLN4lBYMU/",
          "dtype": "f8"
         },
         "xaxis": "x",
         "yaxis": "y"
        },
        {
         "alignmentgroup": "True",
         "bingroup": "x",
         "hovertemplate": "lang=perl<br>z1000t (Execution Time)=%{x}<br>count=%{y}<extra></extra>",
         "legendgroup": "perl",
         "marker": {
          "color": "#ab63fa",
          "pattern": {
           "shape": ""
          }
         },
         "name": "perl",
         "nbinsx": 30,
         "offsetgroup": "perl",
         "orientation": "v",
         "showlegend": true,
         "type": "histogram",
         "x": {
          "bdata": "SgwCK4cW0T9mZmZmZmY1QHNoke18P7U/mpmZmZmZyT9mZmZmZmbWP7bz/dR46d4/x0s3iUFgxT+amZmZmZnJP0oMAiuHFtE/AAAAAAAA0D8AAAAAAOBQQB1aZDvfT9U/",
          "dtype": "f8"
         },
         "xaxis": "x",
         "yaxis": "y"
        },
        {
         "alignmentgroup": "True",
         "bingroup": "x",
         "hovertemplate": "lang=python<br>z1000t (Execution Time)=%{x}<br>count=%{y}<extra></extra>",
         "legendgroup": "python",
         "marker": {
          "color": "#FFA15A",
          "pattern": {
           "shape": ""
          }
         },
         "name": "python",
         "nbinsx": 30,
         "offsetgroup": "python",
         "orientation": "v",
         "showlegend": true,
         "type": "histogram",
         "x": {
          "bdata": "zczMzMzM5D+HFtnO91P5PwaBlUOLbMc/wcqhRbbzvT9zaJHtfD+1P8HKoUW2870/oBov3SQGwT/NzMzMzMzcPzMzMzMzE1JAAAAAAAAA0D9YObTIdr7jP9v5fmq8dOc/",
          "dtype": "f8"
         },
         "xaxis": "x",
         "yaxis": "y"
        },
        {
         "alignmentgroup": "True",
         "bingroup": "x",
         "hovertemplate": "lang=rexx<br>z1000t (Execution Time)=%{x}<br>count=%{y}<extra></extra>",
         "legendgroup": "rexx",
         "marker": {
          "color": "#19d3f3",
          "pattern": {
           "shape": ""
          }
         },
         "name": "rexx",
         "nbinsx": 30,
         "offsetgroup": "rexx",
         "orientation": "v",
         "showlegend": true,
         "type": "histogram",
         "x": {
          "bdata": "vp8aL90k6j9mZmZmZmY5QAAAAAAAADVA",
          "dtype": "f8"
         },
         "xaxis": "x",
         "yaxis": "y"
        },
        {
         "alignmentgroup": "True",
         "bingroup": "x",
         "hovertemplate": "lang=tcl<br>z1000t (Execution Time)=%{x}<br>count=%{y}<extra></extra>",
         "legendgroup": "tcl",
         "marker": {
          "color": "#FF6692",
          "pattern": {
           "shape": ""
          }
         },
         "name": "tcl",
         "nbinsx": 30,
         "offsetgroup": "tcl",
         "orientation": "v",
         "showlegend": true,
         "type": "histogram",
         "x": {
          "bdata": "vp8aL90k4j9YObTIdr7jP4ts5/up8e4/zczMzMzM5D91kxgEVg7pP5qZmZmZWWlAQmDl0CLb5T9mZmZmZmY9QBfZzvdT490/",
          "dtype": "f8"
         },
         "xaxis": "x",
         "yaxis": "y"
        }
       ],
       "layout": {
        "annotations": [
         {
          "showarrow": false,
          "text": "Upper: 4.93",
          "x": 4.92875,
          "xanchor": "left",
          "xref": "x",
          "y": 1,
          "yanchor": "top",
          "yref": "y domain"
         },
         {
          "showarrow": false,
          "text": "Lower: -2.64",
          "x": -2.63725,
          "xanchor": "left",
          "xref": "x",
          "y": 1,
          "yanchor": "top",
          "yref": "y domain"
         }
        ],
        "barmode": "group",
        "height": 600,
        "legend": {
         "title": {
          "text": "lang"
         },
         "tracegroupgap": 0
        },
        "shapes": [
         {
          "line": {
           "color": "red",
           "dash": "dash"
          },
          "type": "line",
          "x0": 4.92875,
          "x1": 4.92875,
          "xref": "x",
          "y0": 0,
          "y1": 1,
          "yref": "y domain"
         },
         {
          "line": {
           "color": "red",
           "dash": "dash"
          },
          "type": "line",
          "x0": -2.63725,
          "x1": -2.63725,
          "xref": "x",
          "y0": 0,
          "y1": 1,
          "yref": "y domain"
         }
        ],
        "template": {
         "data": {
          "bar": [
           {
            "error_x": {
             "color": "#2a3f5f"
            },
            "error_y": {
             "color": "#2a3f5f"
            },
            "marker": {
             "line": {
              "color": "white",
              "width": 0.5
             },
             "pattern": {
              "fillmode": "overlay",
              "size": 10,
              "solidity": 0.2
             }
            },
            "type": "bar"
           }
          ],
          "barpolar": [
           {
            "marker": {
             "line": {
              "color": "white",
              "width": 0.5
             },
             "pattern": {
              "fillmode": "overlay",
              "size": 10,
              "solidity": 0.2
             }
            },
            "type": "barpolar"
           }
          ],
          "carpet": [
           {
            "aaxis": {
             "endlinecolor": "#2a3f5f",
             "gridcolor": "#C8D4E3",
             "linecolor": "#C8D4E3",
             "minorgridcolor": "#C8D4E3",
             "startlinecolor": "#2a3f5f"
            },
            "baxis": {
             "endlinecolor": "#2a3f5f",
             "gridcolor": "#C8D4E3",
             "linecolor": "#C8D4E3",
             "minorgridcolor": "#C8D4E3",
             "startlinecolor": "#2a3f5f"
            },
            "type": "carpet"
           }
          ],
          "choropleth": [
           {
            "colorbar": {
             "outlinewidth": 0,
             "ticks": ""
            },
            "type": "choropleth"
           }
          ],
          "contour": [
           {
            "colorbar": {
             "outlinewidth": 0,
             "ticks": ""
            },
            "colorscale": [
             [
              0,
              "#0d0887"
             ],
             [
              0.1111111111111111,
              "#46039f"
             ],
             [
              0.2222222222222222,
              "#7201a8"
             ],
             [
              0.3333333333333333,
              "#9c179e"
             ],
             [
              0.4444444444444444,
              "#bd3786"
             ],
             [
              0.5555555555555556,
              "#d8576b"
             ],
             [
              0.6666666666666666,
              "#ed7953"
             ],
             [
              0.7777777777777778,
              "#fb9f3a"
             ],
             [
              0.8888888888888888,
              "#fdca26"
             ],
             [
              1,
              "#f0f921"
             ]
            ],
            "type": "contour"
           }
          ],
          "contourcarpet": [
           {
            "colorbar": {
             "outlinewidth": 0,
             "ticks": ""
            },
            "type": "contourcarpet"
           }
          ],
          "heatmap": [
           {
            "colorbar": {
             "outlinewidth": 0,
             "ticks": ""
            },
            "colorscale": [
             [
              0,
              "#0d0887"
             ],
             [
              0.1111111111111111,
              "#46039f"
             ],
             [
              0.2222222222222222,
              "#7201a8"
             ],
             [
              0.3333333333333333,
              "#9c179e"
             ],
             [
              0.4444444444444444,
              "#bd3786"
             ],
             [
              0.5555555555555556,
              "#d8576b"
             ],
             [
              0.6666666666666666,
              "#ed7953"
             ],
             [
              0.7777777777777778,
              "#fb9f3a"
             ],
             [
              0.8888888888888888,
              "#fdca26"
             ],
             [
              1,
              "#f0f921"
             ]
            ],
            "type": "heatmap"
           }
          ],
          "histogram": [
           {
            "marker": {
             "pattern": {
              "fillmode": "overlay",
              "size": 10,
              "solidity": 0.2
             }
            },
            "type": "histogram"
           }
          ],
          "histogram2d": [
           {
            "colorbar": {
             "outlinewidth": 0,
             "ticks": ""
            },
            "colorscale": [
             [
              0,
              "#0d0887"
             ],
             [
              0.1111111111111111,
              "#46039f"
             ],
             [
              0.2222222222222222,
              "#7201a8"
             ],
             [
              0.3333333333333333,
              "#9c179e"
             ],
             [
              0.4444444444444444,
              "#bd3786"
             ],
             [
              0.5555555555555556,
              "#d8576b"
             ],
             [
              0.6666666666666666,
              "#ed7953"
             ],
             [
              0.7777777777777778,
              "#fb9f3a"
             ],
             [
              0.8888888888888888,
              "#fdca26"
             ],
             [
              1,
              "#f0f921"
             ]
            ],
            "type": "histogram2d"
           }
          ],
          "histogram2dcontour": [
           {
            "colorbar": {
             "outlinewidth": 0,
             "ticks": ""
            },
            "colorscale": [
             [
              0,
              "#0d0887"
             ],
             [
              0.1111111111111111,
              "#46039f"
             ],
             [
              0.2222222222222222,
              "#7201a8"
             ],
             [
              0.3333333333333333,
              "#9c179e"
             ],
             [
              0.4444444444444444,
              "#bd3786"
             ],
             [
              0.5555555555555556,
              "#d8576b"
             ],
             [
              0.6666666666666666,
              "#ed7953"
             ],
             [
              0.7777777777777778,
              "#fb9f3a"
             ],
             [
              0.8888888888888888,
              "#fdca26"
             ],
             [
              1,
              "#f0f921"
             ]
            ],
            "type": "histogram2dcontour"
           }
          ],
          "mesh3d": [
           {
            "colorbar": {
             "outlinewidth": 0,
             "ticks": ""
            },
            "type": "mesh3d"
           }
          ],
          "parcoords": [
           {
            "line": {
             "colorbar": {
              "outlinewidth": 0,
              "ticks": ""
             }
            },
            "type": "parcoords"
           }
          ],
          "pie": [
           {
            "automargin": true,
            "type": "pie"
           }
          ],
          "scatter": [
           {
            "fillpattern": {
             "fillmode": "overlay",
             "size": 10,
             "solidity": 0.2
            },
            "type": "scatter"
           }
          ],
          "scatter3d": [
           {
            "line": {
             "colorbar": {
              "outlinewidth": 0,
              "ticks": ""
             }
            },
            "marker": {
             "colorbar": {
              "outlinewidth": 0,
              "ticks": ""
             }
            },
            "type": "scatter3d"
           }
          ],
          "scattercarpet": [
           {
            "marker": {
             "colorbar": {
              "outlinewidth": 0,
              "ticks": ""
             }
            },
            "type": "scattercarpet"
           }
          ],
          "scattergeo": [
           {
            "marker": {
             "colorbar": {
              "outlinewidth": 0,
              "ticks": ""
             }
            },
            "type": "scattergeo"
           }
          ],
          "scattergl": [
           {
            "marker": {
             "colorbar": {
              "outlinewidth": 0,
              "ticks": ""
             }
            },
            "type": "scattergl"
           }
          ],
          "scattermap": [
           {
            "marker": {
             "colorbar": {
              "outlinewidth": 0,
              "ticks": ""
             }
            },
            "type": "scattermap"
           }
          ],
          "scattermapbox": [
           {
            "marker": {
             "colorbar": {
              "outlinewidth": 0,
              "ticks": ""
             }
            },
            "type": "scattermapbox"
           }
          ],
          "scatterpolar": [
           {
            "marker": {
             "colorbar": {
              "outlinewidth": 0,
              "ticks": ""
             }
            },
            "type": "scatterpolar"
           }
          ],
          "scatterpolargl": [
           {
            "marker": {
             "colorbar": {
              "outlinewidth": 0,
              "ticks": ""
             }
            },
            "type": "scatterpolargl"
           }
          ],
          "scatterternary": [
           {
            "marker": {
             "colorbar": {
              "outlinewidth": 0,
              "ticks": ""
             }
            },
            "type": "scatterternary"
           }
          ],
          "surface": [
           {
            "colorbar": {
             "outlinewidth": 0,
             "ticks": ""
            },
            "colorscale": [
             [
              0,
              "#0d0887"
             ],
             [
              0.1111111111111111,
              "#46039f"
             ],
             [
              0.2222222222222222,
              "#7201a8"
             ],
             [
              0.3333333333333333,
              "#9c179e"
             ],
             [
              0.4444444444444444,
              "#bd3786"
             ],
             [
              0.5555555555555556,
              "#d8576b"
             ],
             [
              0.6666666666666666,
              "#ed7953"
             ],
             [
              0.7777777777777778,
              "#fb9f3a"
             ],
             [
              0.8888888888888888,
              "#fdca26"
             ],
             [
              1,
              "#f0f921"
             ]
            ],
            "type": "surface"
           }
          ],
          "table": [
           {
            "cells": {
             "fill": {
              "color": "#EBF0F8"
             },
             "line": {
              "color": "white"
             }
            },
            "header": {
             "fill": {
              "color": "#C8D4E3"
             },
             "line": {
              "color": "white"
             }
            },
            "type": "table"
           }
          ]
         },
         "layout": {
          "annotationdefaults": {
           "arrowcolor": "#2a3f5f",
           "arrowhead": 0,
           "arrowwidth": 1
          },
          "autotypenumbers": "strict",
          "coloraxis": {
           "colorbar": {
            "outlinewidth": 0,
            "ticks": ""
           }
          },
          "colorscale": {
           "diverging": [
            [
             0,
             "#8e0152"
            ],
            [
             0.1,
             "#c51b7d"
            ],
            [
             0.2,
             "#de77ae"
            ],
            [
             0.3,
             "#f1b6da"
            ],
            [
             0.4,
             "#fde0ef"
            ],
            [
             0.5,
             "#f7f7f7"
            ],
            [
             0.6,
             "#e6f5d0"
            ],
            [
             0.7,
             "#b8e186"
            ],
            [
             0.8,
             "#7fbc41"
            ],
            [
             0.9,
             "#4d9221"
            ],
            [
             1,
             "#276419"
            ]
           ],
           "sequential": [
            [
             0,
             "#0d0887"
            ],
            [
             0.1111111111111111,
             "#46039f"
            ],
            [
             0.2222222222222222,
             "#7201a8"
            ],
            [
             0.3333333333333333,
             "#9c179e"
            ],
            [
             0.4444444444444444,
             "#bd3786"
            ],
            [
             0.5555555555555556,
             "#d8576b"
            ],
            [
             0.6666666666666666,
             "#ed7953"
            ],
            [
             0.7777777777777778,
             "#fb9f3a"
            ],
            [
             0.8888888888888888,
             "#fdca26"
            ],
            [
             1,
             "#f0f921"
            ]
           ],
           "sequentialminus": [
            [
             0,
             "#0d0887"
            ],
            [
             0.1111111111111111,
             "#46039f"
            ],
            [
             0.2222222222222222,
             "#7201a8"
            ],
            [
             0.3333333333333333,
             "#9c179e"
            ],
            [
             0.4444444444444444,
             "#bd3786"
            ],
            [
             0.5555555555555556,
             "#d8576b"
            ],
            [
             0.6666666666666666,
             "#ed7953"
            ],
            [
             0.7777777777777778,
             "#fb9f3a"
            ],
            [
             0.8888888888888888,
             "#fdca26"
            ],
            [
             1,
             "#f0f921"
            ]
           ]
          },
          "colorway": [
           "#636efa",
           "#EF553B",
           "#00cc96",
           "#ab63fa",
           "#FFA15A",
           "#19d3f3",
           "#FF6692",
           "#B6E880",
           "#FF97FF",
           "#FECB52"
          ],
          "font": {
           "color": "#2a3f5f"
          },
          "geo": {
           "bgcolor": "white",
           "lakecolor": "white",
           "landcolor": "white",
           "showlakes": true,
           "showland": true,
           "subunitcolor": "#C8D4E3"
          },
          "hoverlabel": {
           "align": "left"
          },
          "hovermode": "closest",
          "mapbox": {
           "style": "light"
          },
          "paper_bgcolor": "white",
          "plot_bgcolor": "white",
          "polar": {
           "angularaxis": {
            "gridcolor": "#EBF0F8",
            "linecolor": "#EBF0F8",
            "ticks": ""
           },
           "bgcolor": "white",
           "radialaxis": {
            "gridcolor": "#EBF0F8",
            "linecolor": "#EBF0F8",
            "ticks": ""
           }
          },
          "scene": {
           "xaxis": {
            "backgroundcolor": "white",
            "gridcolor": "#DFE8F3",
            "gridwidth": 2,
            "linecolor": "#EBF0F8",
            "showbackground": true,
            "ticks": "",
            "zerolinecolor": "#EBF0F8"
           },
           "yaxis": {
            "backgroundcolor": "white",
            "gridcolor": "#DFE8F3",
            "gridwidth": 2,
            "linecolor": "#EBF0F8",
            "showbackground": true,
            "ticks": "",
            "zerolinecolor": "#EBF0F8"
           },
           "zaxis": {
            "backgroundcolor": "white",
            "gridcolor": "#DFE8F3",
            "gridwidth": 2,
            "linecolor": "#EBF0F8",
            "showbackground": true,
            "ticks": "",
            "zerolinecolor": "#EBF0F8"
           }
          },
          "shapedefaults": {
           "line": {
            "color": "#2a3f5f"
           }
          },
          "ternary": {
           "aaxis": {
            "gridcolor": "#DFE8F3",
            "linecolor": "#A2B1C6",
            "ticks": ""
           },
           "baxis": {
            "gridcolor": "#DFE8F3",
            "linecolor": "#A2B1C6",
            "ticks": ""
           },
           "bgcolor": "white",
           "caxis": {
            "gridcolor": "#DFE8F3",
            "linecolor": "#A2B1C6",
            "ticks": ""
           }
          },
          "title": {
           "x": 0.05
          },
          "xaxis": {
           "automargin": true,
           "gridcolor": "#EBF0F8",
           "linecolor": "#EBF0F8",
           "ticks": "",
           "title": {
            "standoff": 15
           },
           "zerolinecolor": "#EBF0F8",
           "zerolinewidth": 2
          },
          "yaxis": {
           "automargin": true,
           "gridcolor": "#EBF0F8",
           "linecolor": "#EBF0F8",
           "ticks": "",
           "title": {
            "standoff": 15
           },
           "zerolinecolor": "#EBF0F8",
           "zerolinewidth": 2
          }
         }
        },
        "title": {
         "text": "Histogram of z1000t with Outlier Bounds"
        },
        "width": 1000,
        "xaxis": {
         "anchor": "y",
         "domain": [
          0,
          1
         ],
         "title": {
          "text": "z1000t (Execution Time)"
         }
        },
        "yaxis": {
         "anchor": "x",
         "domain": [
          0,
          1
         ],
         "title": {
          "text": "count"
         }
        }
       }
      }
     },
     "metadata": {},
     "output_type": "display_data"
    },
    {
     "name": "stdout",
     "output_type": "stream",
     "text": [
      "\n",
      "================================================================================\n",
      "OUTLIER DETECTION: z1000mem (Memory Usage)\n",
      "================================================================================\n",
      "Total records: 80\n",
      "IQR Bounds: [-17576, 75240]\n",
      "Outliers detected: 3 (3.8%)\n",
      "\n",
      "Extreme Values:\n",
      "  s149211 (python): 91120\n",
      "  s023 (java): 89664\n",
      "  s081 (java): 79544\n"
     ]
    },
    {
     "data": {
      "application/vnd.plotly.v1+json": {
       "config": {
        "plotlyServerURL": "https://plot.ly"
       },
       "data": [
        {
         "alignmentgroup": "True",
         "hovertemplate": "Language=%{x}<br>z1000mem (Memory)=%{y}<extra></extra>",
         "legendgroup": "",
         "marker": {
          "color": "#636efa"
         },
         "name": "",
         "notched": false,
         "offsetgroup": "",
         "orientation": "v",
         "showlegend": false,
         "type": "box",
         "x": [
          "c",
          "c",
          "c",
          "c",
          "c",
          "c++",
          "c++",
          "c++",
          "c++",
          "c++",
          "c++",
          "c++",
          "c++",
          "c++",
          "c++",
          "c++",
          "java",
          "java",
          "java",
          "java",
          "java",
          "java",
          "java",
          "java",
          "java",
          "java",
          "java",
          "java",
          "java",
          "java",
          "java",
          "java",
          "java",
          "java",
          "java",
          "java",
          "java",
          "java",
          "java",
          "java",
          "perl",
          "perl",
          "perl",
          "perl",
          "perl",
          "perl",
          "perl",
          "perl",
          "perl",
          "perl",
          "perl",
          "perl",
          "perl",
          "python",
          "python",
          "python",
          "python",
          "python",
          "python",
          "python",
          "python",
          "python",
          "python",
          "python",
          "python",
          "python",
          "rexx",
          "rexx",
          "rexx",
          "rexx",
          "tcl",
          "tcl",
          "tcl",
          "tcl",
          "tcl",
          "tcl",
          "tcl",
          "tcl",
          "tcl",
          "tcl"
         ],
         "x0": " ",
         "xaxis": "x",
         "y": {
          "bdata": "oFcAAEhCAACwLAAAiAsAAOBXAAAoYAAA8BgAAMAUAACYbwAAkA0AAChbAADQGgAAmFgAAHgNAAA4EAAAeBQAAOCjAABAXgEA0OYAADjcAAAojQAAWNYAAKjiAACYzAAA0GkAADhXAADYlAAAwJ0AAPhyAADglQAAEJcAACjCAACIngAAMMwAALg2AQDY/gAA2JsAAKCiAAAoFAEAAMsAAMBDAADgHgEAQGMAADB7AABIRAAAUEMAAOgeAQCgQwAAUEMAAEhDAACoRAAAYE8AAIhVAABQWAAAeEUAAGA1AABANQAAuEMAAKhDAADQOwAAmD4AACg5AABIRAAA8GMBAOA2AACwNgAACCMAAKBSAACYUgAAWCMAAJB+AABYcgAA0HAAAPitAADwZgAACEUAAMi+AACYWgAASE8AAMhTAAA=",
          "dtype": "i4"
         },
         "y0": " ",
         "yaxis": "y"
        }
       ],
       "layout": {
        "boxmode": "group",
        "height": 600,
        "legend": {
         "tracegroupgap": 0
        },
        "template": {
         "data": {
          "bar": [
           {
            "error_x": {
             "color": "#2a3f5f"
            },
            "error_y": {
             "color": "#2a3f5f"
            },
            "marker": {
             "line": {
              "color": "white",
              "width": 0.5
             },
             "pattern": {
              "fillmode": "overlay",
              "size": 10,
              "solidity": 0.2
             }
            },
            "type": "bar"
           }
          ],
          "barpolar": [
           {
            "marker": {
             "line": {
              "color": "white",
              "width": 0.5
             },
             "pattern": {
              "fillmode": "overlay",
              "size": 10,
              "solidity": 0.2
             }
            },
            "type": "barpolar"
           }
          ],
          "carpet": [
           {
            "aaxis": {
             "endlinecolor": "#2a3f5f",
             "gridcolor": "#C8D4E3",
             "linecolor": "#C8D4E3",
             "minorgridcolor": "#C8D4E3",
             "startlinecolor": "#2a3f5f"
            },
            "baxis": {
             "endlinecolor": "#2a3f5f",
             "gridcolor": "#C8D4E3",
             "linecolor": "#C8D4E3",
             "minorgridcolor": "#C8D4E3",
             "startlinecolor": "#2a3f5f"
            },
            "type": "carpet"
           }
          ],
          "choropleth": [
           {
            "colorbar": {
             "outlinewidth": 0,
             "ticks": ""
            },
            "type": "choropleth"
           }
          ],
          "contour": [
           {
            "colorbar": {
             "outlinewidth": 0,
             "ticks": ""
            },
            "colorscale": [
             [
              0,
              "#0d0887"
             ],
             [
              0.1111111111111111,
              "#46039f"
             ],
             [
              0.2222222222222222,
              "#7201a8"
             ],
             [
              0.3333333333333333,
              "#9c179e"
             ],
             [
              0.4444444444444444,
              "#bd3786"
             ],
             [
              0.5555555555555556,
              "#d8576b"
             ],
             [
              0.6666666666666666,
              "#ed7953"
             ],
             [
              0.7777777777777778,
              "#fb9f3a"
             ],
             [
              0.8888888888888888,
              "#fdca26"
             ],
             [
              1,
              "#f0f921"
             ]
            ],
            "type": "contour"
           }
          ],
          "contourcarpet": [
           {
            "colorbar": {
             "outlinewidth": 0,
             "ticks": ""
            },
            "type": "contourcarpet"
           }
          ],
          "heatmap": [
           {
            "colorbar": {
             "outlinewidth": 0,
             "ticks": ""
            },
            "colorscale": [
             [
              0,
              "#0d0887"
             ],
             [
              0.1111111111111111,
              "#46039f"
             ],
             [
              0.2222222222222222,
              "#7201a8"
             ],
             [
              0.3333333333333333,
              "#9c179e"
             ],
             [
              0.4444444444444444,
              "#bd3786"
             ],
             [
              0.5555555555555556,
              "#d8576b"
             ],
             [
              0.6666666666666666,
              "#ed7953"
             ],
             [
              0.7777777777777778,
              "#fb9f3a"
             ],
             [
              0.8888888888888888,
              "#fdca26"
             ],
             [
              1,
              "#f0f921"
             ]
            ],
            "type": "heatmap"
           }
          ],
          "histogram": [
           {
            "marker": {
             "pattern": {
              "fillmode": "overlay",
              "size": 10,
              "solidity": 0.2
             }
            },
            "type": "histogram"
           }
          ],
          "histogram2d": [
           {
            "colorbar": {
             "outlinewidth": 0,
             "ticks": ""
            },
            "colorscale": [
             [
              0,
              "#0d0887"
             ],
             [
              0.1111111111111111,
              "#46039f"
             ],
             [
              0.2222222222222222,
              "#7201a8"
             ],
             [
              0.3333333333333333,
              "#9c179e"
             ],
             [
              0.4444444444444444,
              "#bd3786"
             ],
             [
              0.5555555555555556,
              "#d8576b"
             ],
             [
              0.6666666666666666,
              "#ed7953"
             ],
             [
              0.7777777777777778,
              "#fb9f3a"
             ],
             [
              0.8888888888888888,
              "#fdca26"
             ],
             [
              1,
              "#f0f921"
             ]
            ],
            "type": "histogram2d"
           }
          ],
          "histogram2dcontour": [
           {
            "colorbar": {
             "outlinewidth": 0,
             "ticks": ""
            },
            "colorscale": [
             [
              0,
              "#0d0887"
             ],
             [
              0.1111111111111111,
              "#46039f"
             ],
             [
              0.2222222222222222,
              "#7201a8"
             ],
             [
              0.3333333333333333,
              "#9c179e"
             ],
             [
              0.4444444444444444,
              "#bd3786"
             ],
             [
              0.5555555555555556,
              "#d8576b"
             ],
             [
              0.6666666666666666,
              "#ed7953"
             ],
             [
              0.7777777777777778,
              "#fb9f3a"
             ],
             [
              0.8888888888888888,
              "#fdca26"
             ],
             [
              1,
              "#f0f921"
             ]
            ],
            "type": "histogram2dcontour"
           }
          ],
          "mesh3d": [
           {
            "colorbar": {
             "outlinewidth": 0,
             "ticks": ""
            },
            "type": "mesh3d"
           }
          ],
          "parcoords": [
           {
            "line": {
             "colorbar": {
              "outlinewidth": 0,
              "ticks": ""
             }
            },
            "type": "parcoords"
           }
          ],
          "pie": [
           {
            "automargin": true,
            "type": "pie"
           }
          ],
          "scatter": [
           {
            "fillpattern": {
             "fillmode": "overlay",
             "size": 10,
             "solidity": 0.2
            },
            "type": "scatter"
           }
          ],
          "scatter3d": [
           {
            "line": {
             "colorbar": {
              "outlinewidth": 0,
              "ticks": ""
             }
            },
            "marker": {
             "colorbar": {
              "outlinewidth": 0,
              "ticks": ""
             }
            },
            "type": "scatter3d"
           }
          ],
          "scattercarpet": [
           {
            "marker": {
             "colorbar": {
              "outlinewidth": 0,
              "ticks": ""
             }
            },
            "type": "scattercarpet"
           }
          ],
          "scattergeo": [
           {
            "marker": {
             "colorbar": {
              "outlinewidth": 0,
              "ticks": ""
             }
            },
            "type": "scattergeo"
           }
          ],
          "scattergl": [
           {
            "marker": {
             "colorbar": {
              "outlinewidth": 0,
              "ticks": ""
             }
            },
            "type": "scattergl"
           }
          ],
          "scattermap": [
           {
            "marker": {
             "colorbar": {
              "outlinewidth": 0,
              "ticks": ""
             }
            },
            "type": "scattermap"
           }
          ],
          "scattermapbox": [
           {
            "marker": {
             "colorbar": {
              "outlinewidth": 0,
              "ticks": ""
             }
            },
            "type": "scattermapbox"
           }
          ],
          "scatterpolar": [
           {
            "marker": {
             "colorbar": {
              "outlinewidth": 0,
              "ticks": ""
             }
            },
            "type": "scatterpolar"
           }
          ],
          "scatterpolargl": [
           {
            "marker": {
             "colorbar": {
              "outlinewidth": 0,
              "ticks": ""
             }
            },
            "type": "scatterpolargl"
           }
          ],
          "scatterternary": [
           {
            "marker": {
             "colorbar": {
              "outlinewidth": 0,
              "ticks": ""
             }
            },
            "type": "scatterternary"
           }
          ],
          "surface": [
           {
            "colorbar": {
             "outlinewidth": 0,
             "ticks": ""
            },
            "colorscale": [
             [
              0,
              "#0d0887"
             ],
             [
              0.1111111111111111,
              "#46039f"
             ],
             [
              0.2222222222222222,
              "#7201a8"
             ],
             [
              0.3333333333333333,
              "#9c179e"
             ],
             [
              0.4444444444444444,
              "#bd3786"
             ],
             [
              0.5555555555555556,
              "#d8576b"
             ],
             [
              0.6666666666666666,
              "#ed7953"
             ],
             [
              0.7777777777777778,
              "#fb9f3a"
             ],
             [
              0.8888888888888888,
              "#fdca26"
             ],
             [
              1,
              "#f0f921"
             ]
            ],
            "type": "surface"
           }
          ],
          "table": [
           {
            "cells": {
             "fill": {
              "color": "#EBF0F8"
             },
             "line": {
              "color": "white"
             }
            },
            "header": {
             "fill": {
              "color": "#C8D4E3"
             },
             "line": {
              "color": "white"
             }
            },
            "type": "table"
           }
          ]
         },
         "layout": {
          "annotationdefaults": {
           "arrowcolor": "#2a3f5f",
           "arrowhead": 0,
           "arrowwidth": 1
          },
          "autotypenumbers": "strict",
          "coloraxis": {
           "colorbar": {
            "outlinewidth": 0,
            "ticks": ""
           }
          },
          "colorscale": {
           "diverging": [
            [
             0,
             "#8e0152"
            ],
            [
             0.1,
             "#c51b7d"
            ],
            [
             0.2,
             "#de77ae"
            ],
            [
             0.3,
             "#f1b6da"
            ],
            [
             0.4,
             "#fde0ef"
            ],
            [
             0.5,
             "#f7f7f7"
            ],
            [
             0.6,
             "#e6f5d0"
            ],
            [
             0.7,
             "#b8e186"
            ],
            [
             0.8,
             "#7fbc41"
            ],
            [
             0.9,
             "#4d9221"
            ],
            [
             1,
             "#276419"
            ]
           ],
           "sequential": [
            [
             0,
             "#0d0887"
            ],
            [
             0.1111111111111111,
             "#46039f"
            ],
            [
             0.2222222222222222,
             "#7201a8"
            ],
            [
             0.3333333333333333,
             "#9c179e"
            ],
            [
             0.4444444444444444,
             "#bd3786"
            ],
            [
             0.5555555555555556,
             "#d8576b"
            ],
            [
             0.6666666666666666,
             "#ed7953"
            ],
            [
             0.7777777777777778,
             "#fb9f3a"
            ],
            [
             0.8888888888888888,
             "#fdca26"
            ],
            [
             1,
             "#f0f921"
            ]
           ],
           "sequentialminus": [
            [
             0,
             "#0d0887"
            ],
            [
             0.1111111111111111,
             "#46039f"
            ],
            [
             0.2222222222222222,
             "#7201a8"
            ],
            [
             0.3333333333333333,
             "#9c179e"
            ],
            [
             0.4444444444444444,
             "#bd3786"
            ],
            [
             0.5555555555555556,
             "#d8576b"
            ],
            [
             0.6666666666666666,
             "#ed7953"
            ],
            [
             0.7777777777777778,
             "#fb9f3a"
            ],
            [
             0.8888888888888888,
             "#fdca26"
            ],
            [
             1,
             "#f0f921"
            ]
           ]
          },
          "colorway": [
           "#636efa",
           "#EF553B",
           "#00cc96",
           "#ab63fa",
           "#FFA15A",
           "#19d3f3",
           "#FF6692",
           "#B6E880",
           "#FF97FF",
           "#FECB52"
          ],
          "font": {
           "color": "#2a3f5f"
          },
          "geo": {
           "bgcolor": "white",
           "lakecolor": "white",
           "landcolor": "white",
           "showlakes": true,
           "showland": true,
           "subunitcolor": "#C8D4E3"
          },
          "hoverlabel": {
           "align": "left"
          },
          "hovermode": "closest",
          "mapbox": {
           "style": "light"
          },
          "paper_bgcolor": "white",
          "plot_bgcolor": "white",
          "polar": {
           "angularaxis": {
            "gridcolor": "#EBF0F8",
            "linecolor": "#EBF0F8",
            "ticks": ""
           },
           "bgcolor": "white",
           "radialaxis": {
            "gridcolor": "#EBF0F8",
            "linecolor": "#EBF0F8",
            "ticks": ""
           }
          },
          "scene": {
           "xaxis": {
            "backgroundcolor": "white",
            "gridcolor": "#DFE8F3",
            "gridwidth": 2,
            "linecolor": "#EBF0F8",
            "showbackground": true,
            "ticks": "",
            "zerolinecolor": "#EBF0F8"
           },
           "yaxis": {
            "backgroundcolor": "white",
            "gridcolor": "#DFE8F3",
            "gridwidth": 2,
            "linecolor": "#EBF0F8",
            "showbackground": true,
            "ticks": "",
            "zerolinecolor": "#EBF0F8"
           },
           "zaxis": {
            "backgroundcolor": "white",
            "gridcolor": "#DFE8F3",
            "gridwidth": 2,
            "linecolor": "#EBF0F8",
            "showbackground": true,
            "ticks": "",
            "zerolinecolor": "#EBF0F8"
           }
          },
          "shapedefaults": {
           "line": {
            "color": "#2a3f5f"
           }
          },
          "ternary": {
           "aaxis": {
            "gridcolor": "#DFE8F3",
            "linecolor": "#A2B1C6",
            "ticks": ""
           },
           "baxis": {
            "gridcolor": "#DFE8F3",
            "linecolor": "#A2B1C6",
            "ticks": ""
           },
           "bgcolor": "white",
           "caxis": {
            "gridcolor": "#DFE8F3",
            "linecolor": "#A2B1C6",
            "ticks": ""
           }
          },
          "title": {
           "x": 0.05
          },
          "xaxis": {
           "automargin": true,
           "gridcolor": "#EBF0F8",
           "linecolor": "#EBF0F8",
           "ticks": "",
           "title": {
            "standoff": 15
           },
           "zerolinecolor": "#EBF0F8",
           "zerolinewidth": 2
          },
          "yaxis": {
           "automargin": true,
           "gridcolor": "#EBF0F8",
           "linecolor": "#EBF0F8",
           "ticks": "",
           "title": {
            "standoff": 15
           },
           "zerolinecolor": "#EBF0F8",
           "zerolinewidth": 2
          }
         }
        },
        "title": {
         "text": "Distribution of z1000mem by Language"
        },
        "width": 1000,
        "xaxis": {
         "anchor": "y",
         "domain": [
          0,
          1
         ],
         "title": {
          "text": "Language"
         }
        },
        "yaxis": {
         "anchor": "x",
         "domain": [
          0,
          1
         ],
         "title": {
          "text": "z1000mem (Memory)"
         }
        }
       }
      }
     },
     "metadata": {},
     "output_type": "display_data"
    },
    {
     "data": {
      "application/vnd.plotly.v1+json": {
       "config": {
        "plotlyServerURL": "https://plot.ly"
       },
       "data": [
        {
         "alignmentgroup": "True",
         "bingroup": "x",
         "hovertemplate": "lang=c<br>z1000mem (Memory)=%{x}<br>count=%{y}<extra></extra>",
         "legendgroup": "c",
         "marker": {
          "color": "#636efa",
          "pattern": {
           "shape": ""
          }
         },
         "name": "c",
         "nbinsx": 30,
         "offsetgroup": "c",
         "orientation": "v",
         "showlegend": true,
         "type": "histogram",
         "x": {
          "bdata": "oFdIQrAsiAvgVw==",
          "dtype": "i2"
         },
         "xaxis": "x",
         "yaxis": "y"
        },
        {
         "alignmentgroup": "True",
         "bingroup": "x",
         "hovertemplate": "lang=c++<br>z1000mem (Memory)=%{x}<br>count=%{y}<extra></extra>",
         "legendgroup": "c++",
         "marker": {
          "color": "#EF553B",
          "pattern": {
           "shape": ""
          }
         },
         "name": "c++",
         "nbinsx": 30,
         "offsetgroup": "c++",
         "orientation": "v",
         "showlegend": true,
         "type": "histogram",
         "x": {
          "bdata": "KGDwGMAUmG+QDShb0BqYWHgNOBB4FA==",
          "dtype": "i2"
         },
         "xaxis": "x",
         "yaxis": "y"
        },
        {
         "alignmentgroup": "True",
         "bingroup": "x",
         "hovertemplate": "lang=java<br>z1000mem (Memory)=%{x}<br>count=%{y}<extra></extra>",
         "legendgroup": "java",
         "marker": {
          "color": "#00cc96",
          "pattern": {
           "shape": ""
          }
         },
         "name": "java",
         "nbinsx": 30,
         "offsetgroup": "java",
         "orientation": "v",
         "showlegend": true,
         "type": "histogram",
         "x": {
          "bdata": "4KMAAEBeAQDQ5gAAONwAACiNAABY1gAAqOIAAJjMAADQaQAAOFcAANiUAADAnQAA+HIAAOCVAAAQlwAAKMIAAIieAAAwzAAAuDYBANj+AADYmwAAoKIAACgUAQAAywAA",
          "dtype": "i4"
         },
         "xaxis": "x",
         "yaxis": "y"
        },
        {
         "alignmentgroup": "True",
         "bingroup": "x",
         "hovertemplate": "lang=perl<br>z1000mem (Memory)=%{x}<br>count=%{y}<extra></extra>",
         "legendgroup": "perl",
         "marker": {
          "color": "#ab63fa",
          "pattern": {
           "shape": ""
          }
         },
         "name": "perl",
         "nbinsx": 30,
         "offsetgroup": "perl",
         "orientation": "v",
         "showlegend": true,
         "type": "histogram",
         "x": {
          "bdata": "wEMAAOAeAQBAYwAAMHsAAEhEAABQQwAA6B4BAKBDAABQQwAASEMAAKhEAABgTwAAiFUAAA==",
          "dtype": "i4"
         },
         "xaxis": "x",
         "yaxis": "y"
        },
        {
         "alignmentgroup": "True",
         "bingroup": "x",
         "hovertemplate": "lang=python<br>z1000mem (Memory)=%{x}<br>count=%{y}<extra></extra>",
         "legendgroup": "python",
         "marker": {
          "color": "#FFA15A",
          "pattern": {
           "shape": ""
          }
         },
         "name": "python",
         "nbinsx": 30,
         "offsetgroup": "python",
         "orientation": "v",
         "showlegend": true,
         "type": "histogram",
         "x": {
          "bdata": "UFgAAHhFAABgNQAAQDUAALhDAACoQwAA0DsAAJg+AAAoOQAASEQAAPBjAQDgNgAAsDYAAA==",
          "dtype": "i4"
         },
         "xaxis": "x",
         "yaxis": "y"
        },
        {
         "alignmentgroup": "True",
         "bingroup": "x",
         "hovertemplate": "lang=rexx<br>z1000mem (Memory)=%{x}<br>count=%{y}<extra></extra>",
         "legendgroup": "rexx",
         "marker": {
          "color": "#19d3f3",
          "pattern": {
           "shape": ""
          }
         },
         "name": "rexx",
         "nbinsx": 30,
         "offsetgroup": "rexx",
         "orientation": "v",
         "showlegend": true,
         "type": "histogram",
         "x": {
          "bdata": "CCOgUphSWCM=",
          "dtype": "i2"
         },
         "xaxis": "x",
         "yaxis": "y"
        },
        {
         "alignmentgroup": "True",
         "bingroup": "x",
         "hovertemplate": "lang=tcl<br>z1000mem (Memory)=%{x}<br>count=%{y}<extra></extra>",
         "legendgroup": "tcl",
         "marker": {
          "color": "#FF6692",
          "pattern": {
           "shape": ""
          }
         },
         "name": "tcl",
         "nbinsx": 30,
         "offsetgroup": "tcl",
         "orientation": "v",
         "showlegend": true,
         "type": "histogram",
         "x": {
          "bdata": "kH4AAFhyAADQcAAA+K0AAPBmAAAIRQAAyL4AAJhaAABITwAAyFMAAA==",
          "dtype": "i4"
         },
         "xaxis": "x",
         "yaxis": "y"
        }
       ],
       "layout": {
        "annotations": [
         {
          "showarrow": false,
          "text": "Upper: 75240",
          "x": 75240,
          "xanchor": "left",
          "xref": "x",
          "y": 1,
          "yanchor": "top",
          "yref": "y domain"
         },
         {
          "showarrow": false,
          "text": "Lower: -17576",
          "x": -17576,
          "xanchor": "left",
          "xref": "x",
          "y": 1,
          "yanchor": "top",
          "yref": "y domain"
         }
        ],
        "barmode": "group",
        "height": 600,
        "legend": {
         "title": {
          "text": "lang"
         },
         "tracegroupgap": 0
        },
        "shapes": [
         {
          "line": {
           "color": "red",
           "dash": "dash"
          },
          "type": "line",
          "x0": 75240,
          "x1": 75240,
          "xref": "x",
          "y0": 0,
          "y1": 1,
          "yref": "y domain"
         },
         {
          "line": {
           "color": "red",
           "dash": "dash"
          },
          "type": "line",
          "x0": -17576,
          "x1": -17576,
          "xref": "x",
          "y0": 0,
          "y1": 1,
          "yref": "y domain"
         }
        ],
        "template": {
         "data": {
          "bar": [
           {
            "error_x": {
             "color": "#2a3f5f"
            },
            "error_y": {
             "color": "#2a3f5f"
            },
            "marker": {
             "line": {
              "color": "white",
              "width": 0.5
             },
             "pattern": {
              "fillmode": "overlay",
              "size": 10,
              "solidity": 0.2
             }
            },
            "type": "bar"
           }
          ],
          "barpolar": [
           {
            "marker": {
             "line": {
              "color": "white",
              "width": 0.5
             },
             "pattern": {
              "fillmode": "overlay",
              "size": 10,
              "solidity": 0.2
             }
            },
            "type": "barpolar"
           }
          ],
          "carpet": [
           {
            "aaxis": {
             "endlinecolor": "#2a3f5f",
             "gridcolor": "#C8D4E3",
             "linecolor": "#C8D4E3",
             "minorgridcolor": "#C8D4E3",
             "startlinecolor": "#2a3f5f"
            },
            "baxis": {
             "endlinecolor": "#2a3f5f",
             "gridcolor": "#C8D4E3",
             "linecolor": "#C8D4E3",
             "minorgridcolor": "#C8D4E3",
             "startlinecolor": "#2a3f5f"
            },
            "type": "carpet"
           }
          ],
          "choropleth": [
           {
            "colorbar": {
             "outlinewidth": 0,
             "ticks": ""
            },
            "type": "choropleth"
           }
          ],
          "contour": [
           {
            "colorbar": {
             "outlinewidth": 0,
             "ticks": ""
            },
            "colorscale": [
             [
              0,
              "#0d0887"
             ],
             [
              0.1111111111111111,
              "#46039f"
             ],
             [
              0.2222222222222222,
              "#7201a8"
             ],
             [
              0.3333333333333333,
              "#9c179e"
             ],
             [
              0.4444444444444444,
              "#bd3786"
             ],
             [
              0.5555555555555556,
              "#d8576b"
             ],
             [
              0.6666666666666666,
              "#ed7953"
             ],
             [
              0.7777777777777778,
              "#fb9f3a"
             ],
             [
              0.8888888888888888,
              "#fdca26"
             ],
             [
              1,
              "#f0f921"
             ]
            ],
            "type": "contour"
           }
          ],
          "contourcarpet": [
           {
            "colorbar": {
             "outlinewidth": 0,
             "ticks": ""
            },
            "type": "contourcarpet"
           }
          ],
          "heatmap": [
           {
            "colorbar": {
             "outlinewidth": 0,
             "ticks": ""
            },
            "colorscale": [
             [
              0,
              "#0d0887"
             ],
             [
              0.1111111111111111,
              "#46039f"
             ],
             [
              0.2222222222222222,
              "#7201a8"
             ],
             [
              0.3333333333333333,
              "#9c179e"
             ],
             [
              0.4444444444444444,
              "#bd3786"
             ],
             [
              0.5555555555555556,
              "#d8576b"
             ],
             [
              0.6666666666666666,
              "#ed7953"
             ],
             [
              0.7777777777777778,
              "#fb9f3a"
             ],
             [
              0.8888888888888888,
              "#fdca26"
             ],
             [
              1,
              "#f0f921"
             ]
            ],
            "type": "heatmap"
           }
          ],
          "histogram": [
           {
            "marker": {
             "pattern": {
              "fillmode": "overlay",
              "size": 10,
              "solidity": 0.2
             }
            },
            "type": "histogram"
           }
          ],
          "histogram2d": [
           {
            "colorbar": {
             "outlinewidth": 0,
             "ticks": ""
            },
            "colorscale": [
             [
              0,
              "#0d0887"
             ],
             [
              0.1111111111111111,
              "#46039f"
             ],
             [
              0.2222222222222222,
              "#7201a8"
             ],
             [
              0.3333333333333333,
              "#9c179e"
             ],
             [
              0.4444444444444444,
              "#bd3786"
             ],
             [
              0.5555555555555556,
              "#d8576b"
             ],
             [
              0.6666666666666666,
              "#ed7953"
             ],
             [
              0.7777777777777778,
              "#fb9f3a"
             ],
             [
              0.8888888888888888,
              "#fdca26"
             ],
             [
              1,
              "#f0f921"
             ]
            ],
            "type": "histogram2d"
           }
          ],
          "histogram2dcontour": [
           {
            "colorbar": {
             "outlinewidth": 0,
             "ticks": ""
            },
            "colorscale": [
             [
              0,
              "#0d0887"
             ],
             [
              0.1111111111111111,
              "#46039f"
             ],
             [
              0.2222222222222222,
              "#7201a8"
             ],
             [
              0.3333333333333333,
              "#9c179e"
             ],
             [
              0.4444444444444444,
              "#bd3786"
             ],
             [
              0.5555555555555556,
              "#d8576b"
             ],
             [
              0.6666666666666666,
              "#ed7953"
             ],
             [
              0.7777777777777778,
              "#fb9f3a"
             ],
             [
              0.8888888888888888,
              "#fdca26"
             ],
             [
              1,
              "#f0f921"
             ]
            ],
            "type": "histogram2dcontour"
           }
          ],
          "mesh3d": [
           {
            "colorbar": {
             "outlinewidth": 0,
             "ticks": ""
            },
            "type": "mesh3d"
           }
          ],
          "parcoords": [
           {
            "line": {
             "colorbar": {
              "outlinewidth": 0,
              "ticks": ""
             }
            },
            "type": "parcoords"
           }
          ],
          "pie": [
           {
            "automargin": true,
            "type": "pie"
           }
          ],
          "scatter": [
           {
            "fillpattern": {
             "fillmode": "overlay",
             "size": 10,
             "solidity": 0.2
            },
            "type": "scatter"
           }
          ],
          "scatter3d": [
           {
            "line": {
             "colorbar": {
              "outlinewidth": 0,
              "ticks": ""
             }
            },
            "marker": {
             "colorbar": {
              "outlinewidth": 0,
              "ticks": ""
             }
            },
            "type": "scatter3d"
           }
          ],
          "scattercarpet": [
           {
            "marker": {
             "colorbar": {
              "outlinewidth": 0,
              "ticks": ""
             }
            },
            "type": "scattercarpet"
           }
          ],
          "scattergeo": [
           {
            "marker": {
             "colorbar": {
              "outlinewidth": 0,
              "ticks": ""
             }
            },
            "type": "scattergeo"
           }
          ],
          "scattergl": [
           {
            "marker": {
             "colorbar": {
              "outlinewidth": 0,
              "ticks": ""
             }
            },
            "type": "scattergl"
           }
          ],
          "scattermap": [
           {
            "marker": {
             "colorbar": {
              "outlinewidth": 0,
              "ticks": ""
             }
            },
            "type": "scattermap"
           }
          ],
          "scattermapbox": [
           {
            "marker": {
             "colorbar": {
              "outlinewidth": 0,
              "ticks": ""
             }
            },
            "type": "scattermapbox"
           }
          ],
          "scatterpolar": [
           {
            "marker": {
             "colorbar": {
              "outlinewidth": 0,
              "ticks": ""
             }
            },
            "type": "scatterpolar"
           }
          ],
          "scatterpolargl": [
           {
            "marker": {
             "colorbar": {
              "outlinewidth": 0,
              "ticks": ""
             }
            },
            "type": "scatterpolargl"
           }
          ],
          "scatterternary": [
           {
            "marker": {
             "colorbar": {
              "outlinewidth": 0,
              "ticks": ""
             }
            },
            "type": "scatterternary"
           }
          ],
          "surface": [
           {
            "colorbar": {
             "outlinewidth": 0,
             "ticks": ""
            },
            "colorscale": [
             [
              0,
              "#0d0887"
             ],
             [
              0.1111111111111111,
              "#46039f"
             ],
             [
              0.2222222222222222,
              "#7201a8"
             ],
             [
              0.3333333333333333,
              "#9c179e"
             ],
             [
              0.4444444444444444,
              "#bd3786"
             ],
             [
              0.5555555555555556,
              "#d8576b"
             ],
             [
              0.6666666666666666,
              "#ed7953"
             ],
             [
              0.7777777777777778,
              "#fb9f3a"
             ],
             [
              0.8888888888888888,
              "#fdca26"
             ],
             [
              1,
              "#f0f921"
             ]
            ],
            "type": "surface"
           }
          ],
          "table": [
           {
            "cells": {
             "fill": {
              "color": "#EBF0F8"
             },
             "line": {
              "color": "white"
             }
            },
            "header": {
             "fill": {
              "color": "#C8D4E3"
             },
             "line": {
              "color": "white"
             }
            },
            "type": "table"
           }
          ]
         },
         "layout": {
          "annotationdefaults": {
           "arrowcolor": "#2a3f5f",
           "arrowhead": 0,
           "arrowwidth": 1
          },
          "autotypenumbers": "strict",
          "coloraxis": {
           "colorbar": {
            "outlinewidth": 0,
            "ticks": ""
           }
          },
          "colorscale": {
           "diverging": [
            [
             0,
             "#8e0152"
            ],
            [
             0.1,
             "#c51b7d"
            ],
            [
             0.2,
             "#de77ae"
            ],
            [
             0.3,
             "#f1b6da"
            ],
            [
             0.4,
             "#fde0ef"
            ],
            [
             0.5,
             "#f7f7f7"
            ],
            [
             0.6,
             "#e6f5d0"
            ],
            [
             0.7,
             "#b8e186"
            ],
            [
             0.8,
             "#7fbc41"
            ],
            [
             0.9,
             "#4d9221"
            ],
            [
             1,
             "#276419"
            ]
           ],
           "sequential": [
            [
             0,
             "#0d0887"
            ],
            [
             0.1111111111111111,
             "#46039f"
            ],
            [
             0.2222222222222222,
             "#7201a8"
            ],
            [
             0.3333333333333333,
             "#9c179e"
            ],
            [
             0.4444444444444444,
             "#bd3786"
            ],
            [
             0.5555555555555556,
             "#d8576b"
            ],
            [
             0.6666666666666666,
             "#ed7953"
            ],
            [
             0.7777777777777778,
             "#fb9f3a"
            ],
            [
             0.8888888888888888,
             "#fdca26"
            ],
            [
             1,
             "#f0f921"
            ]
           ],
           "sequentialminus": [
            [
             0,
             "#0d0887"
            ],
            [
             0.1111111111111111,
             "#46039f"
            ],
            [
             0.2222222222222222,
             "#7201a8"
            ],
            [
             0.3333333333333333,
             "#9c179e"
            ],
            [
             0.4444444444444444,
             "#bd3786"
            ],
            [
             0.5555555555555556,
             "#d8576b"
            ],
            [
             0.6666666666666666,
             "#ed7953"
            ],
            [
             0.7777777777777778,
             "#fb9f3a"
            ],
            [
             0.8888888888888888,
             "#fdca26"
            ],
            [
             1,
             "#f0f921"
            ]
           ]
          },
          "colorway": [
           "#636efa",
           "#EF553B",
           "#00cc96",
           "#ab63fa",
           "#FFA15A",
           "#19d3f3",
           "#FF6692",
           "#B6E880",
           "#FF97FF",
           "#FECB52"
          ],
          "font": {
           "color": "#2a3f5f"
          },
          "geo": {
           "bgcolor": "white",
           "lakecolor": "white",
           "landcolor": "white",
           "showlakes": true,
           "showland": true,
           "subunitcolor": "#C8D4E3"
          },
          "hoverlabel": {
           "align": "left"
          },
          "hovermode": "closest",
          "mapbox": {
           "style": "light"
          },
          "paper_bgcolor": "white",
          "plot_bgcolor": "white",
          "polar": {
           "angularaxis": {
            "gridcolor": "#EBF0F8",
            "linecolor": "#EBF0F8",
            "ticks": ""
           },
           "bgcolor": "white",
           "radialaxis": {
            "gridcolor": "#EBF0F8",
            "linecolor": "#EBF0F8",
            "ticks": ""
           }
          },
          "scene": {
           "xaxis": {
            "backgroundcolor": "white",
            "gridcolor": "#DFE8F3",
            "gridwidth": 2,
            "linecolor": "#EBF0F8",
            "showbackground": true,
            "ticks": "",
            "zerolinecolor": "#EBF0F8"
           },
           "yaxis": {
            "backgroundcolor": "white",
            "gridcolor": "#DFE8F3",
            "gridwidth": 2,
            "linecolor": "#EBF0F8",
            "showbackground": true,
            "ticks": "",
            "zerolinecolor": "#EBF0F8"
           },
           "zaxis": {
            "backgroundcolor": "white",
            "gridcolor": "#DFE8F3",
            "gridwidth": 2,
            "linecolor": "#EBF0F8",
            "showbackground": true,
            "ticks": "",
            "zerolinecolor": "#EBF0F8"
           }
          },
          "shapedefaults": {
           "line": {
            "color": "#2a3f5f"
           }
          },
          "ternary": {
           "aaxis": {
            "gridcolor": "#DFE8F3",
            "linecolor": "#A2B1C6",
            "ticks": ""
           },
           "baxis": {
            "gridcolor": "#DFE8F3",
            "linecolor": "#A2B1C6",
            "ticks": ""
           },
           "bgcolor": "white",
           "caxis": {
            "gridcolor": "#DFE8F3",
            "linecolor": "#A2B1C6",
            "ticks": ""
           }
          },
          "title": {
           "x": 0.05
          },
          "xaxis": {
           "automargin": true,
           "gridcolor": "#EBF0F8",
           "linecolor": "#EBF0F8",
           "ticks": "",
           "title": {
            "standoff": 15
           },
           "zerolinecolor": "#EBF0F8",
           "zerolinewidth": 2
          },
          "yaxis": {
           "automargin": true,
           "gridcolor": "#EBF0F8",
           "linecolor": "#EBF0F8",
           "ticks": "",
           "title": {
            "standoff": 15
           },
           "zerolinecolor": "#EBF0F8",
           "zerolinewidth": 2
          }
         }
        },
        "title": {
         "text": "Histogram of z1000mem with Outlier Bounds"
        },
        "width": 1000,
        "xaxis": {
         "anchor": "y",
         "domain": [
          0,
          1
         ],
         "title": {
          "text": "z1000mem (Memory)"
         }
        },
        "yaxis": {
         "anchor": "x",
         "domain": [
          0,
          1
         ],
         "title": {
          "text": "count"
         }
        }
       }
      }
     },
     "metadata": {},
     "output_type": "display_data"
    },
    {
     "data": {
      "application/vnd.plotly.v1+json": {
       "config": {
        "plotlyServerURL": "https://plot.ly"
       },
       "data": [
        {
         "customdata": [
          [
           "s018",
           "c"
          ],
          [
           "s066",
           "c"
          ],
          [
           "s078",
           "c"
          ],
          [
           "s015",
           "c++"
          ],
          [
           "s020",
           "c++"
          ],
          [
           "s021",
           "c++"
          ],
          [
           "s025",
           "c++"
          ],
          [
           "s027",
           "c++"
          ],
          [
           "s033",
           "c++"
          ],
          [
           "s042",
           "c++"
          ],
          [
           "s051",
           "c++"
          ],
          [
           "s090",
           "c++"
          ],
          [
           "s096",
           "c++"
          ],
          [
           "s017",
           "java"
          ],
          [
           "s023",
           "java"
          ],
          [
           "s037",
           "java"
          ],
          [
           "s040",
           "java"
          ],
          [
           "s043",
           "java"
          ],
          [
           "s050",
           "java"
          ],
          [
           "s053",
           "java"
          ],
          [
           "s054",
           "java"
          ],
          [
           "s056",
           "java"
          ],
          [
           "s057",
           "java"
          ],
          [
           "s059",
           "java"
          ],
          [
           "s060",
           "java"
          ],
          [
           "s063",
           "java"
          ],
          [
           "s065",
           "java"
          ],
          [
           "s081",
           "java"
          ],
          [
           "s084",
           "java"
          ],
          [
           "s087",
           "java"
          ],
          [
           "s099",
           "java"
          ],
          [
           "s102",
           "java"
          ],
          [
           "s149101",
           "perl"
          ],
          [
           "s149103",
           "perl"
          ],
          [
           "s149105",
           "perl"
          ],
          [
           "s149107",
           "perl"
          ],
          [
           "s149108",
           "perl"
          ],
          [
           "s149109",
           "perl"
          ],
          [
           "s149110",
           "perl"
          ],
          [
           "s149111",
           "perl"
          ],
          [
           "s149112",
           "perl"
          ],
          [
           "s149114",
           "perl"
          ],
          [
           "s149201",
           "python"
          ],
          [
           "s149202",
           "python"
          ],
          [
           "s149203",
           "python"
          ],
          [
           "s149204",
           "python"
          ],
          [
           "s149205",
           "python"
          ],
          [
           "s149206",
           "python"
          ],
          [
           "s149207",
           "python"
          ],
          [
           "s149208",
           "python"
          ],
          [
           "s149210",
           "python"
          ],
          [
           "s149212",
           "python"
          ],
          [
           "s149213",
           "python"
          ],
          [
           "s149301",
           "rexx"
          ],
          [
           "s149402",
           "tcl"
          ],
          [
           "s149403",
           "tcl"
          ],
          [
           "s149405",
           "tcl"
          ],
          [
           "s149406",
           "tcl"
          ],
          [
           "s149407",
           "tcl"
          ],
          [
           "s149409",
           "tcl"
          ],
          [
           "s149411",
           "tcl"
          ]
         ],
         "hovertemplate": "is_outlier_str=Normal<br>z1000t=%{x}<br>z1000rel=%{y}<br>person=%{customdata[0]}<br>lang=%{customdata[1]}<extra></extra>",
         "legendgroup": "Normal",
         "marker": {
          "color": "blue",
          "size": 10,
          "symbol": "circle"
         },
         "mode": "markers",
         "name": "Normal",
         "orientation": "v",
         "showlegend": true,
         "type": "scatter",
         "x": {
          "bdata": "nMQgsHJokT8AAAAAAADoP5qZmZmZmak/mpmZmZmZqT/ufD81Xrr/PyuHFtnOdxNAc2iR7Xw/tT+6SQwCK4f4P0w3iUFg5aA/TDeJQWDloD8zMzMzMzPDP3npJjEIrPo/8tJNYhBY7T+oxks3iUHkP6rx0k1iEAVA6SYxCKwc0j99PzVeuknUP5qZmZmZmQFAmpmZmZmZyT9KDAIrhxbRPzMzMzMzM/s/ZmZmZmZm1j8X2c73U+PdP5qZmZmZmRBA3SQGgZVDDkCHFtnO91P1P0a28/3UePc/mpmZmZmZyT8zMzMzMzPDP0oMAiuHFtE/SgwCK4cW0T/HSzeJQWDFP0oMAiuHFtE/c2iR7Xw/tT+amZmZmZnJP2ZmZmZmZtY/tvP91Hjp3j/HSzeJQWDFP5qZmZmZmck/SgwCK4cW0T8AAAAAAADQPx1aZDvfT9U/zczMzMzM5D+HFtnO91P5PwaBlUOLbMc/wcqhRbbzvT9zaJHtfD+1P8HKoUW2870/oBov3SQGwT/NzMzMzMzcPwAAAAAAANA/WDm0yHa+4z/b+X5qvHTnP76fGi/dJOo/vp8aL90k4j9YObTIdr7jP4ts5/up8e4/zczMzMzM5D91kxgEVg7pP0Jg5dAi2+U/F9nO91Pj3T8=",
          "dtype": "f8"
         },
         "xaxis": "x",
         "y": {
          "bdata": "ZmZmZmaGWEAfhetRuJ5YQI/C9Shcz1hAj8L1KFzPWEAfhetRuJ5YQAAAAAAAAFlAj8L1KFzPWED2KFyPwoVYQI/C9Shcz1hAAAAAAAAAWUAAAAAAAABZQB+F61G4nlhAAAAAAAAAWUAAAAAAAABZQGZmZmZmZh5AAAAAAAAAWUAAAAAAAABZQGZmZmZmtlhAAAAAAAAAWUBI4XoUrudYQAAAAAAAAFlAAAAAAAAAWUAAAAAAAABZQAAAAAAAAFlAZmZmZma2WEAAAAAAAABZQAAAAAAAAFlAAAAAAAAAWUAAAAAAAABZQAAAAAAAAFlAAAAAAAAAWUAK16NwPQrHP4/C9Shcz1hAAAAAAAAAWUAAAAAAAABZQAAAAAAAAFlAAAAAAAAAWUAAAAAAAABZQI/C9Shcz1hAAAAAAAAAWUAAAAAAAABZQI/C9Shcz1hAj8L1KFzPWECPwvUoXM9YQAAAAAAAAFlAAAAAAAAAWUAAAAAAAABZQAAAAAAAAFlAAAAAAAAAWUCPwvUoXM9YQAAAAAAAAFlAj8L1KFzPWECPwvUoXM9YQAAAAAAAAFlAAAAAAAAAWUAAAAAAAABZQAAAAAAAAFlAAAAAAAAAWUAAAAAAAABZQAAAAAAAAFlAAAAAAAAAWUA=",
          "dtype": "f8"
         },
         "yaxis": "y"
        },
        {
         "customdata": [
          [
           "s036",
           "c"
          ],
          [
           "s034",
           "c++"
          ],
          [
           "s047",
           "java"
          ],
          [
           "s062",
           "java"
          ],
          [
           "s068",
           "java"
          ],
          [
           "s072",
           "java"
          ],
          [
           "s093",
           "java"
          ],
          [
           "s149102",
           "perl"
          ],
          [
           "s149113",
           "perl"
          ],
          [
           "s149209",
           "python"
          ],
          [
           "s149302",
           "rexx"
          ],
          [
           "s149303",
           "rexx"
          ],
          [
           "s149408",
           "tcl"
          ],
          [
           "s149410",
           "tcl"
          ]
         ],
         "hovertemplate": "is_outlier_str=Outlier<br>z1000t=%{x}<br>z1000rel=%{y}<br>person=%{customdata[0]}<br>lang=%{customdata[1]}<extra></extra>",
         "legendgroup": "Outlier",
         "marker": {
          "color": "red",
          "size": 10,
          "symbol": "circle"
         },
         "mode": "markers",
         "name": "Outlier",
         "orientation": "v",
         "showlegend": true,
         "type": "scatter",
         "x": {
          "bdata": "ZmZmZmbmNEBmZmZmZmY1QJHtfD813hlAzczMzMzMMEAzMzMzMzM/QJqZmZmZGT5AzczMzMyMQkBmZmZmZmY1QAAAAAAA4FBAMzMzMzMTUkBmZmZmZmY5QAAAAAAAADVAmpmZmZlZaUBmZmZmZmY9QA==",
          "dtype": "f8"
         },
         "xaxis": "x",
         "y": {
          "bdata": "AAAAAAAAAAAAAAAAAAAAAAAAAAAAAFlAAAAAAAAAWUAAAAAAAABZQAAAAAAAAFlAAAAAAAAAWUAAAAAAAAAAAAAAAAAAAFlAAAAAAAAAWUAAAAAAAGBGQEjhehSu51hAAAAAAAAAWUAAAAAAAABZQA==",
          "dtype": "f8"
         },
         "yaxis": "y"
        }
       ],
       "layout": {
        "height": 600,
        "legend": {
         "title": {
          "text": "is_outlier_str"
         },
         "tracegroupgap": 0
        },
        "template": {
         "data": {
          "bar": [
           {
            "error_x": {
             "color": "#2a3f5f"
            },
            "error_y": {
             "color": "#2a3f5f"
            },
            "marker": {
             "line": {
              "color": "white",
              "width": 0.5
             },
             "pattern": {
              "fillmode": "overlay",
              "size": 10,
              "solidity": 0.2
             }
            },
            "type": "bar"
           }
          ],
          "barpolar": [
           {
            "marker": {
             "line": {
              "color": "white",
              "width": 0.5
             },
             "pattern": {
              "fillmode": "overlay",
              "size": 10,
              "solidity": 0.2
             }
            },
            "type": "barpolar"
           }
          ],
          "carpet": [
           {
            "aaxis": {
             "endlinecolor": "#2a3f5f",
             "gridcolor": "#C8D4E3",
             "linecolor": "#C8D4E3",
             "minorgridcolor": "#C8D4E3",
             "startlinecolor": "#2a3f5f"
            },
            "baxis": {
             "endlinecolor": "#2a3f5f",
             "gridcolor": "#C8D4E3",
             "linecolor": "#C8D4E3",
             "minorgridcolor": "#C8D4E3",
             "startlinecolor": "#2a3f5f"
            },
            "type": "carpet"
           }
          ],
          "choropleth": [
           {
            "colorbar": {
             "outlinewidth": 0,
             "ticks": ""
            },
            "type": "choropleth"
           }
          ],
          "contour": [
           {
            "colorbar": {
             "outlinewidth": 0,
             "ticks": ""
            },
            "colorscale": [
             [
              0,
              "#0d0887"
             ],
             [
              0.1111111111111111,
              "#46039f"
             ],
             [
              0.2222222222222222,
              "#7201a8"
             ],
             [
              0.3333333333333333,
              "#9c179e"
             ],
             [
              0.4444444444444444,
              "#bd3786"
             ],
             [
              0.5555555555555556,
              "#d8576b"
             ],
             [
              0.6666666666666666,
              "#ed7953"
             ],
             [
              0.7777777777777778,
              "#fb9f3a"
             ],
             [
              0.8888888888888888,
              "#fdca26"
             ],
             [
              1,
              "#f0f921"
             ]
            ],
            "type": "contour"
           }
          ],
          "contourcarpet": [
           {
            "colorbar": {
             "outlinewidth": 0,
             "ticks": ""
            },
            "type": "contourcarpet"
           }
          ],
          "heatmap": [
           {
            "colorbar": {
             "outlinewidth": 0,
             "ticks": ""
            },
            "colorscale": [
             [
              0,
              "#0d0887"
             ],
             [
              0.1111111111111111,
              "#46039f"
             ],
             [
              0.2222222222222222,
              "#7201a8"
             ],
             [
              0.3333333333333333,
              "#9c179e"
             ],
             [
              0.4444444444444444,
              "#bd3786"
             ],
             [
              0.5555555555555556,
              "#d8576b"
             ],
             [
              0.6666666666666666,
              "#ed7953"
             ],
             [
              0.7777777777777778,
              "#fb9f3a"
             ],
             [
              0.8888888888888888,
              "#fdca26"
             ],
             [
              1,
              "#f0f921"
             ]
            ],
            "type": "heatmap"
           }
          ],
          "histogram": [
           {
            "marker": {
             "pattern": {
              "fillmode": "overlay",
              "size": 10,
              "solidity": 0.2
             }
            },
            "type": "histogram"
           }
          ],
          "histogram2d": [
           {
            "colorbar": {
             "outlinewidth": 0,
             "ticks": ""
            },
            "colorscale": [
             [
              0,
              "#0d0887"
             ],
             [
              0.1111111111111111,
              "#46039f"
             ],
             [
              0.2222222222222222,
              "#7201a8"
             ],
             [
              0.3333333333333333,
              "#9c179e"
             ],
             [
              0.4444444444444444,
              "#bd3786"
             ],
             [
              0.5555555555555556,
              "#d8576b"
             ],
             [
              0.6666666666666666,
              "#ed7953"
             ],
             [
              0.7777777777777778,
              "#fb9f3a"
             ],
             [
              0.8888888888888888,
              "#fdca26"
             ],
             [
              1,
              "#f0f921"
             ]
            ],
            "type": "histogram2d"
           }
          ],
          "histogram2dcontour": [
           {
            "colorbar": {
             "outlinewidth": 0,
             "ticks": ""
            },
            "colorscale": [
             [
              0,
              "#0d0887"
             ],
             [
              0.1111111111111111,
              "#46039f"
             ],
             [
              0.2222222222222222,
              "#7201a8"
             ],
             [
              0.3333333333333333,
              "#9c179e"
             ],
             [
              0.4444444444444444,
              "#bd3786"
             ],
             [
              0.5555555555555556,
              "#d8576b"
             ],
             [
              0.6666666666666666,
              "#ed7953"
             ],
             [
              0.7777777777777778,
              "#fb9f3a"
             ],
             [
              0.8888888888888888,
              "#fdca26"
             ],
             [
              1,
              "#f0f921"
             ]
            ],
            "type": "histogram2dcontour"
           }
          ],
          "mesh3d": [
           {
            "colorbar": {
             "outlinewidth": 0,
             "ticks": ""
            },
            "type": "mesh3d"
           }
          ],
          "parcoords": [
           {
            "line": {
             "colorbar": {
              "outlinewidth": 0,
              "ticks": ""
             }
            },
            "type": "parcoords"
           }
          ],
          "pie": [
           {
            "automargin": true,
            "type": "pie"
           }
          ],
          "scatter": [
           {
            "fillpattern": {
             "fillmode": "overlay",
             "size": 10,
             "solidity": 0.2
            },
            "type": "scatter"
           }
          ],
          "scatter3d": [
           {
            "line": {
             "colorbar": {
              "outlinewidth": 0,
              "ticks": ""
             }
            },
            "marker": {
             "colorbar": {
              "outlinewidth": 0,
              "ticks": ""
             }
            },
            "type": "scatter3d"
           }
          ],
          "scattercarpet": [
           {
            "marker": {
             "colorbar": {
              "outlinewidth": 0,
              "ticks": ""
             }
            },
            "type": "scattercarpet"
           }
          ],
          "scattergeo": [
           {
            "marker": {
             "colorbar": {
              "outlinewidth": 0,
              "ticks": ""
             }
            },
            "type": "scattergeo"
           }
          ],
          "scattergl": [
           {
            "marker": {
             "colorbar": {
              "outlinewidth": 0,
              "ticks": ""
             }
            },
            "type": "scattergl"
           }
          ],
          "scattermap": [
           {
            "marker": {
             "colorbar": {
              "outlinewidth": 0,
              "ticks": ""
             }
            },
            "type": "scattermap"
           }
          ],
          "scattermapbox": [
           {
            "marker": {
             "colorbar": {
              "outlinewidth": 0,
              "ticks": ""
             }
            },
            "type": "scattermapbox"
           }
          ],
          "scatterpolar": [
           {
            "marker": {
             "colorbar": {
              "outlinewidth": 0,
              "ticks": ""
             }
            },
            "type": "scatterpolar"
           }
          ],
          "scatterpolargl": [
           {
            "marker": {
             "colorbar": {
              "outlinewidth": 0,
              "ticks": ""
             }
            },
            "type": "scatterpolargl"
           }
          ],
          "scatterternary": [
           {
            "marker": {
             "colorbar": {
              "outlinewidth": 0,
              "ticks": ""
             }
            },
            "type": "scatterternary"
           }
          ],
          "surface": [
           {
            "colorbar": {
             "outlinewidth": 0,
             "ticks": ""
            },
            "colorscale": [
             [
              0,
              "#0d0887"
             ],
             [
              0.1111111111111111,
              "#46039f"
             ],
             [
              0.2222222222222222,
              "#7201a8"
             ],
             [
              0.3333333333333333,
              "#9c179e"
             ],
             [
              0.4444444444444444,
              "#bd3786"
             ],
             [
              0.5555555555555556,
              "#d8576b"
             ],
             [
              0.6666666666666666,
              "#ed7953"
             ],
             [
              0.7777777777777778,
              "#fb9f3a"
             ],
             [
              0.8888888888888888,
              "#fdca26"
             ],
             [
              1,
              "#f0f921"
             ]
            ],
            "type": "surface"
           }
          ],
          "table": [
           {
            "cells": {
             "fill": {
              "color": "#EBF0F8"
             },
             "line": {
              "color": "white"
             }
            },
            "header": {
             "fill": {
              "color": "#C8D4E3"
             },
             "line": {
              "color": "white"
             }
            },
            "type": "table"
           }
          ]
         },
         "layout": {
          "annotationdefaults": {
           "arrowcolor": "#2a3f5f",
           "arrowhead": 0,
           "arrowwidth": 1
          },
          "autotypenumbers": "strict",
          "coloraxis": {
           "colorbar": {
            "outlinewidth": 0,
            "ticks": ""
           }
          },
          "colorscale": {
           "diverging": [
            [
             0,
             "#8e0152"
            ],
            [
             0.1,
             "#c51b7d"
            ],
            [
             0.2,
             "#de77ae"
            ],
            [
             0.3,
             "#f1b6da"
            ],
            [
             0.4,
             "#fde0ef"
            ],
            [
             0.5,
             "#f7f7f7"
            ],
            [
             0.6,
             "#e6f5d0"
            ],
            [
             0.7,
             "#b8e186"
            ],
            [
             0.8,
             "#7fbc41"
            ],
            [
             0.9,
             "#4d9221"
            ],
            [
             1,
             "#276419"
            ]
           ],
           "sequential": [
            [
             0,
             "#0d0887"
            ],
            [
             0.1111111111111111,
             "#46039f"
            ],
            [
             0.2222222222222222,
             "#7201a8"
            ],
            [
             0.3333333333333333,
             "#9c179e"
            ],
            [
             0.4444444444444444,
             "#bd3786"
            ],
            [
             0.5555555555555556,
             "#d8576b"
            ],
            [
             0.6666666666666666,
             "#ed7953"
            ],
            [
             0.7777777777777778,
             "#fb9f3a"
            ],
            [
             0.8888888888888888,
             "#fdca26"
            ],
            [
             1,
             "#f0f921"
            ]
           ],
           "sequentialminus": [
            [
             0,
             "#0d0887"
            ],
            [
             0.1111111111111111,
             "#46039f"
            ],
            [
             0.2222222222222222,
             "#7201a8"
            ],
            [
             0.3333333333333333,
             "#9c179e"
            ],
            [
             0.4444444444444444,
             "#bd3786"
            ],
            [
             0.5555555555555556,
             "#d8576b"
            ],
            [
             0.6666666666666666,
             "#ed7953"
            ],
            [
             0.7777777777777778,
             "#fb9f3a"
            ],
            [
             0.8888888888888888,
             "#fdca26"
            ],
            [
             1,
             "#f0f921"
            ]
           ]
          },
          "colorway": [
           "#636efa",
           "#EF553B",
           "#00cc96",
           "#ab63fa",
           "#FFA15A",
           "#19d3f3",
           "#FF6692",
           "#B6E880",
           "#FF97FF",
           "#FECB52"
          ],
          "font": {
           "color": "#2a3f5f"
          },
          "geo": {
           "bgcolor": "white",
           "lakecolor": "white",
           "landcolor": "white",
           "showlakes": true,
           "showland": true,
           "subunitcolor": "#C8D4E3"
          },
          "hoverlabel": {
           "align": "left"
          },
          "hovermode": "closest",
          "mapbox": {
           "style": "light"
          },
          "paper_bgcolor": "white",
          "plot_bgcolor": "white",
          "polar": {
           "angularaxis": {
            "gridcolor": "#EBF0F8",
            "linecolor": "#EBF0F8",
            "ticks": ""
           },
           "bgcolor": "white",
           "radialaxis": {
            "gridcolor": "#EBF0F8",
            "linecolor": "#EBF0F8",
            "ticks": ""
           }
          },
          "scene": {
           "xaxis": {
            "backgroundcolor": "white",
            "gridcolor": "#DFE8F3",
            "gridwidth": 2,
            "linecolor": "#EBF0F8",
            "showbackground": true,
            "ticks": "",
            "zerolinecolor": "#EBF0F8"
           },
           "yaxis": {
            "backgroundcolor": "white",
            "gridcolor": "#DFE8F3",
            "gridwidth": 2,
            "linecolor": "#EBF0F8",
            "showbackground": true,
            "ticks": "",
            "zerolinecolor": "#EBF0F8"
           },
           "zaxis": {
            "backgroundcolor": "white",
            "gridcolor": "#DFE8F3",
            "gridwidth": 2,
            "linecolor": "#EBF0F8",
            "showbackground": true,
            "ticks": "",
            "zerolinecolor": "#EBF0F8"
           }
          },
          "shapedefaults": {
           "line": {
            "color": "#2a3f5f"
           }
          },
          "ternary": {
           "aaxis": {
            "gridcolor": "#DFE8F3",
            "linecolor": "#A2B1C6",
            "ticks": ""
           },
           "baxis": {
            "gridcolor": "#DFE8F3",
            "linecolor": "#A2B1C6",
            "ticks": ""
           },
           "bgcolor": "white",
           "caxis": {
            "gridcolor": "#DFE8F3",
            "linecolor": "#A2B1C6",
            "ticks": ""
           }
          },
          "title": {
           "x": 0.05
          },
          "xaxis": {
           "automargin": true,
           "gridcolor": "#EBF0F8",
           "linecolor": "#EBF0F8",
           "ticks": "",
           "title": {
            "standoff": 15
           },
           "zerolinecolor": "#EBF0F8",
           "zerolinewidth": 2
          },
          "yaxis": {
           "automargin": true,
           "gridcolor": "#EBF0F8",
           "linecolor": "#EBF0F8",
           "ticks": "",
           "title": {
            "standoff": 15
           },
           "zerolinecolor": "#EBF0F8",
           "zerolinewidth": 2
          }
         }
        },
        "title": {
         "text": "z1000t vs z1000rel with Outliers"
        },
        "width": 1000,
        "xaxis": {
         "anchor": "y",
         "domain": [
          0,
          1
         ],
         "title": {
          "text": "z1000t"
         }
        },
        "yaxis": {
         "anchor": "x",
         "domain": [
          0,
          1
         ],
         "title": {
          "text": "z1000rel"
         }
        }
       }
      }
     },
     "metadata": {},
     "output_type": "display_data"
    },
    {
     "data": {
      "application/vnd.plotly.v1+json": {
       "config": {
        "plotlyServerURL": "https://plot.ly"
       },
       "data": [
        {
         "customdata": [
          [
           "s018",
           "c"
          ],
          [
           "s030",
           "c"
          ],
          [
           "s036",
           "c"
          ],
          [
           "s066",
           "c"
          ],
          [
           "s078",
           "c"
          ],
          [
           "s015",
           "c++"
          ],
          [
           "s020",
           "c++"
          ],
          [
           "s021",
           "c++"
          ],
          [
           "s025",
           "c++"
          ],
          [
           "s027",
           "c++"
          ],
          [
           "s033",
           "c++"
          ],
          [
           "s034",
           "c++"
          ],
          [
           "s042",
           "c++"
          ],
          [
           "s051",
           "c++"
          ],
          [
           "s090",
           "c++"
          ],
          [
           "s096",
           "c++"
          ],
          [
           "s017",
           "java"
          ],
          [
           "s037",
           "java"
          ],
          [
           "s040",
           "java"
          ],
          [
           "s043",
           "java"
          ],
          [
           "s047",
           "java"
          ],
          [
           "s050",
           "java"
          ],
          [
           "s053",
           "java"
          ],
          [
           "s054",
           "java"
          ],
          [
           "s056",
           "java"
          ],
          [
           "s057",
           "java"
          ],
          [
           "s059",
           "java"
          ],
          [
           "s060",
           "java"
          ],
          [
           "s062",
           "java"
          ],
          [
           "s063",
           "java"
          ],
          [
           "s065",
           "java"
          ],
          [
           "s068",
           "java"
          ],
          [
           "s072",
           "java"
          ],
          [
           "s084",
           "java"
          ],
          [
           "s087",
           "java"
          ],
          [
           "s093",
           "java"
          ],
          [
           "s099",
           "java"
          ],
          [
           "s102",
           "java"
          ],
          [
           "s149101",
           "perl"
          ],
          [
           "s149102",
           "perl"
          ],
          [
           "s149103",
           "perl"
          ],
          [
           "s149105",
           "perl"
          ],
          [
           "s149106",
           "perl"
          ],
          [
           "s149107",
           "perl"
          ],
          [
           "s149108",
           "perl"
          ],
          [
           "s149109",
           "perl"
          ],
          [
           "s149110",
           "perl"
          ],
          [
           "s149111",
           "perl"
          ],
          [
           "s149112",
           "perl"
          ],
          [
           "s149113",
           "perl"
          ],
          [
           "s149114",
           "perl"
          ],
          [
           "s149201",
           "python"
          ],
          [
           "s149202",
           "python"
          ],
          [
           "s149203",
           "python"
          ],
          [
           "s149204",
           "python"
          ],
          [
           "s149205",
           "python"
          ],
          [
           "s149206",
           "python"
          ],
          [
           "s149207",
           "python"
          ],
          [
           "s149208",
           "python"
          ],
          [
           "s149209",
           "python"
          ],
          [
           "s149210",
           "python"
          ],
          [
           "s149212",
           "python"
          ],
          [
           "s149213",
           "python"
          ],
          [
           "s149301",
           "rexx"
          ],
          [
           "s149302",
           "rexx"
          ],
          [
           "s149303",
           "rexx"
          ],
          [
           "s149304",
           "rexx"
          ],
          [
           "s149401",
           "tcl"
          ],
          [
           "s149402",
           "tcl"
          ],
          [
           "s149403",
           "tcl"
          ],
          [
           "s149405",
           "tcl"
          ],
          [
           "s149406",
           "tcl"
          ],
          [
           "s149407",
           "tcl"
          ],
          [
           "s149408",
           "tcl"
          ],
          [
           "s149409",
           "tcl"
          ],
          [
           "s149410",
           "tcl"
          ],
          [
           "s149411",
           "tcl"
          ]
         ],
         "hovertemplate": "is_outlier_str=Normal<br>z1000mem=%{x}<br>m1000rel=%{y}<br>person=%{customdata[0]}<br>lang=%{customdata[1]}<extra></extra>",
         "legendgroup": "Normal",
         "marker": {
          "color": "blue",
          "size": 10,
          "symbol": "circle"
         },
         "mode": "markers",
         "name": "Normal",
         "orientation": "v",
         "showlegend": true,
         "type": "scatter",
         "x": {
          "bdata": "oFcAAEhCAACwLAAAiAsAAOBXAAAoYAAA8BgAAMAUAACYbwAAkA0AAChbAADQGgAAmFgAAHgNAAA4EAAAeBQAAOCjAADQ5gAAONwAACiNAABY1gAAqOIAAJjMAADQaQAAOFcAANiUAADAnQAA+HIAAOCVAAAQlwAAKMIAAIieAAAwzAAA2P4AANibAACgogAAKBQBAADLAADAQwAA4B4BAEBjAAAwewAASEQAAFBDAADoHgEAoEMAAFBDAABIQwAAqEQAAGBPAACIVQAAUFgAAHhFAABgNQAAQDUAALhDAACoQwAA0DsAAJg+AAAoOQAASEQAAOA2AACwNgAACCMAAKBSAACYUgAAWCMAAJB+AABYcgAA0HAAAPitAADwZgAACEUAAMi+AACYWgAASE8AAMhTAAA=",
          "dtype": "i4"
         },
         "xaxis": "x",
         "y": {
          "bdata": "MzMzMzMzWEBmZmZmZgZXQAAAAAAAYFZAAAAAAAAAWUCamZmZmZlYQAAAAAAAAFlAmpmZmZmZWECamZmZmZlYQJqZmZmZmVhAAAAAAAAAWUCamZmZmZlYQJqZmZmZmfE/AAAAAAAAWUCamZmZmZlYQAAAAAAAAFlAAAAAAAAAWUBmZmZmZmYkQGZmZmZmZiRAmpmZmZmZWECamZmZmblWQDMzMzMzMyRAZmZmZmZmJEBmZmZmZmYkQGZmZmZmZiRAAAAAAAAAWUBmZmZmZmYkQGZmZmZmZiRAMzMzMzMTWEBmZmZmZmYkQAAAAAAAAFlAmpmZmZl5WEBmZmZmZmYkQAAAAAAAAFlAAAAAAAAAWUAAAAAAAABZQGZmZmZmZiRAmpmZmZmZWEBmZmZmZmYaQAAAAAAAAFlAAAAAAAAAAAAAAAAAAABZQAAAAAAAAFlAAAAAAAAAWUAAAAAAAABZQAAAAAAAAFlAAAAAAAAAWUAAAAAAAABZQAAAAAAAAFlAmpmZmZmZWEAAAAAAAAAAAJqZmZmZmVhAAAAAAAAAWUCamZmZmZlYQAAAAAAAAFlAAAAAAAAAWUBmZmZmZmYkQAAAAAAAAFlAAAAAAAAAWUCamZmZmZlYQAAAAAAAAAAAZmZmZmZmJEAAAAAAAABZQAAAAAAAAFlAmpmZmZmZWEDNzMzMzExHQJqZmZmZuVhAAAAAAAAAWUAAAAAAAABZQAAAAAAAAFlAAAAAAAAAWUAAAAAAAABZQAAAAAAAAFlAAAAAAAAAWUAAAAAAAABZQAAAAAAAAFlAZmZmZmZmJEAAAAAAAABZQA==",
          "dtype": "f8"
         },
         "yaxis": "y"
        },
        {
         "customdata": [
          [
           "s023",
           "java"
          ],
          [
           "s081",
           "java"
          ],
          [
           "s149211",
           "python"
          ]
         ],
         "hovertemplate": "is_outlier_str=Outlier<br>z1000mem=%{x}<br>m1000rel=%{y}<br>person=%{customdata[0]}<br>lang=%{customdata[1]}<extra></extra>",
         "legendgroup": "Outlier",
         "marker": {
          "color": "red",
          "size": 10,
          "symbol": "circle"
         },
         "mode": "markers",
         "name": "Outlier",
         "orientation": "v",
         "showlegend": true,
         "type": "scatter",
         "x": {
          "bdata": "QF4BALg2AQDwYwEA",
          "dtype": "i4"
         },
         "xaxis": "x",
         "y": {
          "bdata": "mpmZmZmZWEBmZmZmZmYkQGZmZmZmZiRA",
          "dtype": "f8"
         },
         "yaxis": "y"
        }
       ],
       "layout": {
        "height": 600,
        "legend": {
         "title": {
          "text": "is_outlier_str"
         },
         "tracegroupgap": 0
        },
        "template": {
         "data": {
          "bar": [
           {
            "error_x": {
             "color": "#2a3f5f"
            },
            "error_y": {
             "color": "#2a3f5f"
            },
            "marker": {
             "line": {
              "color": "white",
              "width": 0.5
             },
             "pattern": {
              "fillmode": "overlay",
              "size": 10,
              "solidity": 0.2
             }
            },
            "type": "bar"
           }
          ],
          "barpolar": [
           {
            "marker": {
             "line": {
              "color": "white",
              "width": 0.5
             },
             "pattern": {
              "fillmode": "overlay",
              "size": 10,
              "solidity": 0.2
             }
            },
            "type": "barpolar"
           }
          ],
          "carpet": [
           {
            "aaxis": {
             "endlinecolor": "#2a3f5f",
             "gridcolor": "#C8D4E3",
             "linecolor": "#C8D4E3",
             "minorgridcolor": "#C8D4E3",
             "startlinecolor": "#2a3f5f"
            },
            "baxis": {
             "endlinecolor": "#2a3f5f",
             "gridcolor": "#C8D4E3",
             "linecolor": "#C8D4E3",
             "minorgridcolor": "#C8D4E3",
             "startlinecolor": "#2a3f5f"
            },
            "type": "carpet"
           }
          ],
          "choropleth": [
           {
            "colorbar": {
             "outlinewidth": 0,
             "ticks": ""
            },
            "type": "choropleth"
           }
          ],
          "contour": [
           {
            "colorbar": {
             "outlinewidth": 0,
             "ticks": ""
            },
            "colorscale": [
             [
              0,
              "#0d0887"
             ],
             [
              0.1111111111111111,
              "#46039f"
             ],
             [
              0.2222222222222222,
              "#7201a8"
             ],
             [
              0.3333333333333333,
              "#9c179e"
             ],
             [
              0.4444444444444444,
              "#bd3786"
             ],
             [
              0.5555555555555556,
              "#d8576b"
             ],
             [
              0.6666666666666666,
              "#ed7953"
             ],
             [
              0.7777777777777778,
              "#fb9f3a"
             ],
             [
              0.8888888888888888,
              "#fdca26"
             ],
             [
              1,
              "#f0f921"
             ]
            ],
            "type": "contour"
           }
          ],
          "contourcarpet": [
           {
            "colorbar": {
             "outlinewidth": 0,
             "ticks": ""
            },
            "type": "contourcarpet"
           }
          ],
          "heatmap": [
           {
            "colorbar": {
             "outlinewidth": 0,
             "ticks": ""
            },
            "colorscale": [
             [
              0,
              "#0d0887"
             ],
             [
              0.1111111111111111,
              "#46039f"
             ],
             [
              0.2222222222222222,
              "#7201a8"
             ],
             [
              0.3333333333333333,
              "#9c179e"
             ],
             [
              0.4444444444444444,
              "#bd3786"
             ],
             [
              0.5555555555555556,
              "#d8576b"
             ],
             [
              0.6666666666666666,
              "#ed7953"
             ],
             [
              0.7777777777777778,
              "#fb9f3a"
             ],
             [
              0.8888888888888888,
              "#fdca26"
             ],
             [
              1,
              "#f0f921"
             ]
            ],
            "type": "heatmap"
           }
          ],
          "histogram": [
           {
            "marker": {
             "pattern": {
              "fillmode": "overlay",
              "size": 10,
              "solidity": 0.2
             }
            },
            "type": "histogram"
           }
          ],
          "histogram2d": [
           {
            "colorbar": {
             "outlinewidth": 0,
             "ticks": ""
            },
            "colorscale": [
             [
              0,
              "#0d0887"
             ],
             [
              0.1111111111111111,
              "#46039f"
             ],
             [
              0.2222222222222222,
              "#7201a8"
             ],
             [
              0.3333333333333333,
              "#9c179e"
             ],
             [
              0.4444444444444444,
              "#bd3786"
             ],
             [
              0.5555555555555556,
              "#d8576b"
             ],
             [
              0.6666666666666666,
              "#ed7953"
             ],
             [
              0.7777777777777778,
              "#fb9f3a"
             ],
             [
              0.8888888888888888,
              "#fdca26"
             ],
             [
              1,
              "#f0f921"
             ]
            ],
            "type": "histogram2d"
           }
          ],
          "histogram2dcontour": [
           {
            "colorbar": {
             "outlinewidth": 0,
             "ticks": ""
            },
            "colorscale": [
             [
              0,
              "#0d0887"
             ],
             [
              0.1111111111111111,
              "#46039f"
             ],
             [
              0.2222222222222222,
              "#7201a8"
             ],
             [
              0.3333333333333333,
              "#9c179e"
             ],
             [
              0.4444444444444444,
              "#bd3786"
             ],
             [
              0.5555555555555556,
              "#d8576b"
             ],
             [
              0.6666666666666666,
              "#ed7953"
             ],
             [
              0.7777777777777778,
              "#fb9f3a"
             ],
             [
              0.8888888888888888,
              "#fdca26"
             ],
             [
              1,
              "#f0f921"
             ]
            ],
            "type": "histogram2dcontour"
           }
          ],
          "mesh3d": [
           {
            "colorbar": {
             "outlinewidth": 0,
             "ticks": ""
            },
            "type": "mesh3d"
           }
          ],
          "parcoords": [
           {
            "line": {
             "colorbar": {
              "outlinewidth": 0,
              "ticks": ""
             }
            },
            "type": "parcoords"
           }
          ],
          "pie": [
           {
            "automargin": true,
            "type": "pie"
           }
          ],
          "scatter": [
           {
            "fillpattern": {
             "fillmode": "overlay",
             "size": 10,
             "solidity": 0.2
            },
            "type": "scatter"
           }
          ],
          "scatter3d": [
           {
            "line": {
             "colorbar": {
              "outlinewidth": 0,
              "ticks": ""
             }
            },
            "marker": {
             "colorbar": {
              "outlinewidth": 0,
              "ticks": ""
             }
            },
            "type": "scatter3d"
           }
          ],
          "scattercarpet": [
           {
            "marker": {
             "colorbar": {
              "outlinewidth": 0,
              "ticks": ""
             }
            },
            "type": "scattercarpet"
           }
          ],
          "scattergeo": [
           {
            "marker": {
             "colorbar": {
              "outlinewidth": 0,
              "ticks": ""
             }
            },
            "type": "scattergeo"
           }
          ],
          "scattergl": [
           {
            "marker": {
             "colorbar": {
              "outlinewidth": 0,
              "ticks": ""
             }
            },
            "type": "scattergl"
           }
          ],
          "scattermap": [
           {
            "marker": {
             "colorbar": {
              "outlinewidth": 0,
              "ticks": ""
             }
            },
            "type": "scattermap"
           }
          ],
          "scattermapbox": [
           {
            "marker": {
             "colorbar": {
              "outlinewidth": 0,
              "ticks": ""
             }
            },
            "type": "scattermapbox"
           }
          ],
          "scatterpolar": [
           {
            "marker": {
             "colorbar": {
              "outlinewidth": 0,
              "ticks": ""
             }
            },
            "type": "scatterpolar"
           }
          ],
          "scatterpolargl": [
           {
            "marker": {
             "colorbar": {
              "outlinewidth": 0,
              "ticks": ""
             }
            },
            "type": "scatterpolargl"
           }
          ],
          "scatterternary": [
           {
            "marker": {
             "colorbar": {
              "outlinewidth": 0,
              "ticks": ""
             }
            },
            "type": "scatterternary"
           }
          ],
          "surface": [
           {
            "colorbar": {
             "outlinewidth": 0,
             "ticks": ""
            },
            "colorscale": [
             [
              0,
              "#0d0887"
             ],
             [
              0.1111111111111111,
              "#46039f"
             ],
             [
              0.2222222222222222,
              "#7201a8"
             ],
             [
              0.3333333333333333,
              "#9c179e"
             ],
             [
              0.4444444444444444,
              "#bd3786"
             ],
             [
              0.5555555555555556,
              "#d8576b"
             ],
             [
              0.6666666666666666,
              "#ed7953"
             ],
             [
              0.7777777777777778,
              "#fb9f3a"
             ],
             [
              0.8888888888888888,
              "#fdca26"
             ],
             [
              1,
              "#f0f921"
             ]
            ],
            "type": "surface"
           }
          ],
          "table": [
           {
            "cells": {
             "fill": {
              "color": "#EBF0F8"
             },
             "line": {
              "color": "white"
             }
            },
            "header": {
             "fill": {
              "color": "#C8D4E3"
             },
             "line": {
              "color": "white"
             }
            },
            "type": "table"
           }
          ]
         },
         "layout": {
          "annotationdefaults": {
           "arrowcolor": "#2a3f5f",
           "arrowhead": 0,
           "arrowwidth": 1
          },
          "autotypenumbers": "strict",
          "coloraxis": {
           "colorbar": {
            "outlinewidth": 0,
            "ticks": ""
           }
          },
          "colorscale": {
           "diverging": [
            [
             0,
             "#8e0152"
            ],
            [
             0.1,
             "#c51b7d"
            ],
            [
             0.2,
             "#de77ae"
            ],
            [
             0.3,
             "#f1b6da"
            ],
            [
             0.4,
             "#fde0ef"
            ],
            [
             0.5,
             "#f7f7f7"
            ],
            [
             0.6,
             "#e6f5d0"
            ],
            [
             0.7,
             "#b8e186"
            ],
            [
             0.8,
             "#7fbc41"
            ],
            [
             0.9,
             "#4d9221"
            ],
            [
             1,
             "#276419"
            ]
           ],
           "sequential": [
            [
             0,
             "#0d0887"
            ],
            [
             0.1111111111111111,
             "#46039f"
            ],
            [
             0.2222222222222222,
             "#7201a8"
            ],
            [
             0.3333333333333333,
             "#9c179e"
            ],
            [
             0.4444444444444444,
             "#bd3786"
            ],
            [
             0.5555555555555556,
             "#d8576b"
            ],
            [
             0.6666666666666666,
             "#ed7953"
            ],
            [
             0.7777777777777778,
             "#fb9f3a"
            ],
            [
             0.8888888888888888,
             "#fdca26"
            ],
            [
             1,
             "#f0f921"
            ]
           ],
           "sequentialminus": [
            [
             0,
             "#0d0887"
            ],
            [
             0.1111111111111111,
             "#46039f"
            ],
            [
             0.2222222222222222,
             "#7201a8"
            ],
            [
             0.3333333333333333,
             "#9c179e"
            ],
            [
             0.4444444444444444,
             "#bd3786"
            ],
            [
             0.5555555555555556,
             "#d8576b"
            ],
            [
             0.6666666666666666,
             "#ed7953"
            ],
            [
             0.7777777777777778,
             "#fb9f3a"
            ],
            [
             0.8888888888888888,
             "#fdca26"
            ],
            [
             1,
             "#f0f921"
            ]
           ]
          },
          "colorway": [
           "#636efa",
           "#EF553B",
           "#00cc96",
           "#ab63fa",
           "#FFA15A",
           "#19d3f3",
           "#FF6692",
           "#B6E880",
           "#FF97FF",
           "#FECB52"
          ],
          "font": {
           "color": "#2a3f5f"
          },
          "geo": {
           "bgcolor": "white",
           "lakecolor": "white",
           "landcolor": "white",
           "showlakes": true,
           "showland": true,
           "subunitcolor": "#C8D4E3"
          },
          "hoverlabel": {
           "align": "left"
          },
          "hovermode": "closest",
          "mapbox": {
           "style": "light"
          },
          "paper_bgcolor": "white",
          "plot_bgcolor": "white",
          "polar": {
           "angularaxis": {
            "gridcolor": "#EBF0F8",
            "linecolor": "#EBF0F8",
            "ticks": ""
           },
           "bgcolor": "white",
           "radialaxis": {
            "gridcolor": "#EBF0F8",
            "linecolor": "#EBF0F8",
            "ticks": ""
           }
          },
          "scene": {
           "xaxis": {
            "backgroundcolor": "white",
            "gridcolor": "#DFE8F3",
            "gridwidth": 2,
            "linecolor": "#EBF0F8",
            "showbackground": true,
            "ticks": "",
            "zerolinecolor": "#EBF0F8"
           },
           "yaxis": {
            "backgroundcolor": "white",
            "gridcolor": "#DFE8F3",
            "gridwidth": 2,
            "linecolor": "#EBF0F8",
            "showbackground": true,
            "ticks": "",
            "zerolinecolor": "#EBF0F8"
           },
           "zaxis": {
            "backgroundcolor": "white",
            "gridcolor": "#DFE8F3",
            "gridwidth": 2,
            "linecolor": "#EBF0F8",
            "showbackground": true,
            "ticks": "",
            "zerolinecolor": "#EBF0F8"
           }
          },
          "shapedefaults": {
           "line": {
            "color": "#2a3f5f"
           }
          },
          "ternary": {
           "aaxis": {
            "gridcolor": "#DFE8F3",
            "linecolor": "#A2B1C6",
            "ticks": ""
           },
           "baxis": {
            "gridcolor": "#DFE8F3",
            "linecolor": "#A2B1C6",
            "ticks": ""
           },
           "bgcolor": "white",
           "caxis": {
            "gridcolor": "#DFE8F3",
            "linecolor": "#A2B1C6",
            "ticks": ""
           }
          },
          "title": {
           "x": 0.05
          },
          "xaxis": {
           "automargin": true,
           "gridcolor": "#EBF0F8",
           "linecolor": "#EBF0F8",
           "ticks": "",
           "title": {
            "standoff": 15
           },
           "zerolinecolor": "#EBF0F8",
           "zerolinewidth": 2
          },
          "yaxis": {
           "automargin": true,
           "gridcolor": "#EBF0F8",
           "linecolor": "#EBF0F8",
           "ticks": "",
           "title": {
            "standoff": 15
           },
           "zerolinecolor": "#EBF0F8",
           "zerolinewidth": 2
          }
         }
        },
        "title": {
         "text": "z1000mem vs m1000rel with Outliers"
        },
        "width": 1000,
        "xaxis": {
         "anchor": "y",
         "domain": [
          0,
          1
         ],
         "title": {
          "text": "z1000mem"
         }
        },
        "yaxis": {
         "anchor": "x",
         "domain": [
          0,
          1
         ],
         "title": {
          "text": "m1000rel"
         }
        }
       }
      }
     },
     "metadata": {},
     "output_type": "display_data"
    },
    {
     "name": "stdout",
     "output_type": "stream",
     "text": [
      "\n",
      "================================================================================\n",
      "ANALYSIS COMPLETE\n",
      "================================================================================\n"
     ]
    }
   ],
   "source": [
    "import pandas as pd\n",
    "import numpy as np\n",
    "import plotly.express as px\n",
    "import plotly.graph_objects as go\n",
    "from plotly.subplots import make_subplots\n",
    "import warnings\n",
    "warnings.filterwarnings('ignore')\n",
    "\n",
    "# Set display options\n",
    "pd.set_option('display.max_columns', None)\n",
    "pd.set_option('display.width', None)\n",
    "\n",
    "# ============================================================================\n",
    "# SECTION 1: LOAD AND EXPLORE DATASET\n",
    "# ============================================================================\n",
    "\n",
    "# Load the dataset\n",
    "df = pd.read_csv('assignment_3_dataset.csv', index_col=0)\n",
    "\n",
    "print(\"Dataset Shape:\", df.shape)\n",
    "print(\"\\nFirst Few Rows:\")\n",
    "print(df.head(10))\n",
    "print(\"\\nData Types:\")\n",
    "print(df.dtypes)\n",
    "\n",
    "# ============================================================================\n",
    "# SECTION 2: DATA CLEANING\n",
    "# ============================================================================\n",
    "\n",
    "df_clean = df.copy()\n",
    "\n",
    "# Replace '??' and empty strings with NaN\n",
    "df_clean = df_clean.replace('??', np.nan)\n",
    "df_clean = df_clean.replace('', np.nan)\n",
    "\n",
    "# Standardize language names to lowercase\n",
    "df_clean['lang'] = df_clean['lang'].str.lower()\n",
    "\n",
    "# Convert numeric columns\n",
    "numeric_columns = ['z1000t', 'z0t', 'z1000mem', 'stmtL', 'z1000rel', 'm1000rel', 'whours']\n",
    "for col in numeric_columns:\n",
    "    df_clean[col] = pd.to_numeric(df_clean[col], errors='coerce')\n",
    "\n",
    "print(\"\\nCleaned Dataset Summary:\")\n",
    "print(df_clean.describe())\n",
    "\n",
    "# ============================================================================\n",
    "# SECTION 3: PERFORMANCE vs RELIABILITY (z1000t vs z1000rel)\n",
    "# ============================================================================\n",
    "\n",
    "df_perf_rel = df_clean[['person', 'lang', 'z1000t', 'z1000rel']].dropna()\n",
    "\n",
    "print(\"\\n\" + \"=\"*80)\n",
    "print(\"PERFORMANCE vs RELIABILITY ANALYSIS\")\n",
    "print(\"=\"*80)\n",
    "print(f\"Records: {len(df_perf_rel)}\")\n",
    "print(f\"Overall Correlation: {df_perf_rel['z1000t'].corr(df_perf_rel['z1000rel']):.4f}\")\n",
    "\n",
    "# Create scatter plot: z1000t vs z1000rel\n",
    "fig1 = px.scatter(\n",
    "    df_perf_rel,\n",
    "    x='z1000t',\n",
    "    y='z1000rel',\n",
    "    color='lang',\n",
    "    hover_data=['person'],\n",
    "    title='Performance vs Reliability: z1000t vs z1000rel',\n",
    "    labels={'z1000t': 'z1000t (Execution Time)', 'z1000rel': 'z1000rel (%)'},\n",
    "    trendline='ols',\n",
    "    trendline_color_override='red',\n",
    "    template='plotly_white'\n",
    ")\n",
    "fig1.update_layout(height=600, width=1000)\n",
    "fig1.show()\n",
    "\n",
    "# By-language scatter plots\n",
    "languages = sorted(df_perf_rel['lang'].unique())\n",
    "n_langs = len(languages)\n",
    "cols = 3\n",
    "rows = (n_langs + cols - 1) // cols\n",
    "\n",
    "fig2 = make_subplots(\n",
    "    rows=rows, cols=cols,\n",
    "    subplot_titles=[f'{lang.upper()}' for lang in languages],\n",
    "    specs=[[{'type': 'scatter'} for _ in range(cols)] for _ in range(rows)]\n",
    ")\n",
    "\n",
    "colors = px.colors.qualitative.Plotly\n",
    "\n",
    "for idx, lang in enumerate(languages):\n",
    "    row = idx // cols + 1\n",
    "    col = idx % cols + 1\n",
    "    lang_data = df_perf_rel[df_perf_rel['lang'] == lang]\n",
    "\n",
    "    fig2.add_trace(\n",
    "        go.Scatter(\n",
    "            x=lang_data['z1000t'], y=lang_data['z1000rel'],\n",
    "            mode='markers', marker=dict(size=8, color=colors[idx % len(colors)]),\n",
    "            name=lang.upper(), text=lang_data['person'],\n",
    "            hovertemplate='<b>%{text}</b><br>z1000t: %{x:.2f}<br>z1000rel: %{y:.2f}<extra></extra>',\n",
    "            showlegend=False\n",
    "        ), row=row, col=col\n",
    "    )\n",
    "\n",
    "    if len(lang_data) > 1:\n",
    "        z = np.polyfit(lang_data['z1000t'], lang_data['z1000rel'], 1)\n",
    "        p = np.poly1d(z)\n",
    "        x_trend = np.linspace(lang_data['z1000t'].min(), lang_data['z1000t'].max(), 100)\n",
    "        fig2.add_trace(\n",
    "            go.Scatter(x=x_trend, y=p(x_trend), mode='lines',\n",
    "                      line=dict(color='red', width=2, dash='dash'),\n",
    "                      showlegend=False, hoverinfo='skip'),\n",
    "            row=row, col=col\n",
    "        )\n",
    "\n",
    "fig2.update_layout(height=400*rows, width=1200, title_text='Performance vs Reliability by Language', showlegend=False)\n",
    "fig2.show()\n",
    "\n",
    "# ============================================================================\n",
    "# SECTION 4: MEMORY vs RELIABILITY (z1000mem vs m1000rel)\n",
    "# ============================================================================\n",
    "\n",
    "df_mem_rel = df_clean[['person', 'lang', 'z1000mem', 'm1000rel']].dropna()\n",
    "\n",
    "print(\"\\n\" + \"=\"*80)\n",
    "print(\"MEMORY vs RELIABILITY ANALYSIS\")\n",
    "print(\"=\"*80)\n",
    "print(f\"Records: {len(df_mem_rel)}\")\n",
    "print(f\"Overall Correlation: {df_mem_rel['z1000mem'].corr(df_mem_rel['m1000rel']):.4f}\")\n",
    "\n",
    "# Create scatter plot: z1000mem vs m1000rel\n",
    "fig3 = px.scatter(\n",
    "    df_mem_rel,\n",
    "    x='z1000mem',\n",
    "    y='m1000rel',\n",
    "    color='lang',\n",
    "    hover_data=['person'],\n",
    "    title='Memory vs Reliability: z1000mem vs m1000rel',\n",
    "    labels={'z1000mem': 'z1000mem (Memory)', 'm1000rel': 'm1000rel (%)'},\n",
    "    trendline='ols',\n",
    "    trendline_color_override='red',\n",
    "    template='plotly_white'\n",
    ")\n",
    "fig3.update_layout(height=600, width=1000)\n",
    "fig3.show()\n",
    "\n",
    "# By-language scatter plots for memory\n",
    "fig4 = make_subplots(\n",
    "    rows=rows, cols=cols,\n",
    "    subplot_titles=[f'{lang.upper()}' for lang in languages],\n",
    "    specs=[[{'type': 'scatter'} for _ in range(cols)] for _ in range(rows)]\n",
    ")\n",
    "\n",
    "for idx, lang in enumerate(languages):\n",
    "    row = idx // cols + 1\n",
    "    col = idx % cols + 1\n",
    "    lang_data = df_mem_rel[df_mem_rel['lang'] == lang]\n",
    "\n",
    "    fig4.add_trace(\n",
    "        go.Scatter(\n",
    "            x=lang_data['z1000mem'], y=lang_data['m1000rel'],\n",
    "            mode='markers', marker=dict(size=8, color=colors[idx % len(colors)]),\n",
    "            name=lang.upper(), text=lang_data['person'],\n",
    "            hovertemplate='<b>%{text}</b><br>z1000mem: %{x:.0f}<br>m1000rel: %{y:.2f}<extra></extra>',\n",
    "            showlegend=False\n",
    "        ), row=row, col=col\n",
    "    )\n",
    "\n",
    "    if len(lang_data) > 1:\n",
    "        z = np.polyfit(lang_data['z1000mem'], lang_data['m1000rel'], 1)\n",
    "        p = np.poly1d(z)\n",
    "        x_trend = np.linspace(lang_data['z1000mem'].min(), lang_data['z1000mem'].max(), 100)\n",
    "        fig4.add_trace(\n",
    "            go.Scatter(x=x_trend, y=p(x_trend), mode='lines',\n",
    "                      line=dict(color='red', width=2, dash='dash'),\n",
    "                      showlegend=False, hoverinfo='skip'),\n",
    "            row=row, col=col\n",
    "        )\n",
    "\n",
    "fig4.update_layout(height=400*rows, width=1200, title_text='Memory vs Reliability by Language', showlegend=False)\n",
    "fig4.show()\n",
    "\n",
    "# ============================================================================\n",
    "# SECTION 5: OUTLIER DETECTION\n",
    "# ============================================================================\n",
    "\n",
    "def detect_outliers_iqr(data):\n",
    "    Q1 = data.quantile(0.25)\n",
    "    Q3 = data.quantile(0.75)\n",
    "    IQR = Q3 - Q1\n",
    "    lower_bound = Q1 - 1.5 * IQR\n",
    "    upper_bound = Q3 + 1.5 * IQR\n",
    "    return (data < lower_bound) | (data > upper_bound), lower_bound, upper_bound\n",
    "\n",
    "# Analyze z1000t outliers\n",
    "df_z1000t = df_clean[['person', 'lang', 'z1000t']].dropna()\n",
    "outliers_t_iqr, lb_t, ub_t = detect_outliers_iqr(df_z1000t['z1000t'])\n",
    "\n",
    "print(\"\\n\" + \"=\"*80)\n",
    "print(\"OUTLIER DETECTION: z1000t (Execution Time)\")\n",
    "print(\"=\"*80)\n",
    "print(f\"Total records: {len(df_z1000t)}\")\n",
    "print(f\"IQR Bounds: [{lb_t:.2f}, {ub_t:.2f}]\")\n",
    "print(f\"Outliers detected: {outliers_t_iqr.sum()} ({100*outliers_t_iqr.sum()/len(df_z1000t):.1f}%)\")\n",
    "print(\"\\nExtreme Values:\")\n",
    "for idx, row in df_z1000t[outliers_t_iqr].sort_values('z1000t', ascending=False).iterrows():\n",
    "    print(f\"  {row['person']} ({row['lang']}): {row['z1000t']:.2f}\")\n",
    "\n",
    "# Box plot for z1000t\n",
    "fig5 = px.box(df_z1000t, x='lang', y='z1000t',\n",
    "              title='Distribution of z1000t by Language',\n",
    "              labels={'z1000t': 'z1000t (Execution Time)', 'lang': 'Language'},\n",
    "              template='plotly_white')\n",
    "fig5.update_layout(height=600, width=1000)\n",
    "fig5.show()\n",
    "\n",
    "# Histogram for z1000t\n",
    "fig6 = px.histogram(df_z1000t, x='z1000t', nbins=30, color='lang',\n",
    "                   title='Histogram of z1000t with Outlier Bounds',\n",
    "                   labels={'z1000t': 'z1000t (Execution Time)'},\n",
    "                   barmode='group', template='plotly_white')\n",
    "fig6.add_vline(x=ub_t, line_dash=\"dash\", line_color=\"red\", annotation_text=f\"Upper: {ub_t:.2f}\")\n",
    "fig6.add_vline(x=lb_t, line_dash=\"dash\", line_color=\"red\", annotation_text=f\"Lower: {lb_t:.2f}\")\n",
    "fig6.update_layout(height=600, width=1000)\n",
    "fig6.show()\n",
    "\n",
    "# Analyze z1000mem outliers\n",
    "df_z1000mem = df_clean[['person', 'lang', 'z1000mem']].dropna()\n",
    "outliers_mem_iqr, lb_mem, ub_mem = detect_outliers_iqr(df_z1000mem['z1000mem'])\n",
    "\n",
    "print(\"\\n\" + \"=\"*80)\n",
    "print(\"OUTLIER DETECTION: z1000mem (Memory Usage)\")\n",
    "print(\"=\"*80)\n",
    "print(f\"Total records: {len(df_z1000mem)}\")\n",
    "print(f\"IQR Bounds: [{lb_mem:.0f}, {ub_mem:.0f}]\")\n",
    "print(f\"Outliers detected: {outliers_mem_iqr.sum()} ({100*outliers_mem_iqr.sum()/len(df_z1000mem):.1f}%)\")\n",
    "print(\"\\nExtreme Values:\")\n",
    "for idx, row in df_z1000mem[outliers_mem_iqr].sort_values('z1000mem', ascending=False).iterrows():\n",
    "    print(f\"  {row['person']} ({row['lang']}): {row['z1000mem']:.0f}\")\n",
    "\n",
    "# Box plot for z1000mem\n",
    "fig7 = px.box(df_z1000mem, x='lang', y='z1000mem',\n",
    "              title='Distribution of z1000mem by Language',\n",
    "              labels={'z1000mem': 'z1000mem (Memory)', 'lang': 'Language'},\n",
    "              template='plotly_white')\n",
    "fig7.update_layout(height=600, width=1000)\n",
    "fig7.show()\n",
    "\n",
    "# Histogram for z1000mem\n",
    "fig8 = px.histogram(df_z1000mem, x='z1000mem', nbins=30, color='lang',\n",
    "                   title='Histogram of z1000mem with Outlier Bounds',\n",
    "                   labels={'z1000mem': 'z1000mem (Memory)'},\n",
    "                   barmode='group', template='plotly_white')\n",
    "fig8.add_vline(x=ub_mem, line_dash=\"dash\", line_color=\"red\", annotation_text=f\"Upper: {ub_mem:.0f}\")\n",
    "fig8.add_vline(x=lb_mem, line_dash=\"dash\", line_color=\"red\", annotation_text=f\"Lower: {lb_mem:.0f}\")\n",
    "fig8.update_layout(height=600, width=1000)\n",
    "fig8.show()\n",
    "\n",
    "# Scatter plots with outliers highlighted\n",
    "df_analysis = df_clean[['person', 'lang', 'z1000t', 'z1000rel']].dropna()\n",
    "df_analysis['is_outlier'] = detect_outliers_iqr(df_analysis['z1000t'])[0]\n",
    "df_analysis['is_outlier_str'] = df_analysis['is_outlier'].map({True: 'Outlier', False: 'Normal'})\n",
    "\n",
    "fig9 = px.scatter(df_analysis, x='z1000t', y='z1000rel', color='is_outlier_str',\n",
    "                  hover_data=['person', 'lang'],\n",
    "                  title='z1000t vs z1000rel with Outliers',\n",
    "                  color_discrete_map={'Outlier': 'red', 'Normal': 'blue'},\n",
    "                  template='plotly_white')\n",
    "fig9.update_traces(marker=dict(size=10))\n",
    "fig9.update_layout(height=600, width=1000)\n",
    "fig9.show()\n",
    "\n",
    "df_analysis_mem = df_clean[['person', 'lang', 'z1000mem', 'm1000rel']].dropna()\n",
    "df_analysis_mem['is_outlier'] = detect_outliers_iqr(df_analysis_mem['z1000mem'])[0]\n",
    "df_analysis_mem['is_outlier_str'] = df_analysis_mem['is_outlier'].map({True: 'Outlier', False: 'Normal'})\n",
    "\n",
    "fig10 = px.scatter(df_analysis_mem, x='z1000mem', y='m1000rel', color='is_outlier_str',\n",
    "                   hover_data=['person', 'lang'],\n",
    "                   title='z1000mem vs m1000rel with Outliers',\n",
    "                   color_discrete_map={'Outlier': 'red', 'Normal': 'blue'},\n",
    "                   template='plotly_white')\n",
    "fig10.update_traces(marker=dict(size=10))\n",
    "fig10.update_layout(height=600, width=1000)\n",
    "fig10.show()\n",
    "\n",
    "print(\"\\n\" + \"=\"*80)\n",
    "print(\"ANALYSIS COMPLETE\")\n",
    "print(\"=\"*80)"
   ]
  }
 ],
 "metadata": {
  "kernelspec": {
   "display_name": "Python 3",
   "language": "python",
   "name": "python3"
  },
  "language_info": {
   "codemirror_mode": {
    "name": "ipython",
    "version": 3
   },
   "file_extension": ".py",
   "mimetype": "text/x-python",
   "name": "python",
   "nbconvert_exporter": "python",
   "pygments_lexer": "ipython3",
   "version": "3.13.3"
  }
 },
 "nbformat": 4,
 "nbformat_minor": 5
}
