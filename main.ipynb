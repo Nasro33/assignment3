{
 "cells": [
  {
   "cell_type": "code",
   "execution_count": null,
   "id": "844b98b4",
   "metadata": {},
   "outputs": [
    {
     "name": "stdout",
     "output_type": "stream",
     "text": [
      "<class 'pandas.core.frame.DataFrame'>\n",
      "RangeIndex: 80 entries, 0 to 79\n",
      "Data columns (total 11 columns):\n",
      " #   Column      Non-Null Count  Dtype  \n",
      "---  ------      --------------  -----  \n",
      " 0   Unnamed: 0  80 non-null     int64  \n",
      " 1   person      80 non-null     object \n",
      " 2   lang        80 non-null     object \n",
      " 3   z1000t      75 non-null     float64\n",
      " 4   z0t         80 non-null     float64\n",
      " 5   z1000mem    80 non-null     int64  \n",
      " 6   stmtL       77 non-null     float64\n",
      " 7   z1000rel    80 non-null     float64\n",
      " 8   m1000rel    80 non-null     float64\n",
      " 9   whours      77 non-null     float64\n",
      " 10  caps        78 non-null     object \n",
      "dtypes: float64(6), int64(2), object(3)\n",
      "memory usage: 7.0+ KB\n"
     ]
    },
    {
     "data": {
      "text/plain": [
       "Unnamed: 0    0\n",
       "person        0\n",
       "lang          0\n",
       "z1000t        5\n",
       "z0t           0\n",
       "z1000mem      0\n",
       "stmtL         3\n",
       "z1000rel      0\n",
       "m1000rel      0\n",
       "whours        3\n",
       "caps          2\n",
       "dtype: int64"
      ]
     },
     "execution_count": 1,
     "metadata": {},
     "output_type": "execute_result"
    }
   ],
   "source": [
    "import pandas as pd\n",
    "import numpy as np\n",
    "import matplotlib.pyplot as plt\n",
    "import seaborn as sns\n",
    "from scipy import stats\n",
    "\n",
    "df = pd.read_csv(\"assignment_3_dataset.csv\")\n",
    "min_value = 0\n",
    "max_value = 2000\n"
   ]
  }
 ],
 "metadata": {
  "kernelspec": {
   "display_name": "Python 3",
   "language": "python",
   "name": "python3"
  },
  "language_info": {
   "codemirror_mode": {
    "name": "ipython",
    "version": 3
   },
   "file_extension": ".py",
   "mimetype": "text/x-python",
   "name": "python",
   "nbconvert_exporter": "python",
   "pygments_lexer": "ipython3",
   "version": "3.10.12"
  }
 },
 "nbformat": 4,
 "nbformat_minor": 5
}
